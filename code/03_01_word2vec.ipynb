{
 "cells": [
  {
   "cell_type": "markdown",
   "metadata": {
    "collapsed": true,
    "pycharm": {
     "name": "#%% md\n"
    }
   },
   "source": [
    "# Word2Vec baseline\n",
    "\n",
    "Here we train a word2vec model to predict note helpfulness\n",
    "\n",
    "**Credit:** Notebook was initially written by Michael Wang (@mwang14), and is merely\n",
    "adapted here"
   ]
  },
  {
   "cell_type": "code",
   "execution_count": 1,
   "outputs": [
    {
     "name": "stderr",
     "output_type": "stream",
     "text": [
      "/Users/peterdeweirdt/opt/miniconda3/envs/6.864-project/lib/python3.8/site-packages/gensim/similarities/__init__.py:15: UserWarning: The gensim.similarities.levenshtein submodule is disabled, because the optional Levenshtein package <https://pypi.org/project/python-Levenshtein/> is unavailable. Install Levenhstein (e.g. `pip install python-Levenshtein`) to suppress this warning.\n",
      "  warnings.warn(msg)\n"
     ]
    }
   ],
   "source": [
    "import pandas as pd\n",
    "import gensim.downloader as api\n",
    "from gensim.models.word2vec import Word2Vec\n",
    "from collections import OrderedDict\n",
    "from tqdm import tqdm\n",
    "import nltk\n",
    "import numpy as np\n",
    "from sklearn.linear_model import LogisticRegression\n",
    "\n",
    "\n",
    "from core_functions import evaluate_model"
   ],
   "metadata": {
    "collapsed": false,
    "pycharm": {
     "name": "#%%\n"
    }
   }
  },
  {
   "cell_type": "code",
   "execution_count": 2,
   "outputs": [],
   "source": [
    "train_data = pd.read_csv('../data/processed/training_data.csv')\n",
    "val_data = pd.read_csv('../data/processed/val_data.csv')\n",
    "test_data = pd.read_csv('../data/processed/test_data.csv')"
   ],
   "metadata": {
    "collapsed": false,
    "pycharm": {
     "name": "#%%\n"
    }
   }
  },
  {
   "cell_type": "markdown",
   "source": [
    "### Word2Vec Featurization\n",
    "\n",
    "We'll load a pre-trained Word2Vec model from gensim. We see that the most similar\n",
    "words make intuitive sense"
   ],
   "metadata": {
    "collapsed": false,
    "pycharm": {
     "name": "#%% md\n"
    }
   }
  },
  {
   "cell_type": "code",
   "execution_count": 3,
   "outputs": [],
   "source": [
    "corpus = api.load('text8')\n",
    "wv_model = Word2Vec(corpus, workers=3)"
   ],
   "metadata": {
    "collapsed": false,
    "pycharm": {
     "name": "#%%\n"
    }
   }
  },
  {
   "cell_type": "code",
   "execution_count": 4,
   "outputs": [
    {
     "name": "stdout",
     "output_type": "stream",
     "text": [
      "[('trees', 0.6944294571876526), ('leaf', 0.6876848340034485), ('bark', 0.651253879070282), ('flower', 0.6359479427337646), ('fruit', 0.6223763823509216), ('bird', 0.6040874719619751), ('avl', 0.6036485433578491), ('cactus', 0.5858634114265442), ('beetle', 0.5834983587265015), ('vault', 0.5765056014060974)]\n"
     ]
    }
   ],
   "source": [
    "sims = wv_model.wv.most_similar('tree', topn=10)\n",
    "print(sims)"
   ],
   "metadata": {
    "collapsed": false,
    "pycharm": {
     "name": "#%%\n"
    }
   }
  },
  {
   "cell_type": "code",
   "execution_count": 5,
   "outputs": [],
   "source": [
    "datasets = OrderedDict([('train', {'notes': train_data.iloc[:,:22].drop_duplicates().reset_index(drop=True),\n",
    "                                   'notes_ratings': train_data}),\n",
    "                        ('val', {'notes': val_data.iloc[:, :22].drop_duplicates().reset_index(drop=True),\n",
    "                                 'notes_ratings': val_data}),\n",
    "                        ('test', {'notes': test_data.iloc[:, :22].drop_duplicates().reset_index(drop=True),\n",
    "                                  'notes_ratings': test_data})])"
   ],
   "metadata": {
    "collapsed": false,
    "pycharm": {
     "name": "#%%\n"
    }
   }
  },
  {
   "cell_type": "code",
   "execution_count": 6,
   "outputs": [
    {
     "name": "stderr",
     "output_type": "stream",
     "text": [
      "  0%|          | 0/3 [00:00<?, ?it/s]\n",
      "  0%|          | 0/8861 [00:00<?, ?it/s]\u001B[A\n",
      " 17%|█▋        | 1488/8861 [00:00<00:00, 14878.52it/s]\u001B[A\n",
      " 35%|███▍      | 3088/8861 [00:00<00:00, 15535.26it/s]\u001B[A\n",
      " 53%|█████▎    | 4686/8861 [00:00<00:00, 15736.66it/s]\u001B[A\n",
      " 71%|███████   | 6274/8861 [00:00<00:00, 15789.75it/s]\u001B[A\n",
      "100%|██████████| 8861/8861 [00:00<00:00, 15732.89it/s]\u001B[A\n",
      " 33%|███▎      | 1/3 [00:03<00:07,  3.64s/it]"
     ]
    },
    {
     "name": "stdout",
     "output_type": "stream",
     "text": [
      "train size 88185\n"
     ]
    },
    {
     "name": "stderr",
     "output_type": "stream",
     "text": [
      "\n",
      "100%|██████████| 1108/1108 [00:00<00:00, 15469.00it/s]\n",
      " 67%|██████▋   | 2/3 [00:04<00:01,  1.78s/it]"
     ]
    },
    {
     "name": "stdout",
     "output_type": "stream",
     "text": [
      "val size 11641\n"
     ]
    },
    {
     "name": "stderr",
     "output_type": "stream",
     "text": [
      "\n",
      "100%|██████████| 1108/1108 [00:00<00:00, 15327.22it/s]\n",
      "100%|██████████| 3/3 [00:04<00:00,  1.52s/it]"
     ]
    },
    {
     "name": "stdout",
     "output_type": "stream",
     "text": [
      "test size 10507\n"
     ]
    },
    {
     "name": "stderr",
     "output_type": "stream",
     "text": [
      "\n"
     ]
    }
   ],
   "source": [
    "def tokenize_text(text):\n",
    "    tokens = [w.lower() for w in nltk.word_tokenize(text)]\n",
    "    return tokens\n",
    "\n",
    "for name, data_dict in tqdm(datasets.items(), total=3):\n",
    "    notes_df = data_dict['notes']\n",
    "    notes_ratings_df = data_dict['notes_ratings']\n",
    "    tokenized_notes = [tokenize_text(text) for text in notes_df['summary']]\n",
    "    note_arrays = list()\n",
    "    for tokens in tqdm(tokenized_notes):\n",
    "        note_vectors = []\n",
    "        for t in tokens:\n",
    "            if wv_model.wv.__contains__(t):\n",
    "                note_vectors.append(wv_model.wv[t])\n",
    "        if len(note_vectors) > 0:\n",
    "            avg_note_vector = np.mean(note_vectors, axis=0)\n",
    "        else:\n",
    "            avg_note_vector = np.zeros(100)\n",
    "        note_arrays.append(avg_note_vector)\n",
    "\n",
    "    X_df = pd.DataFrame(np.array(note_arrays))\n",
    "    X_df['noteId'] = notes_df['noteId']\n",
    "    merged_X_df = X_df.merge(notes_ratings_df[['noteId', 'output', 'scaling']],\n",
    "                             how='inner', on='noteId')\n",
    "    X = merged_X_df.drop(['noteId', 'output', 'scaling'], axis=1)\n",
    "    datasets[name]['X'] = X\n",
    "    datasets[name]['Y'] = merged_X_df['output']\n",
    "    datasets[name]['scaling'] = merged_X_df['scaling']\n",
    "    datasets[name]['noteId'] = merged_X_df['noteId']\n",
    "    print(name, 'size', merged_X_df.shape[0])\n"
   ],
   "metadata": {
    "collapsed": false,
    "pycharm": {
     "name": "#%%\n"
    }
   }
  },
  {
   "cell_type": "code",
   "execution_count": 7,
   "outputs": [
    {
     "data": {
      "text/plain": "LogisticRegression(random_state=7)"
     },
     "execution_count": 7,
     "metadata": {},
     "output_type": "execute_result"
    }
   ],
   "source": [
    "model = LogisticRegression(random_state=7)\n",
    "model.fit(datasets['train']['X'], datasets['train']['Y'],\n",
    "          sample_weight=datasets['train']['scaling'])"
   ],
   "metadata": {
    "collapsed": false,
    "pycharm": {
     "name": "#%%\n"
    }
   }
  },
  {
   "cell_type": "code",
   "execution_count": 8,
   "outputs": [
    {
     "name": "stdout",
     "output_type": "stream",
     "text": [
      "train\n",
      "val\n",
      "test\n"
     ]
    }
   ],
   "source": [
    "for name, data_dict in datasets.items():\n",
    "    print(name)\n",
    "    predictions = model.predict(data_dict['X'])\n",
    "    p_hat = model.predict_proba(data_dict['X'])[:, 1]\n",
    "    observations = data_dict['Y']\n",
    "    scaling = data_dict['scaling']\n",
    "    performance_dict = evaluate_model(predictions, p_hat, observations,\n",
    "                                      scaling, name)\n",
    "    data_dict['Y_hat'] = predictions\n",
    "    data_dict['p_hat'] = p_hat\n",
    "    data_dict['performance'] = performance_dict"
   ],
   "metadata": {
    "collapsed": false,
    "pycharm": {
     "name": "#%%\n"
    }
   }
  },
  {
   "cell_type": "code",
   "execution_count": 9,
   "outputs": [
    {
     "data": {
      "text/plain": "(10507, 100)"
     },
     "execution_count": 9,
     "metadata": {},
     "output_type": "execute_result"
    }
   ],
   "source": [
    "data_dict['X'].shape"
   ],
   "metadata": {
    "collapsed": false,
    "pycharm": {
     "name": "#%%\n"
    }
   }
  },
  {
   "cell_type": "code",
   "execution_count": 9,
   "outputs": [
    {
     "data": {
      "text/plain": "   accuracy        f1  precision    recall   roc-auc  avg_precision   name\n0  0.652702  0.779890   0.658054  0.957092  0.618299       0.725287  train\n1  0.649907  0.776325   0.652287  0.958613  0.601198       0.693242    val\n2  0.646420  0.777300   0.652385  0.961378  0.614756       0.725418   test",
      "text/html": "<div>\n<style scoped>\n    .dataframe tbody tr th:only-of-type {\n        vertical-align: middle;\n    }\n\n    .dataframe tbody tr th {\n        vertical-align: top;\n    }\n\n    .dataframe thead th {\n        text-align: right;\n    }\n</style>\n<table border=\"1\" class=\"dataframe\">\n  <thead>\n    <tr style=\"text-align: right;\">\n      <th></th>\n      <th>accuracy</th>\n      <th>f1</th>\n      <th>precision</th>\n      <th>recall</th>\n      <th>roc-auc</th>\n      <th>avg_precision</th>\n      <th>name</th>\n    </tr>\n  </thead>\n  <tbody>\n    <tr>\n      <th>0</th>\n      <td>0.652702</td>\n      <td>0.779890</td>\n      <td>0.658054</td>\n      <td>0.957092</td>\n      <td>0.618299</td>\n      <td>0.725287</td>\n      <td>train</td>\n    </tr>\n    <tr>\n      <th>1</th>\n      <td>0.649907</td>\n      <td>0.776325</td>\n      <td>0.652287</td>\n      <td>0.958613</td>\n      <td>0.601198</td>\n      <td>0.693242</td>\n      <td>val</td>\n    </tr>\n    <tr>\n      <th>2</th>\n      <td>0.646420</td>\n      <td>0.777300</td>\n      <td>0.652385</td>\n      <td>0.961378</td>\n      <td>0.614756</td>\n      <td>0.725418</td>\n      <td>test</td>\n    </tr>\n  </tbody>\n</table>\n</div>"
     },
     "execution_count": 9,
     "metadata": {},
     "output_type": "execute_result"
    }
   ],
   "source": [
    "performance_metrics = []\n",
    "for name, data_dict in datasets.items():\n",
    "    performance_metrics.append(data_dict['performance'])\n",
    "performance_metrics_df = pd.DataFrame(performance_metrics)\n",
    "performance_metrics_df"
   ],
   "metadata": {
    "collapsed": false,
    "pycharm": {
     "name": "#%%\n"
    }
   }
  },
  {
   "cell_type": "markdown",
   "source": [
    "## Feature Importances"
   ],
   "metadata": {
    "collapsed": false,
    "pycharm": {
     "name": "#%% md\n"
    }
   }
  },
  {
   "cell_type": "code",
   "execution_count": 10,
   "outputs": [],
   "source": [
    "wv_vector_df = pd.DataFrame(wv_model.wv.vectors)\n",
    "wv_vector_df['label'] = np.asarray(wv_model.wv.index_to_key)\n"
   ],
   "metadata": {
    "collapsed": false,
    "pycharm": {
     "name": "#%%\n"
    }
   }
  },
  {
   "cell_type": "markdown",
   "source": [
    "### Most positive coefficient\n",
    "\n",
    "If we look at the highest coefficient in the model, we see words like election,\n",
    "elections are heavily down-weighted in the model"
   ],
   "metadata": {
    "collapsed": false,
    "pycharm": {
     "name": "#%% md\n"
    }
   }
  },
  {
   "cell_type": "code",
   "execution_count": 11,
   "outputs": [
    {
     "data": {
      "text/plain": "              label        24\n2327            iso -4.699834\n149               g -4.559182\n193   international -4.228397\n121               c -3.975081\n2117            bwv -3.869603\n271            isbn -3.742976\n2269      directory -3.672459\n296         written -3.650270\n582             com -3.513254\n2285           java -3.504974",
      "text/html": "<div>\n<style scoped>\n    .dataframe tbody tr th:only-of-type {\n        vertical-align: middle;\n    }\n\n    .dataframe tbody tr th {\n        vertical-align: top;\n    }\n\n    .dataframe thead th {\n        text-align: right;\n    }\n</style>\n<table border=\"1\" class=\"dataframe\">\n  <thead>\n    <tr style=\"text-align: right;\">\n      <th></th>\n      <th>label</th>\n      <th>24</th>\n    </tr>\n  </thead>\n  <tbody>\n    <tr>\n      <th>2327</th>\n      <td>iso</td>\n      <td>-4.699834</td>\n    </tr>\n    <tr>\n      <th>149</th>\n      <td>g</td>\n      <td>-4.559182</td>\n    </tr>\n    <tr>\n      <th>193</th>\n      <td>international</td>\n      <td>-4.228397</td>\n    </tr>\n    <tr>\n      <th>121</th>\n      <td>c</td>\n      <td>-3.975081</td>\n    </tr>\n    <tr>\n      <th>2117</th>\n      <td>bwv</td>\n      <td>-3.869603</td>\n    </tr>\n    <tr>\n      <th>271</th>\n      <td>isbn</td>\n      <td>-3.742976</td>\n    </tr>\n    <tr>\n      <th>2269</th>\n      <td>directory</td>\n      <td>-3.672459</td>\n    </tr>\n    <tr>\n      <th>296</th>\n      <td>written</td>\n      <td>-3.650270</td>\n    </tr>\n    <tr>\n      <th>582</th>\n      <td>com</td>\n      <td>-3.513254</td>\n    </tr>\n    <tr>\n      <th>2285</th>\n      <td>java</td>\n      <td>-3.504974</td>\n    </tr>\n  </tbody>\n</table>\n</div>"
     },
     "execution_count": 11,
     "metadata": {},
     "output_type": "execute_result"
    }
   ],
   "source": [
    "wv_vector_df.sort_values(model.coef_.argmax()).head(10)[['label', model.coef_.argmax()]]"
   ],
   "metadata": {
    "collapsed": false,
    "pycharm": {
     "name": "#%%\n"
    }
   }
  },
  {
   "cell_type": "code",
   "execution_count": 12,
   "outputs": [
    {
     "data": {
      "text/plain": "        label        24\n29        his  3.647378\n1439  prevent  3.723910\n39       were  3.834209\n40        has  3.943205\n377      took  4.049976\n383    having  4.314650\n588       our  4.416505\n48        had  5.116270\n38       have  6.274026\n43      their  6.395884",
      "text/html": "<div>\n<style scoped>\n    .dataframe tbody tr th:only-of-type {\n        vertical-align: middle;\n    }\n\n    .dataframe tbody tr th {\n        vertical-align: top;\n    }\n\n    .dataframe thead th {\n        text-align: right;\n    }\n</style>\n<table border=\"1\" class=\"dataframe\">\n  <thead>\n    <tr style=\"text-align: right;\">\n      <th></th>\n      <th>label</th>\n      <th>24</th>\n    </tr>\n  </thead>\n  <tbody>\n    <tr>\n      <th>29</th>\n      <td>his</td>\n      <td>3.647378</td>\n    </tr>\n    <tr>\n      <th>1439</th>\n      <td>prevent</td>\n      <td>3.723910</td>\n    </tr>\n    <tr>\n      <th>39</th>\n      <td>were</td>\n      <td>3.834209</td>\n    </tr>\n    <tr>\n      <th>40</th>\n      <td>has</td>\n      <td>3.943205</td>\n    </tr>\n    <tr>\n      <th>377</th>\n      <td>took</td>\n      <td>4.049976</td>\n    </tr>\n    <tr>\n      <th>383</th>\n      <td>having</td>\n      <td>4.314650</td>\n    </tr>\n    <tr>\n      <th>588</th>\n      <td>our</td>\n      <td>4.416505</td>\n    </tr>\n    <tr>\n      <th>48</th>\n      <td>had</td>\n      <td>5.116270</td>\n    </tr>\n    <tr>\n      <th>38</th>\n      <td>have</td>\n      <td>6.274026</td>\n    </tr>\n    <tr>\n      <th>43</th>\n      <td>their</td>\n      <td>6.395884</td>\n    </tr>\n  </tbody>\n</table>\n</div>"
     },
     "execution_count": 12,
     "metadata": {},
     "output_type": "execute_result"
    }
   ],
   "source": [
    "wv_vector_df.sort_values(model.coef_.argmax()).tail(10)[['label', model.coef_.argmax()]]"
   ],
   "metadata": {
    "collapsed": false,
    "pycharm": {
     "name": "#%%\n"
    }
   }
  },
  {
   "cell_type": "markdown",
   "source": [
    "### Most negative coefficient\n",
    "\n",
    "We see 'www' in with a strong negative weight for the most negative feature, suggesting\n",
    "the model is learning that links are typically helpful in notes."
   ],
   "metadata": {
    "collapsed": false,
    "pycharm": {
     "name": "#%% md\n"
    }
   }
  },
  {
   "cell_type": "code",
   "execution_count": 13,
   "outputs": [
    {
     "data": {
      "text/plain": "           label        33\n271         isbn -5.073486\n67           see -4.305952\n1126          ed -3.878332\n1052     derived -3.841801\n499            w -3.755247\n1767   testament -3.612944\n77       between -3.454426\n1654  dictionary -3.435673\n62          into -3.369842\n713    classical -3.346953",
      "text/html": "<div>\n<style scoped>\n    .dataframe tbody tr th:only-of-type {\n        vertical-align: middle;\n    }\n\n    .dataframe tbody tr th {\n        vertical-align: top;\n    }\n\n    .dataframe thead th {\n        text-align: right;\n    }\n</style>\n<table border=\"1\" class=\"dataframe\">\n  <thead>\n    <tr style=\"text-align: right;\">\n      <th></th>\n      <th>label</th>\n      <th>33</th>\n    </tr>\n  </thead>\n  <tbody>\n    <tr>\n      <th>271</th>\n      <td>isbn</td>\n      <td>-5.073486</td>\n    </tr>\n    <tr>\n      <th>67</th>\n      <td>see</td>\n      <td>-4.305952</td>\n    </tr>\n    <tr>\n      <th>1126</th>\n      <td>ed</td>\n      <td>-3.878332</td>\n    </tr>\n    <tr>\n      <th>1052</th>\n      <td>derived</td>\n      <td>-3.841801</td>\n    </tr>\n    <tr>\n      <th>499</th>\n      <td>w</td>\n      <td>-3.755247</td>\n    </tr>\n    <tr>\n      <th>1767</th>\n      <td>testament</td>\n      <td>-3.612944</td>\n    </tr>\n    <tr>\n      <th>77</th>\n      <td>between</td>\n      <td>-3.454426</td>\n    </tr>\n    <tr>\n      <th>1654</th>\n      <td>dictionary</td>\n      <td>-3.435673</td>\n    </tr>\n    <tr>\n      <th>62</th>\n      <td>into</td>\n      <td>-3.369842</td>\n    </tr>\n    <tr>\n      <th>713</th>\n      <td>classical</td>\n      <td>-3.346953</td>\n    </tr>\n  </tbody>\n</table>\n</div>"
     },
     "execution_count": 13,
     "metadata": {},
     "output_type": "execute_result"
    }
   ],
   "source": [
    "wv_vector_df.sort_values(model.coef_.argmin()).head(10)[['label', model.coef_.argmin()]]"
   ],
   "metadata": {
    "collapsed": false,
    "pycharm": {
     "name": "#%%\n"
    }
   }
  },
  {
   "cell_type": "code",
   "execution_count": 14,
   "outputs": [
    {
     "data": {
      "text/plain": "          label        33\n448     foreign  3.782907\n233      public  3.798503\n1947      drugs  3.800926\n392     islands  3.821885\n1732       care  3.842179\n888      enough  3.892266\n929   difficult  3.950784\n519       prime  3.980305\n1807       risk  4.146846\n53         been  4.360452",
      "text/html": "<div>\n<style scoped>\n    .dataframe tbody tr th:only-of-type {\n        vertical-align: middle;\n    }\n\n    .dataframe tbody tr th {\n        vertical-align: top;\n    }\n\n    .dataframe thead th {\n        text-align: right;\n    }\n</style>\n<table border=\"1\" class=\"dataframe\">\n  <thead>\n    <tr style=\"text-align: right;\">\n      <th></th>\n      <th>label</th>\n      <th>33</th>\n    </tr>\n  </thead>\n  <tbody>\n    <tr>\n      <th>448</th>\n      <td>foreign</td>\n      <td>3.782907</td>\n    </tr>\n    <tr>\n      <th>233</th>\n      <td>public</td>\n      <td>3.798503</td>\n    </tr>\n    <tr>\n      <th>1947</th>\n      <td>drugs</td>\n      <td>3.800926</td>\n    </tr>\n    <tr>\n      <th>392</th>\n      <td>islands</td>\n      <td>3.821885</td>\n    </tr>\n    <tr>\n      <th>1732</th>\n      <td>care</td>\n      <td>3.842179</td>\n    </tr>\n    <tr>\n      <th>888</th>\n      <td>enough</td>\n      <td>3.892266</td>\n    </tr>\n    <tr>\n      <th>929</th>\n      <td>difficult</td>\n      <td>3.950784</td>\n    </tr>\n    <tr>\n      <th>519</th>\n      <td>prime</td>\n      <td>3.980305</td>\n    </tr>\n    <tr>\n      <th>1807</th>\n      <td>risk</td>\n      <td>4.146846</td>\n    </tr>\n    <tr>\n      <th>53</th>\n      <td>been</td>\n      <td>4.360452</td>\n    </tr>\n  </tbody>\n</table>\n</div>"
     },
     "execution_count": 14,
     "metadata": {},
     "output_type": "execute_result"
    }
   ],
   "source": [
    "wv_vector_df.sort_values(model.coef_.argmin()).tail(10)[['label', model.coef_.argmin()]]"
   ],
   "metadata": {
    "collapsed": false,
    "pycharm": {
     "name": "#%%\n"
    }
   }
  },
  {
   "cell_type": "code",
   "execution_count": 14,
   "outputs": [],
   "source": [],
   "metadata": {
    "collapsed": false,
    "pycharm": {
     "name": "#%%\n"
    }
   }
  }
 ],
 "metadata": {
  "kernelspec": {
   "display_name": "Python 3",
   "language": "python",
   "name": "python3"
  },
  "language_info": {
   "codemirror_mode": {
    "name": "ipython",
    "version": 2
   },
   "file_extension": ".py",
   "mimetype": "text/x-python",
   "name": "python",
   "nbconvert_exporter": "python",
   "pygments_lexer": "ipython2",
   "version": "2.7.6"
  }
 },
 "nbformat": 4,
 "nbformat_minor": 0
}