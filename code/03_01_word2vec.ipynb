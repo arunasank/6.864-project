{
 "cells": [
  {
   "cell_type": "markdown",
   "metadata": {
    "collapsed": true,
    "pycharm": {
     "name": "#%% md\n"
    }
   },
   "source": [
    "# Word2Vec baseline\n",
    "\n",
    "Here we train a word2vec model to predict note helpfulness\n",
    "\n",
    "**Credit:** Notebook was initially written by Michael Wang (@mwang14), and is merely\n",
    "adapted here"
   ]
  },
  {
   "cell_type": "code",
   "execution_count": 11,
   "outputs": [],
   "source": [
    "import pandas as pd\n",
    "import gensim.downloader as api\n",
    "from gensim.models.word2vec import Word2Vec\n",
    "from collections import OrderedDict\n",
    "from tqdm import tqdm\n",
    "import nltk\n",
    "import numpy as np\n",
    "from sklearn.linear_model import LogisticRegression\n",
    "\n",
    "\n",
    "from core_functions import evaluate_model"
   ],
   "metadata": {
    "collapsed": false,
    "pycharm": {
     "name": "#%%\n"
    }
   }
  },
  {
   "cell_type": "code",
   "execution_count": 2,
   "outputs": [],
   "source": [
    "train_data = pd.read_csv('../data/processed/training_data.csv')\n",
    "val_data = pd.read_csv('../data/processed/val_data.csv')\n",
    "test_data = pd.read_csv('../data/processed/test_data.csv')"
   ],
   "metadata": {
    "collapsed": false,
    "pycharm": {
     "name": "#%%\n"
    }
   }
  },
  {
   "cell_type": "markdown",
   "source": [
    "### Word2Vec Featurization\n",
    "\n",
    "We'll load a pre-trained Word2Vec model from gensim. We see that the most similar\n",
    "words make intuitive sense"
   ],
   "metadata": {
    "collapsed": false,
    "pycharm": {
     "name": "#%% md\n"
    }
   }
  },
  {
   "cell_type": "code",
   "execution_count": 64,
   "outputs": [],
   "source": [
    "corpus = api.load('text8')\n",
    "wv_model = Word2Vec(corpus, workers=3)"
   ],
   "metadata": {
    "collapsed": false,
    "pycharm": {
     "name": "#%%\n"
    }
   }
  },
  {
   "cell_type": "code",
   "execution_count": 4,
   "outputs": [
    {
     "name": "stdout",
     "output_type": "stream",
     "text": [
      "[('trees', 0.7089941501617432), ('leaf', 0.6803917288780212), ('bark', 0.6572981476783752), ('cactus', 0.621181845664978), ('avl', 0.6153997182846069), ('flower', 0.6134554743766785), ('bird', 0.6078888773918152), ('fruit', 0.599010705947876), ('nest', 0.5607653260231018), ('whale', 0.5602169632911682)]\n"
     ]
    }
   ],
   "source": [
    "sims = wv_model.wv.most_similar('tree', topn=10)\n",
    "print(sims)"
   ],
   "metadata": {
    "collapsed": false,
    "pycharm": {
     "name": "#%%\n"
    }
   }
  },
  {
   "cell_type": "code",
   "execution_count": 7,
   "outputs": [],
   "source": [
    "datasets = OrderedDict([('train', {'notes': train_data.iloc[:,:22].drop_duplicates().reset_index(drop=True),\n",
    "                                   'notes_ratings': train_data}),\n",
    "                        ('val', {'notes': val_data.iloc[:, :22].drop_duplicates().reset_index(drop=True),\n",
    "                                 'notes_ratings': val_data}),\n",
    "                        ('test', {'notes': test_data.iloc[:, :22].drop_duplicates().reset_index(drop=True),\n",
    "                                  'notes_ratings': test_data})])"
   ],
   "metadata": {
    "collapsed": false,
    "pycharm": {
     "name": "#%%\n"
    }
   }
  },
  {
   "cell_type": "code",
   "execution_count": 25,
   "outputs": [
    {
     "name": "stderr",
     "output_type": "stream",
     "text": [
      "  0%|          | 0/3 [00:00<?, ?it/s]\n",
      "  0%|          | 0/8861 [00:00<?, ?it/s]\u001B[A\n",
      " 13%|█▎        | 1172/8861 [00:00<00:00, 11713.20it/s]\u001B[A\n",
      " 31%|███       | 2704/8861 [00:00<00:00, 13831.11it/s]\u001B[A\n",
      " 49%|████▊     | 4309/8861 [00:00<00:00, 14842.69it/s]\u001B[A\n",
      " 66%|██████▌   | 5855/8861 [00:00<00:00, 15085.63it/s]\u001B[A\n",
      " 83%|████████▎ | 7364/8861 [00:00<00:00, 14927.08it/s]\u001B[A\n",
      "100%|██████████| 8861/8861 [00:00<00:00, 14551.83it/s]\u001B[A\n",
      " 33%|███▎      | 1/3 [00:04<00:08,  4.21s/it]"
     ]
    },
    {
     "name": "stdout",
     "output_type": "stream",
     "text": [
      "train size 88185\n"
     ]
    },
    {
     "name": "stderr",
     "output_type": "stream",
     "text": [
      "\n",
      "100%|██████████| 1108/1108 [00:00<00:00, 15096.00it/s]\n",
      " 67%|██████▋   | 2/3 [00:04<00:02,  2.02s/it]"
     ]
    },
    {
     "name": "stdout",
     "output_type": "stream",
     "text": [
      "val size 11641\n"
     ]
    },
    {
     "name": "stderr",
     "output_type": "stream",
     "text": [
      "\n",
      "100%|██████████| 1108/1108 [00:00<00:00, 13598.11it/s]\n",
      "100%|██████████| 3/3 [00:05<00:00,  1.73s/it]"
     ]
    },
    {
     "name": "stdout",
     "output_type": "stream",
     "text": [
      "test size 10507\n"
     ]
    },
    {
     "name": "stderr",
     "output_type": "stream",
     "text": [
      "\n"
     ]
    }
   ],
   "source": [
    "def tokenize_text(text):\n",
    "    tokens = [w.lower() for w in nltk.word_tokenize(text)]\n",
    "    return tokens\n",
    "\n",
    "for name, data_dict in tqdm(datasets.items(), total=3):\n",
    "    notes_df = data_dict['notes']\n",
    "    notes_ratings_df = data_dict['notes_ratings']\n",
    "    tokenized_notes = [tokenize_text(text) for text in notes_df['summary']]\n",
    "    note_arrays = list()\n",
    "    for tokens in tqdm(tokenized_notes):\n",
    "        note_vectors = []\n",
    "        for t in tokens:\n",
    "            if wv_model.wv.__contains__(t):\n",
    "                note_vectors.append(wv_model.wv[t])\n",
    "        if len(note_vectors) > 0:\n",
    "            avg_note_vector = np.mean(note_vectors, axis=0)\n",
    "        else:\n",
    "            avg_note_vector = np.zeros(100)\n",
    "        note_arrays.append(avg_note_vector)\n",
    "\n",
    "    X_df = pd.DataFrame(np.array(note_arrays))\n",
    "    X_df['noteId'] = notes_df['noteId']\n",
    "    merged_X_df = X_df.merge(notes_ratings_df[['noteId', 'output', 'scaling']],\n",
    "                             how='inner', on='noteId')\n",
    "    X = merged_X_df.drop(['noteId', 'output', 'scaling'], axis=1)\n",
    "    datasets[name]['X'] = X\n",
    "    datasets[name]['Y'] = merged_X_df['output']\n",
    "    datasets[name]['scaling'] = merged_X_df['scaling']\n",
    "    datasets[name]['noteId'] = merged_X_df['noteId']\n",
    "    print(name, 'size', merged_X_df.shape[0])\n"
   ],
   "metadata": {
    "collapsed": false,
    "pycharm": {
     "name": "#%%\n"
    }
   }
  },
  {
   "cell_type": "code",
   "execution_count": 31,
   "outputs": [
    {
     "data": {
      "text/plain": "LogisticRegression(random_state=7)"
     },
     "execution_count": 31,
     "metadata": {},
     "output_type": "execute_result"
    }
   ],
   "source": [
    "model = LogisticRegression(random_state=7)\n",
    "model.fit(datasets['train']['X'], datasets['train']['Y'],\n",
    "          sample_weight=datasets['train']['scaling'])"
   ],
   "metadata": {
    "collapsed": false,
    "pycharm": {
     "name": "#%%\n"
    }
   }
  },
  {
   "cell_type": "code",
   "execution_count": 58,
   "outputs": [
    {
     "name": "stdout",
     "output_type": "stream",
     "text": [
      "train\n",
      "accuracy\n",
      "f1\n",
      "precision\n",
      "recall\n",
      "roc-auc\n",
      "avg_precision\n",
      "val\n",
      "accuracy\n",
      "f1\n",
      "precision\n",
      "recall\n",
      "roc-auc\n",
      "avg_precision\n",
      "test\n",
      "accuracy\n",
      "f1\n",
      "precision\n",
      "recall\n",
      "roc-auc\n",
      "avg_precision\n"
     ]
    }
   ],
   "source": [
    "for name, data_dict in datasets.items():\n",
    "    print(name)\n",
    "    predictions = model.predict(data_dict['X'])\n",
    "    p_hat = model.predict_proba(data_dict['X'])[:, 1]\n",
    "    observations = data_dict['Y']\n",
    "    scaling = data_dict['scaling']\n",
    "    performance_dict = evaluate_model(predictions, p_hat, observations,\n",
    "                                      scaling, name)\n",
    "    data_dict['Y_hat'] = predictions\n",
    "    data_dict['p_hat'] = p_hat\n",
    "    data_dict['performance'] = performance_dict"
   ],
   "metadata": {
    "collapsed": false,
    "pycharm": {
     "name": "#%%\n"
    }
   }
  },
  {
   "cell_type": "code",
   "execution_count": 60,
   "outputs": [
    {
     "data": {
      "text/plain": "   accuracy        f1  precision    recall   roc-auc  avg_precision   name\n0  0.651488  0.779139   0.657384  0.956246  0.618056       0.724974  train\n1  0.646021  0.774362   0.649620  0.958395  0.600257       0.695015    val\n2  0.647839  0.778194   0.653135  0.962484  0.613216       0.726344   test",
      "text/html": "<div>\n<style scoped>\n    .dataframe tbody tr th:only-of-type {\n        vertical-align: middle;\n    }\n\n    .dataframe tbody tr th {\n        vertical-align: top;\n    }\n\n    .dataframe thead th {\n        text-align: right;\n    }\n</style>\n<table border=\"1\" class=\"dataframe\">\n  <thead>\n    <tr style=\"text-align: right;\">\n      <th></th>\n      <th>accuracy</th>\n      <th>f1</th>\n      <th>precision</th>\n      <th>recall</th>\n      <th>roc-auc</th>\n      <th>avg_precision</th>\n      <th>name</th>\n    </tr>\n  </thead>\n  <tbody>\n    <tr>\n      <th>0</th>\n      <td>0.651488</td>\n      <td>0.779139</td>\n      <td>0.657384</td>\n      <td>0.956246</td>\n      <td>0.618056</td>\n      <td>0.724974</td>\n      <td>train</td>\n    </tr>\n    <tr>\n      <th>1</th>\n      <td>0.646021</td>\n      <td>0.774362</td>\n      <td>0.649620</td>\n      <td>0.958395</td>\n      <td>0.600257</td>\n      <td>0.695015</td>\n      <td>val</td>\n    </tr>\n    <tr>\n      <th>2</th>\n      <td>0.647839</td>\n      <td>0.778194</td>\n      <td>0.653135</td>\n      <td>0.962484</td>\n      <td>0.613216</td>\n      <td>0.726344</td>\n      <td>test</td>\n    </tr>\n  </tbody>\n</table>\n</div>"
     },
     "execution_count": 60,
     "metadata": {},
     "output_type": "execute_result"
    }
   ],
   "source": [
    "performance_metrics = []\n",
    "for name, data_dict in datasets.items():\n",
    "    performance_metrics.append(data_dict['performance'])\n",
    "performance_metrics_df = pd.DataFrame(performance_metrics)\n",
    "performance_metrics_df"
   ],
   "metadata": {
    "collapsed": false,
    "pycharm": {
     "name": "#%%\n"
    }
   }
  },
  {
   "cell_type": "markdown",
   "source": [
    "## Feature Importances"
   ],
   "metadata": {
    "collapsed": false,
    "pycharm": {
     "name": "#%% md\n"
    }
   }
  },
  {
   "cell_type": "code",
   "execution_count": 72,
   "outputs": [],
   "source": [
    "wv_vector_df = pd.DataFrame(wv_model.wv.vectors)\n",
    "wv_vector_df['label'] = np.asarray(wv_model.wv.index_to_key)\n"
   ],
   "metadata": {
    "collapsed": false,
    "pycharm": {
     "name": "#%%\n"
    }
   }
  },
  {
   "cell_type": "markdown",
   "source": [
    "### Most positive coefficient\n",
    "\n",
    "If we look at the highest coefficient in the model, we see words like election,\n",
    "elections are heavily down-weighted in the model"
   ],
   "metadata": {
    "collapsed": false,
    "pycharm": {
     "name": "#%% md\n"
    }
   }
  },
  {
   "cell_type": "code",
   "execution_count": 74,
   "outputs": [
    {
     "data": {
      "text/plain": "          label        74\n743    election -6.899180\n920   elections -6.662499\n396        days -6.032875\n445      rights -5.748539\n812      months -5.572523\n1317      hours -5.531180\n80        years -5.365267\n1996      weeks -5.199754\n609      season -5.141959\n48          had -5.022526",
      "text/html": "<div>\n<style scoped>\n    .dataframe tbody tr th:only-of-type {\n        vertical-align: middle;\n    }\n\n    .dataframe tbody tr th {\n        vertical-align: top;\n    }\n\n    .dataframe thead th {\n        text-align: right;\n    }\n</style>\n<table border=\"1\" class=\"dataframe\">\n  <thead>\n    <tr style=\"text-align: right;\">\n      <th></th>\n      <th>label</th>\n      <th>74</th>\n    </tr>\n  </thead>\n  <tbody>\n    <tr>\n      <th>743</th>\n      <td>election</td>\n      <td>-6.899180</td>\n    </tr>\n    <tr>\n      <th>920</th>\n      <td>elections</td>\n      <td>-6.662499</td>\n    </tr>\n    <tr>\n      <th>396</th>\n      <td>days</td>\n      <td>-6.032875</td>\n    </tr>\n    <tr>\n      <th>445</th>\n      <td>rights</td>\n      <td>-5.748539</td>\n    </tr>\n    <tr>\n      <th>812</th>\n      <td>months</td>\n      <td>-5.572523</td>\n    </tr>\n    <tr>\n      <th>1317</th>\n      <td>hours</td>\n      <td>-5.531180</td>\n    </tr>\n    <tr>\n      <th>80</th>\n      <td>years</td>\n      <td>-5.365267</td>\n    </tr>\n    <tr>\n      <th>1996</th>\n      <td>weeks</td>\n      <td>-5.199754</td>\n    </tr>\n    <tr>\n      <th>609</th>\n      <td>season</td>\n      <td>-5.141959</td>\n    </tr>\n    <tr>\n      <th>48</th>\n      <td>had</td>\n      <td>-5.022526</td>\n    </tr>\n  </tbody>\n</table>\n</div>"
     },
     "execution_count": 74,
     "metadata": {},
     "output_type": "execute_result"
    }
   ],
   "source": [
    "wv_vector_df.sort_values(model.coef_.argmax()).head(10)[['label', model.coef_.argmax()]]"
   ],
   "metadata": {
    "collapsed": false,
    "pycharm": {
     "name": "#%%\n"
    }
   }
  },
  {
   "cell_type": "code",
   "execution_count": 75,
   "outputs": [
    {
     "data": {
      "text/plain": "         label        74\n160      based  3.241172\n2787   cuisine  3.304648\n2696      verb  3.336894\n1122  composer  3.357516\n967    variety  3.364342\n2460   painter  3.368794\n837      dutch  3.412879\n1669  hydrogen  3.803331\n1279      acid  4.240408\n541    italian  4.411085",
      "text/html": "<div>\n<style scoped>\n    .dataframe tbody tr th:only-of-type {\n        vertical-align: middle;\n    }\n\n    .dataframe tbody tr th {\n        vertical-align: top;\n    }\n\n    .dataframe thead th {\n        text-align: right;\n    }\n</style>\n<table border=\"1\" class=\"dataframe\">\n  <thead>\n    <tr style=\"text-align: right;\">\n      <th></th>\n      <th>label</th>\n      <th>74</th>\n    </tr>\n  </thead>\n  <tbody>\n    <tr>\n      <th>160</th>\n      <td>based</td>\n      <td>3.241172</td>\n    </tr>\n    <tr>\n      <th>2787</th>\n      <td>cuisine</td>\n      <td>3.304648</td>\n    </tr>\n    <tr>\n      <th>2696</th>\n      <td>verb</td>\n      <td>3.336894</td>\n    </tr>\n    <tr>\n      <th>1122</th>\n      <td>composer</td>\n      <td>3.357516</td>\n    </tr>\n    <tr>\n      <th>967</th>\n      <td>variety</td>\n      <td>3.364342</td>\n    </tr>\n    <tr>\n      <th>2460</th>\n      <td>painter</td>\n      <td>3.368794</td>\n    </tr>\n    <tr>\n      <th>837</th>\n      <td>dutch</td>\n      <td>3.412879</td>\n    </tr>\n    <tr>\n      <th>1669</th>\n      <td>hydrogen</td>\n      <td>3.803331</td>\n    </tr>\n    <tr>\n      <th>1279</th>\n      <td>acid</td>\n      <td>4.240408</td>\n    </tr>\n    <tr>\n      <th>541</th>\n      <td>italian</td>\n      <td>4.411085</td>\n    </tr>\n  </tbody>\n</table>\n</div>"
     },
     "execution_count": 75,
     "metadata": {},
     "output_type": "execute_result"
    }
   ],
   "source": [
    "wv_vector_df.sort_values(model.coef_.argmax()).tail(10)[['label', model.coef_.argmax()]]"
   ],
   "metadata": {
    "collapsed": false,
    "pycharm": {
     "name": "#%%\n"
    }
   }
  },
  {
   "cell_type": "markdown",
   "source": [
    "### Most negative coefficient\n",
    "\n",
    "We see 'www' in with a strong negative weight for the most negative feature, suggesting\n",
    "the model is learning that links are typically helpful in notes."
   ],
   "metadata": {
    "collapsed": false,
    "pycharm": {
     "name": "#%% md\n"
    }
   }
  },
  {
   "cell_type": "code",
   "execution_count": 77,
   "outputs": [
    {
     "data": {
      "text/plain": "         label        19\n321         km -4.762671\n455   minister -4.423274\n303        air -4.380177\n158      links -4.103750\n555        est -4.064242\n1153       www -3.929491\n2112    marine -3.911918\n1637   zealand -3.803357\n1487        iv -3.780884\n392    islands -3.748726",
      "text/html": "<div>\n<style scoped>\n    .dataframe tbody tr th:only-of-type {\n        vertical-align: middle;\n    }\n\n    .dataframe tbody tr th {\n        vertical-align: top;\n    }\n\n    .dataframe thead th {\n        text-align: right;\n    }\n</style>\n<table border=\"1\" class=\"dataframe\">\n  <thead>\n    <tr style=\"text-align: right;\">\n      <th></th>\n      <th>label</th>\n      <th>19</th>\n    </tr>\n  </thead>\n  <tbody>\n    <tr>\n      <th>321</th>\n      <td>km</td>\n      <td>-4.762671</td>\n    </tr>\n    <tr>\n      <th>455</th>\n      <td>minister</td>\n      <td>-4.423274</td>\n    </tr>\n    <tr>\n      <th>303</th>\n      <td>air</td>\n      <td>-4.380177</td>\n    </tr>\n    <tr>\n      <th>158</th>\n      <td>links</td>\n      <td>-4.103750</td>\n    </tr>\n    <tr>\n      <th>555</th>\n      <td>est</td>\n      <td>-4.064242</td>\n    </tr>\n    <tr>\n      <th>1153</th>\n      <td>www</td>\n      <td>-3.929491</td>\n    </tr>\n    <tr>\n      <th>2112</th>\n      <td>marine</td>\n      <td>-3.911918</td>\n    </tr>\n    <tr>\n      <th>1637</th>\n      <td>zealand</td>\n      <td>-3.803357</td>\n    </tr>\n    <tr>\n      <th>1487</th>\n      <td>iv</td>\n      <td>-3.780884</td>\n    </tr>\n    <tr>\n      <th>392</th>\n      <td>islands</td>\n      <td>-3.748726</td>\n    </tr>\n  </tbody>\n</table>\n</div>"
     },
     "execution_count": 77,
     "metadata": {},
     "output_type": "execute_result"
    }
   ],
   "source": [
    "wv_vector_df.sort_values(model.coef_.argmin()).head(10)[['label', model.coef_.argmin()]]"
   ],
   "metadata": {
    "collapsed": false,
    "pycharm": {
     "name": "#%%\n"
    }
   }
  },
  {
   "cell_type": "code",
   "execution_count": 78,
   "outputs": [
    {
     "data": {
      "text/plain": "         label        19\n2419  audience  3.201761\n168        she  3.208400\n45       first  3.241337\n276      house  3.298155\n245        old  3.473671\n57         new  3.582438\n639    african  3.713840\n35          he  3.745849\n56         who  4.027489\n27        from  4.202450",
      "text/html": "<div>\n<style scoped>\n    .dataframe tbody tr th:only-of-type {\n        vertical-align: middle;\n    }\n\n    .dataframe tbody tr th {\n        vertical-align: top;\n    }\n\n    .dataframe thead th {\n        text-align: right;\n    }\n</style>\n<table border=\"1\" class=\"dataframe\">\n  <thead>\n    <tr style=\"text-align: right;\">\n      <th></th>\n      <th>label</th>\n      <th>19</th>\n    </tr>\n  </thead>\n  <tbody>\n    <tr>\n      <th>2419</th>\n      <td>audience</td>\n      <td>3.201761</td>\n    </tr>\n    <tr>\n      <th>168</th>\n      <td>she</td>\n      <td>3.208400</td>\n    </tr>\n    <tr>\n      <th>45</th>\n      <td>first</td>\n      <td>3.241337</td>\n    </tr>\n    <tr>\n      <th>276</th>\n      <td>house</td>\n      <td>3.298155</td>\n    </tr>\n    <tr>\n      <th>245</th>\n      <td>old</td>\n      <td>3.473671</td>\n    </tr>\n    <tr>\n      <th>57</th>\n      <td>new</td>\n      <td>3.582438</td>\n    </tr>\n    <tr>\n      <th>639</th>\n      <td>african</td>\n      <td>3.713840</td>\n    </tr>\n    <tr>\n      <th>35</th>\n      <td>he</td>\n      <td>3.745849</td>\n    </tr>\n    <tr>\n      <th>56</th>\n      <td>who</td>\n      <td>4.027489</td>\n    </tr>\n    <tr>\n      <th>27</th>\n      <td>from</td>\n      <td>4.202450</td>\n    </tr>\n  </tbody>\n</table>\n</div>"
     },
     "execution_count": 78,
     "metadata": {},
     "output_type": "execute_result"
    }
   ],
   "source": [
    "wv_vector_df.sort_values(model.coef_.argmin()).tail(10)[['label', model.coef_.argmin()]]"
   ],
   "metadata": {
    "collapsed": false,
    "pycharm": {
     "name": "#%%\n"
    }
   }
  },
  {
   "cell_type": "code",
   "execution_count": null,
   "outputs": [],
   "source": [],
   "metadata": {
    "collapsed": false,
    "pycharm": {
     "name": "#%%\n"
    }
   }
  }
 ],
 "metadata": {
  "kernelspec": {
   "display_name": "Python 3",
   "language": "python",
   "name": "python3"
  },
  "language_info": {
   "codemirror_mode": {
    "name": "ipython",
    "version": 2
   },
   "file_extension": ".py",
   "mimetype": "text/x-python",
   "name": "python",
   "nbconvert_exporter": "python",
   "pygments_lexer": "ipython2",
   "version": "2.7.6"
  }
 },
 "nbformat": 4,
 "nbformat_minor": 0
}