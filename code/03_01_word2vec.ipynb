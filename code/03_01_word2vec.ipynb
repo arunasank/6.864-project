{
 "cells": [
  {
   "cell_type": "markdown",
   "metadata": {
    "collapsed": true,
    "pycharm": {
     "name": "#%% md\n"
    }
   },
   "source": [
    "# Word2Vec baseline\n",
    "\n",
    "Here we train a word2vec model to predict note helpfulness\n",
    "\n",
    "**Credit:** Notebook was initially written by Michael Wang (@mwang14), and is merely\n",
    "adapted here"
   ]
  },
  {
   "cell_type": "code",
   "execution_count": 37,
   "outputs": [],
   "source": [
    "import matplotlib.pyplot as plt\n",
    "import pandas as pd\n",
    "import gensim.downloader as api\n",
    "from gensim.models.word2vec import Word2Vec\n",
    "from collections import OrderedDict\n",
    "from tqdm import tqdm\n",
    "import nltk\n",
    "import numpy as np\n",
    "from sklearn.linear_model import LogisticRegression\n",
    "import seaborn as sns\n",
    "import gpplot\n",
    "\n",
    "\n",
    "from core_functions import evaluate_model"
   ],
   "metadata": {
    "collapsed": false,
    "pycharm": {
     "name": "#%%\n"
    }
   }
  },
  {
   "cell_type": "code",
   "execution_count": 2,
   "outputs": [],
   "source": [
    "train_data = pd.read_csv('../data/processed/training_data.csv')\n",
    "val_data = pd.read_csv('../data/processed/val_data.csv')\n",
    "test_data = pd.read_csv('../data/processed/test_data.csv')"
   ],
   "metadata": {
    "collapsed": false,
    "pycharm": {
     "name": "#%%\n"
    }
   }
  },
  {
   "cell_type": "markdown",
   "source": [
    "### Word2Vec Featurization\n",
    "\n",
    "We'll load a pre-trained Word2Vec model from gensim. We see that the most similar\n",
    "words make intuitive sense"
   ],
   "metadata": {
    "collapsed": false,
    "pycharm": {
     "name": "#%% md\n"
    }
   }
  },
  {
   "cell_type": "code",
   "execution_count": 3,
   "outputs": [],
   "source": [
    "corpus = api.load('text8')\n",
    "wv_model = Word2Vec(corpus, workers=3)"
   ],
   "metadata": {
    "collapsed": false,
    "pycharm": {
     "name": "#%%\n"
    }
   }
  },
  {
   "cell_type": "code",
   "execution_count": 4,
   "outputs": [
    {
     "name": "stdout",
     "output_type": "stream",
     "text": [
      "[('trees', 0.7154202461242676), ('bark', 0.6832413077354431), ('leaf', 0.6762276887893677), ('avl', 0.6166880130767822), ('flower', 0.6028879284858704), ('bird', 0.576224148273468), ('fruit', 0.5726439356803894), ('tiny', 0.5723675489425659), ('leaves', 0.5691754817962646), ('vine', 0.5616295337677002)]\n"
     ]
    }
   ],
   "source": [
    "sims = wv_model.wv.most_similar('tree', topn=10)\n",
    "print(sims)"
   ],
   "metadata": {
    "collapsed": false,
    "pycharm": {
     "name": "#%%\n"
    }
   }
  },
  {
   "cell_type": "code",
   "execution_count": 5,
   "outputs": [],
   "source": [
    "datasets = OrderedDict([('train', {'notes': train_data.iloc[:,:22].drop_duplicates().reset_index(drop=True),\n",
    "                                   'notes_ratings': train_data}),\n",
    "                        ('val', {'notes': val_data.iloc[:, :22].drop_duplicates().reset_index(drop=True),\n",
    "                                 'notes_ratings': val_data}),\n",
    "                        ('test', {'notes': test_data.iloc[:, :22].drop_duplicates().reset_index(drop=True),\n",
    "                                  'notes_ratings': test_data})])"
   ],
   "metadata": {
    "collapsed": false,
    "pycharm": {
     "name": "#%%\n"
    }
   }
  },
  {
   "cell_type": "code",
   "execution_count": 6,
   "outputs": [
    {
     "name": "stderr",
     "output_type": "stream",
     "text": [
      "  0%|          | 0/3 [00:00<?, ?it/s]\n",
      "  0%|          | 0/8861 [00:00<?, ?it/s]\u001B[A\n",
      " 17%|█▋        | 1483/8861 [00:00<00:00, 14826.16it/s]\u001B[A\n",
      " 35%|███▍      | 3077/8861 [00:00<00:00, 15473.94it/s]\u001B[A\n",
      " 53%|█████▎    | 4704/8861 [00:00<00:00, 15836.31it/s]\u001B[A\n",
      " 71%|███████   | 6288/8861 [00:00<00:00, 15805.20it/s]\u001B[A\n",
      "100%|██████████| 8861/8861 [00:00<00:00, 15683.79it/s]\u001B[A\n",
      " 33%|███▎      | 1/3 [00:03<00:07,  3.76s/it]"
     ]
    },
    {
     "name": "stdout",
     "output_type": "stream",
     "text": [
      "train size 88185\n"
     ]
    },
    {
     "name": "stderr",
     "output_type": "stream",
     "text": [
      "\n",
      "100%|██████████| 1108/1108 [00:00<00:00, 14842.78it/s]\n",
      " 67%|██████▋   | 2/3 [00:04<00:01,  1.84s/it]"
     ]
    },
    {
     "name": "stdout",
     "output_type": "stream",
     "text": [
      "val size 11641\n"
     ]
    },
    {
     "name": "stderr",
     "output_type": "stream",
     "text": [
      "\n",
      "100%|██████████| 1108/1108 [00:00<00:00, 15472.65it/s]\n",
      "100%|██████████| 3/3 [00:04<00:00,  1.57s/it]"
     ]
    },
    {
     "name": "stdout",
     "output_type": "stream",
     "text": [
      "test size 10507\n"
     ]
    },
    {
     "name": "stderr",
     "output_type": "stream",
     "text": [
      "\n"
     ]
    }
   ],
   "source": [
    "def tokenize_text(text):\n",
    "    tokens = [w.lower() for w in nltk.word_tokenize(text)]\n",
    "    return tokens\n",
    "\n",
    "for name, data_dict in tqdm(datasets.items(), total=3):\n",
    "    notes_df = data_dict['notes']\n",
    "    notes_ratings_df = data_dict['notes_ratings']\n",
    "    tokenized_notes = [tokenize_text(text) for text in notes_df['summary']]\n",
    "    note_arrays = list()\n",
    "    for tokens in tqdm(tokenized_notes):\n",
    "        note_vectors = []\n",
    "        for t in tokens:\n",
    "            if wv_model.wv.__contains__(t):\n",
    "                note_vectors.append(wv_model.wv[t])\n",
    "        if len(note_vectors) > 0:\n",
    "            avg_note_vector = np.mean(note_vectors, axis=0)\n",
    "        else:\n",
    "            avg_note_vector = np.zeros(100)\n",
    "        note_arrays.append(avg_note_vector)\n",
    "\n",
    "    X_df = pd.DataFrame(np.array(note_arrays))\n",
    "    X_df['noteId'] = notes_df['noteId']\n",
    "    merged_X_df = X_df.merge(notes_ratings_df[['noteId', 'output', 'scaling']],\n",
    "                             how='inner', on='noteId')\n",
    "    X = merged_X_df.drop(['noteId', 'output', 'scaling'], axis=1)\n",
    "    datasets[name]['X'] = X\n",
    "    datasets[name]['Y'] = merged_X_df['output']\n",
    "    datasets[name]['scaling'] = merged_X_df['scaling']\n",
    "    datasets[name]['noteId'] = merged_X_df['noteId']\n",
    "    print(name, 'size', merged_X_df.shape[0])\n"
   ],
   "metadata": {
    "collapsed": false,
    "pycharm": {
     "name": "#%%\n"
    }
   }
  },
  {
   "cell_type": "code",
   "execution_count": 7,
   "outputs": [
    {
     "data": {
      "text/plain": "LogisticRegression(random_state=7)"
     },
     "execution_count": 7,
     "metadata": {},
     "output_type": "execute_result"
    }
   ],
   "source": [
    "model = LogisticRegression(random_state=7)\n",
    "model.fit(datasets['train']['X'], datasets['train']['Y'],\n",
    "          sample_weight=datasets['train']['scaling'])"
   ],
   "metadata": {
    "collapsed": false,
    "pycharm": {
     "name": "#%%\n"
    }
   }
  },
  {
   "cell_type": "code",
   "execution_count": 8,
   "outputs": [
    {
     "name": "stdout",
     "output_type": "stream",
     "text": [
      "train\n",
      "val\n",
      "test\n"
     ]
    }
   ],
   "source": [
    "for name, data_dict in datasets.items():\n",
    "    print(name)\n",
    "    predictions = model.predict(data_dict['X'])\n",
    "    p_hat = model.predict_proba(data_dict['X'])[:, 1]\n",
    "    observations = data_dict['Y']\n",
    "    scaling = data_dict['scaling']\n",
    "    performance_dict = evaluate_model(predictions, p_hat, observations,\n",
    "                                      scaling, name)\n",
    "    data_dict['Y_hat'] = predictions\n",
    "    data_dict['p_hat'] = p_hat\n",
    "    data_dict['performance'] = performance_dict"
   ],
   "metadata": {
    "collapsed": false,
    "pycharm": {
     "name": "#%%\n"
    }
   }
  },
  {
   "cell_type": "code",
   "execution_count": 9,
   "outputs": [
    {
     "data": {
      "text/plain": "   accuracy        f1  precision    recall   roc-auc  avg_precision   name\n0  0.651872  0.779334   0.657646  0.956281  0.618143       0.723425  train\n1  0.641343  0.772036   0.646413  0.958265  0.603067       0.694693    val\n2  0.645801  0.776656   0.652348  0.959490  0.618959       0.728550   test",
      "text/html": "<div>\n<style scoped>\n    .dataframe tbody tr th:only-of-type {\n        vertical-align: middle;\n    }\n\n    .dataframe tbody tr th {\n        vertical-align: top;\n    }\n\n    .dataframe thead th {\n        text-align: right;\n    }\n</style>\n<table border=\"1\" class=\"dataframe\">\n  <thead>\n    <tr style=\"text-align: right;\">\n      <th></th>\n      <th>accuracy</th>\n      <th>f1</th>\n      <th>precision</th>\n      <th>recall</th>\n      <th>roc-auc</th>\n      <th>avg_precision</th>\n      <th>name</th>\n    </tr>\n  </thead>\n  <tbody>\n    <tr>\n      <th>0</th>\n      <td>0.651872</td>\n      <td>0.779334</td>\n      <td>0.657646</td>\n      <td>0.956281</td>\n      <td>0.618143</td>\n      <td>0.723425</td>\n      <td>train</td>\n    </tr>\n    <tr>\n      <th>1</th>\n      <td>0.641343</td>\n      <td>0.772036</td>\n      <td>0.646413</td>\n      <td>0.958265</td>\n      <td>0.603067</td>\n      <td>0.694693</td>\n      <td>val</td>\n    </tr>\n    <tr>\n      <th>2</th>\n      <td>0.645801</td>\n      <td>0.776656</td>\n      <td>0.652348</td>\n      <td>0.959490</td>\n      <td>0.618959</td>\n      <td>0.728550</td>\n      <td>test</td>\n    </tr>\n  </tbody>\n</table>\n</div>"
     },
     "execution_count": 9,
     "metadata": {},
     "output_type": "execute_result"
    }
   ],
   "source": [
    "performance_metrics = []\n",
    "for name, data_dict in datasets.items():\n",
    "    performance_metrics.append(data_dict['performance'])\n",
    "performance_metrics_df = pd.DataFrame(performance_metrics)\n",
    "performance_metrics_df"
   ],
   "metadata": {
    "collapsed": false,
    "pycharm": {
     "name": "#%%\n"
    }
   }
  },
  {
   "cell_type": "markdown",
   "source": [
    "## Feature Importances"
   ],
   "metadata": {
    "collapsed": false,
    "pycharm": {
     "name": "#%% md\n"
    }
   }
  },
  {
   "cell_type": "code",
   "execution_count": 10,
   "outputs": [],
   "source": [
    "wv_vector_df = pd.DataFrame(wv_model.wv.vectors)\n",
    "wv_vector_df['label'] = np.asarray(wv_model.wv.index_to_key)\n"
   ],
   "metadata": {
    "collapsed": false,
    "pycharm": {
     "name": "#%%\n"
    }
   }
  },
  {
   "cell_type": "markdown",
   "source": [
    "### Most positive coefficient\n",
    "\n",
    "If we look at the highest coefficient in the model, we see words like election,\n",
    "elections are heavily down-weighted in the model"
   ],
   "metadata": {
    "collapsed": false,
    "pycharm": {
     "name": "#%% md\n"
    }
   }
  },
  {
   "cell_type": "code",
   "execution_count": 15,
   "outputs": [
    {
     "data": {
      "text/plain": "         label        31\n956    highest -3.778165\n3155        ma -3.684534\n1451    exists -3.673836\n2906     hindu -3.550451\n3402  buddhism -3.395834\n2568        da -3.269072\n519      prime -3.245713\n2209       vol -3.205636\n1126        ed -3.070003\n353    college -3.065385",
      "text/html": "<div>\n<style scoped>\n    .dataframe tbody tr th:only-of-type {\n        vertical-align: middle;\n    }\n\n    .dataframe tbody tr th {\n        vertical-align: top;\n    }\n\n    .dataframe thead th {\n        text-align: right;\n    }\n</style>\n<table border=\"1\" class=\"dataframe\">\n  <thead>\n    <tr style=\"text-align: right;\">\n      <th></th>\n      <th>label</th>\n      <th>31</th>\n    </tr>\n  </thead>\n  <tbody>\n    <tr>\n      <th>956</th>\n      <td>highest</td>\n      <td>-3.778165</td>\n    </tr>\n    <tr>\n      <th>3155</th>\n      <td>ma</td>\n      <td>-3.684534</td>\n    </tr>\n    <tr>\n      <th>1451</th>\n      <td>exists</td>\n      <td>-3.673836</td>\n    </tr>\n    <tr>\n      <th>2906</th>\n      <td>hindu</td>\n      <td>-3.550451</td>\n    </tr>\n    <tr>\n      <th>3402</th>\n      <td>buddhism</td>\n      <td>-3.395834</td>\n    </tr>\n    <tr>\n      <th>2568</th>\n      <td>da</td>\n      <td>-3.269072</td>\n    </tr>\n    <tr>\n      <th>519</th>\n      <td>prime</td>\n      <td>-3.245713</td>\n    </tr>\n    <tr>\n      <th>2209</th>\n      <td>vol</td>\n      <td>-3.205636</td>\n    </tr>\n    <tr>\n      <th>1126</th>\n      <td>ed</td>\n      <td>-3.070003</td>\n    </tr>\n    <tr>\n      <th>353</th>\n      <td>college</td>\n      <td>-3.065385</td>\n    </tr>\n  </tbody>\n</table>\n</div>"
     },
     "execution_count": 15,
     "metadata": {},
     "output_type": "execute_result"
    }
   ],
   "source": [
    "pos_coef_neg_vals = wv_vector_df.sort_values(model.coef_.argmax()).head(10)[['label', model.coef_.argmax()]]\n",
    "pos_coef_neg_vals"
   ],
   "metadata": {
    "collapsed": false,
    "pycharm": {
     "name": "#%%\n"
    }
   }
  },
  {
   "cell_type": "code",
   "execution_count": 16,
   "outputs": [
    {
     "data": {
      "text/plain": "       label        31\n73     would  4.038765\n53      been  4.054894\n1098    cost  4.268438\n1898     pay  4.541916\n1029  engine  4.647632\n148     much  4.663092\n1563    fuel  4.666774\n159    could  5.062294\n48       had  5.205876\n39      were  5.395151",
      "text/html": "<div>\n<style scoped>\n    .dataframe tbody tr th:only-of-type {\n        vertical-align: middle;\n    }\n\n    .dataframe tbody tr th {\n        vertical-align: top;\n    }\n\n    .dataframe thead th {\n        text-align: right;\n    }\n</style>\n<table border=\"1\" class=\"dataframe\">\n  <thead>\n    <tr style=\"text-align: right;\">\n      <th></th>\n      <th>label</th>\n      <th>31</th>\n    </tr>\n  </thead>\n  <tbody>\n    <tr>\n      <th>73</th>\n      <td>would</td>\n      <td>4.038765</td>\n    </tr>\n    <tr>\n      <th>53</th>\n      <td>been</td>\n      <td>4.054894</td>\n    </tr>\n    <tr>\n      <th>1098</th>\n      <td>cost</td>\n      <td>4.268438</td>\n    </tr>\n    <tr>\n      <th>1898</th>\n      <td>pay</td>\n      <td>4.541916</td>\n    </tr>\n    <tr>\n      <th>1029</th>\n      <td>engine</td>\n      <td>4.647632</td>\n    </tr>\n    <tr>\n      <th>148</th>\n      <td>much</td>\n      <td>4.663092</td>\n    </tr>\n    <tr>\n      <th>1563</th>\n      <td>fuel</td>\n      <td>4.666774</td>\n    </tr>\n    <tr>\n      <th>159</th>\n      <td>could</td>\n      <td>5.062294</td>\n    </tr>\n    <tr>\n      <th>48</th>\n      <td>had</td>\n      <td>5.205876</td>\n    </tr>\n    <tr>\n      <th>39</th>\n      <td>were</td>\n      <td>5.395151</td>\n    </tr>\n  </tbody>\n</table>\n</div>"
     },
     "execution_count": 16,
     "metadata": {},
     "output_type": "execute_result"
    }
   ],
   "source": [
    "pos_coef_pos_vals = wv_vector_df.sort_values(model.coef_.argmax()).tail(10)[['label', model.coef_.argmax()]]\n",
    "pos_coef_pos_vals"
   ],
   "metadata": {
    "collapsed": false,
    "pycharm": {
     "name": "#%%\n"
    }
   }
  },
  {
   "cell_type": "code",
   "execution_count": 35,
   "outputs": [],
   "source": [
    "pos_coef_vals = pd.concat([pos_coef_pos_vals.head(5).sort_values(31, ascending=False),\n",
    "                           pos_coef_neg_vals.head(5).sort_values(31, ascending=False)])\n",
    "pos_coef_vals['sign'] = np.sign(pos_coef_vals[31])"
   ],
   "metadata": {
    "collapsed": false,
    "pycharm": {
     "name": "#%%\n"
    }
   }
  },
  {
   "cell_type": "code",
   "execution_count": 38,
   "outputs": [
    {
     "data": {
      "text/plain": "<Figure size 144x216 with 1 Axes>",
      "image/png": "[encoded data removed]"
     },
     "metadata": {
      "needs_background": "light"
     },
     "output_type": "display_data"
    }
   ],
   "source": [
    "plt.subplots(figsize=(2, 3))\n",
    "sns.barplot(data=pos_coef_vals, x=31,\n",
    "            y='label',\n",
    "            hue='sign', dodge=False)\n",
    "plt.gca().get_legend().remove()\n",
    "sns.despine()\n",
    "plt.axvline(x=0, color='black')\n",
    "plt.ylabel('')\n",
    "plt.xlabel('W2V Feature Weight')\n",
    "gpplot.savefig('../figures/w2v_pos_vec.png', dpi=300)\n"
   ],
   "metadata": {
    "collapsed": false,
    "pycharm": {
     "name": "#%%\n"
    }
   }
  },
  {
   "cell_type": "markdown",
   "source": [
    "### Most negative coefficient\n",
    "\n",
    "We see 'www' in with a strong negative weight for the most negative feature, suggesting\n",
    "the model is learning that links are typically helpful in notes."
   ],
   "metadata": {
    "collapsed": false,
    "pycharm": {
     "name": "#%% md\n"
    }
   }
  },
  {
   "cell_type": "code",
   "execution_count": 39,
   "outputs": [
    {
     "data": {
      "text/plain": "           label        78\n113   government -5.276271\n354     republic -5.112436\n455     minister -5.098285\n1505   secretary -4.927094\n186         king -4.776280\n752       object -4.568161\n93         state -4.491601\n1094    governor -4.414857\n153         what -4.390400\n212          god -4.339799",
      "text/html": "<div>\n<style scoped>\n    .dataframe tbody tr th:only-of-type {\n        vertical-align: middle;\n    }\n\n    .dataframe tbody tr th {\n        vertical-align: top;\n    }\n\n    .dataframe thead th {\n        text-align: right;\n    }\n</style>\n<table border=\"1\" class=\"dataframe\">\n  <thead>\n    <tr style=\"text-align: right;\">\n      <th></th>\n      <th>label</th>\n      <th>78</th>\n    </tr>\n  </thead>\n  <tbody>\n    <tr>\n      <th>113</th>\n      <td>government</td>\n      <td>-5.276271</td>\n    </tr>\n    <tr>\n      <th>354</th>\n      <td>republic</td>\n      <td>-5.112436</td>\n    </tr>\n    <tr>\n      <th>455</th>\n      <td>minister</td>\n      <td>-5.098285</td>\n    </tr>\n    <tr>\n      <th>1505</th>\n      <td>secretary</td>\n      <td>-4.927094</td>\n    </tr>\n    <tr>\n      <th>186</th>\n      <td>king</td>\n      <td>-4.776280</td>\n    </tr>\n    <tr>\n      <th>752</th>\n      <td>object</td>\n      <td>-4.568161</td>\n    </tr>\n    <tr>\n      <th>93</th>\n      <td>state</td>\n      <td>-4.491601</td>\n    </tr>\n    <tr>\n      <th>1094</th>\n      <td>governor</td>\n      <td>-4.414857</td>\n    </tr>\n    <tr>\n      <th>153</th>\n      <td>what</td>\n      <td>-4.390400</td>\n    </tr>\n    <tr>\n      <th>212</th>\n      <td>god</td>\n      <td>-4.339799</td>\n    </tr>\n  </tbody>\n</table>\n</div>"
     },
     "execution_count": 39,
     "metadata": {},
     "output_type": "execute_result"
    }
   ],
   "source": [
    "neg_coef_neg_vals = wv_vector_df.sort_values(model.coef_.argmin()).head(10)[['label', model.coef_.argmin()]]\n",
    "neg_coef_neg_vals"
   ],
   "metadata": {
    "collapsed": false,
    "pycharm": {
     "name": "#%%\n"
    }
   }
  },
  {
   "cell_type": "code",
   "execution_count": 40,
   "outputs": [
    {
     "data": {
      "text/plain": "        label        78\n834     refer  3.175287\n679    births  3.276959\n486    middle  3.295425\n31         be  3.423988\n1597       rd  3.447224\n211   include  3.596114\n555       est  3.639720\n90         th  3.676686\n257       age  4.189123\n2117      bwv  4.216451",
      "text/html": "<div>\n<style scoped>\n    .dataframe tbody tr th:only-of-type {\n        vertical-align: middle;\n    }\n\n    .dataframe tbody tr th {\n        vertical-align: top;\n    }\n\n    .dataframe thead th {\n        text-align: right;\n    }\n</style>\n<table border=\"1\" class=\"dataframe\">\n  <thead>\n    <tr style=\"text-align: right;\">\n      <th></th>\n      <th>label</th>\n      <th>78</th>\n    </tr>\n  </thead>\n  <tbody>\n    <tr>\n      <th>834</th>\n      <td>refer</td>\n      <td>3.175287</td>\n    </tr>\n    <tr>\n      <th>679</th>\n      <td>births</td>\n      <td>3.276959</td>\n    </tr>\n    <tr>\n      <th>486</th>\n      <td>middle</td>\n      <td>3.295425</td>\n    </tr>\n    <tr>\n      <th>31</th>\n      <td>be</td>\n      <td>3.423988</td>\n    </tr>\n    <tr>\n      <th>1597</th>\n      <td>rd</td>\n      <td>3.447224</td>\n    </tr>\n    <tr>\n      <th>211</th>\n      <td>include</td>\n      <td>3.596114</td>\n    </tr>\n    <tr>\n      <th>555</th>\n      <td>est</td>\n      <td>3.639720</td>\n    </tr>\n    <tr>\n      <th>90</th>\n      <td>th</td>\n      <td>3.676686</td>\n    </tr>\n    <tr>\n      <th>257</th>\n      <td>age</td>\n      <td>4.189123</td>\n    </tr>\n    <tr>\n      <th>2117</th>\n      <td>bwv</td>\n      <td>4.216451</td>\n    </tr>\n  </tbody>\n</table>\n</div>"
     },
     "execution_count": 40,
     "metadata": {},
     "output_type": "execute_result"
    }
   ],
   "source": [
    "neg_coef_pos_val = wv_vector_df.sort_values(model.coef_.argmin()).tail(10)[['label', model.coef_.argmin()]]\n",
    "neg_coef_pos_val"
   ],
   "metadata": {
    "collapsed": false,
    "pycharm": {
     "name": "#%%\n"
    }
   }
  },
  {
   "cell_type": "code",
   "execution_count": 43,
   "outputs": [],
   "source": [
    "\n",
    "neg_coef_vals = pd.concat([neg_coef_pos_val.head(5).sort_values(78, ascending=False),\n",
    "                           neg_coef_neg_vals.head(5).sort_values(78, ascending=False)])\n",
    "neg_coef_vals['sign'] = np.sign(neg_coef_vals[78])"
   ],
   "metadata": {
    "collapsed": false,
    "pycharm": {
     "name": "#%%\n"
    }
   }
  },
  {
   "cell_type": "code",
   "execution_count": 45,
   "outputs": [
    {
     "data": {
      "text/plain": "<Figure size 144x216 with 1 Axes>",
      "image/png": "[encoded data removed]"
     },
     "metadata": {
      "needs_background": "light"
     },
     "output_type": "display_data"
    }
   ],
   "source": [
    "plt.subplots(figsize=(2, 3))\n",
    "sns.barplot(data=neg_coef_vals, x=78,\n",
    "            y='label',\n",
    "            hue='sign', dodge=False)\n",
    "plt.gca().get_legend().remove()\n",
    "sns.despine()\n",
    "plt.axvline(x=0, color='black')\n",
    "plt.ylabel('')\n",
    "plt.xlabel('W2V Feature Weight')\n",
    "gpplot.savefig('../figures/w2v_neg_vec.png', dpi=300)"
   ],
   "metadata": {
    "collapsed": false,
    "pycharm": {
     "name": "#%%\n"
    }
   }
  },
  {
   "cell_type": "code",
   "execution_count": null,
   "outputs": [],
   "source": [],
   "metadata": {
    "collapsed": false,
    "pycharm": {
     "name": "#%%\n"
    }
   }
  }
 ],
 "metadata": {
  "kernelspec": {
   "display_name": "Python 3",
   "language": "python",
   "name": "python3"
  },
  "language_info": {
   "codemirror_mode": {
    "name": "ipython",
    "version": 2
   },
   "file_extension": ".py",
   "mimetype": "text/x-python",
   "name": "python",
   "nbconvert_exporter": "python",
   "pygments_lexer": "ipython2",
   "version": "2.7.6"
  }
 },
 "nbformat": 4,
 "nbformat_minor": 0
}