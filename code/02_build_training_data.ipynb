{
 "cells": [
  {
   "cell_type": "markdown",
   "source": [
    "# Build Training Data\n",
    "\n",
    "Here we output our training, testing and validation datasets to be\n",
    "used in all downstream notebooks."
   ],
   "metadata": {
    "collapsed": false,
    "pycharm": {
     "name": "#%% md\n"
    }
   }
  },
  {
   "cell_type": "code",
   "execution_count": 1,
   "metadata": {
    "collapsed": true
   },
   "outputs": [],
   "source": [
    "import pandas as pd\n",
    "from sklearn.model_selection import GroupKFold\n",
    "import matplotlib.pyplot as plt"
   ]
  },
  {
   "cell_type": "code",
   "execution_count": 2,
   "outputs": [],
   "source": [
    "notes = pd.read_table('../data/raw/notes-00000.tsv')\n",
    "ratings = pd.read_table('../data/raw/ratings-00000.tsv')\n",
    "tweets = pd.read_csv('../data/raw/tweet_text2021-11-04.csv')"
   ],
   "metadata": {
    "collapsed": false,
    "pycharm": {
     "name": "#%%\n"
    }
   }
  },
  {
   "cell_type": "markdown",
   "source": [
    "## Splitting Data"
   ],
   "metadata": {
    "collapsed": false,
    "pycharm": {
     "name": "#%% md\n"
    }
   }
  },
  {
   "cell_type": "code",
   "execution_count": 3,
   "outputs": [
    {
     "name": "stdout",
     "output_type": "stream",
     "text": [
      "Filtering 761 out of 12874 tweets written in languages other than English\n"
     ]
    }
   ],
   "source": [
    "english_tweet_ids = tweets.loc[tweets['lang'] == 'en', 'id']\n",
    "filtered_notes = notes[notes['tweetId'].isin(english_tweet_ids)].reset_index(drop=True)\n",
    "print('Filtering', len(tweets) - len(english_tweet_ids), 'out of', len(tweets),\n",
    "      'tweets written in languages other than English')"
   ],
   "metadata": {
    "collapsed": false,
    "pycharm": {
     "name": "#%%\n"
    }
   }
  },
  {
   "cell_type": "code",
   "execution_count": 4,
   "outputs": [
    {
     "name": "stdout",
     "output_type": "stream",
     "text": [
      "Filtered 2 notes without a summary\n"
     ]
    }
   ],
   "source": [
    "note_size = len(filtered_notes)\n",
    "# drop notes without a summary\n",
    "filtered_notes = filtered_notes[~filtered_notes['summary'].isna()].reset_index(drop=True)\n",
    "print('Filtered', note_size - len(filtered_notes), 'notes without a summary')"
   ],
   "metadata": {
    "collapsed": false,
    "pycharm": {
     "name": "#%%\n"
    }
   }
  },
  {
   "cell_type": "code",
   "execution_count": 5,
   "outputs": [
    {
     "name": "stdout",
     "output_type": "stream",
     "text": [
      "Filtered 4782 notes without a rating\n"
     ]
    }
   ],
   "source": [
    "note_size = len(filtered_notes)\n",
    "# drop notes without any ratings\n",
    "filtered_notes = (filtered_notes[filtered_notes['noteId'].isin(ratings['noteId'])]\n",
    "                  .reset_index(drop=True))\n",
    "print('Filtered', note_size - len(filtered_notes), 'notes without a rating')"
   ],
   "metadata": {
    "collapsed": false,
    "pycharm": {
     "name": "#%%\n"
    }
   }
  },
  {
   "cell_type": "code",
   "execution_count": 6,
   "outputs": [],
   "source": [
    "groups = filtered_notes['tweetId']\n",
    "group_kfold = GroupKFold(n_splits=10) #1/10 -> 10% for val and testing\n",
    "group_kfold.get_n_splits(X=filtered_notes, groups=groups)\n",
    "train_notes_list = []\n",
    "for i, (_, test_index) in enumerate(group_kfold.split(X=filtered_notes, groups=groups)):\n",
    "    if i == 0:\n",
    "        test_notes = filtered_notes.iloc[test_index, :]\n",
    "    elif i == 1:\n",
    "        val_notes = filtered_notes.iloc[test_index, :]\n",
    "    else:\n",
    "        train_notes_list.append(filtered_notes.iloc[test_index, :])\n",
    "train_notes = pd.concat(train_notes_list)"
   ],
   "metadata": {
    "collapsed": false,
    "pycharm": {
     "name": "#%%\n"
    }
   }
  },
  {
   "cell_type": "code",
   "execution_count": 7,
   "outputs": [
    {
     "name": "stdout",
     "output_type": "stream",
     "text": [
      "Training set notes: 8861\n",
      "Validation set notes: 1108\n",
      "Testing set notes: 1108\n"
     ]
    }
   ],
   "source": [
    "print('Training set notes:', train_notes.shape[0])\n",
    "print('Validation set notes:', val_notes.shape[0])\n",
    "print('Testing set notes:', test_notes.shape[0])"
   ],
   "metadata": {
    "collapsed": false,
    "pycharm": {
     "name": "#%%\n"
    }
   }
  },
  {
   "cell_type": "markdown",
   "source": [
    "### Generating outputs\n",
    "\n",
    "For the ratings data in order to combine the old and new API's, we\n",
    "assign any rating with a 'helfulnessLevel' of \"NOT_HELPFUL\" a output\n",
    "value of 0, and 1 otherwise."
   ],
   "metadata": {
    "collapsed": false
   }
  },
  {
   "cell_type": "code",
   "execution_count": 8,
   "outputs": [],
   "source": [
    "def get_helful_out(row):\n",
    "    if pd.isna(row['helpfulnessLevel']):\n",
    "        return row['helpful']\n",
    "    else:\n",
    "        if row['helpfulnessLevel'] == 'NOT_HELPFUL':\n",
    "            return 0\n",
    "        else:\n",
    "            return 1\n",
    "\n",
    "ratings['output'] = (ratings\n",
    "                     .apply(get_helful_out, axis=1))"
   ],
   "metadata": {
    "collapsed": false,
    "pycharm": {
     "name": "#%%\n"
    }
   }
  },
  {
   "cell_type": "markdown",
   "source": [
    "With this scheme, we see about 2/3 of the dataset consists of helpful ratings,\n",
    "whereas 1/3 consists of unhelpful ratings"
   ],
   "metadata": {
    "collapsed": false,
    "pycharm": {
     "name": "#%% md\n"
    }
   }
  },
  {
   "cell_type": "code",
   "execution_count": 9,
   "outputs": [
    {
     "data": {
      "text/plain": "1    79311\n0    42128\nName: output, dtype: int64"
     },
     "execution_count": 9,
     "metadata": {},
     "output_type": "execute_result"
    }
   ],
   "source": [
    "ratings['output'].value_counts()"
   ],
   "metadata": {
    "collapsed": false,
    "pycharm": {
     "name": "#%%\n"
    }
   }
  },
  {
   "cell_type": "markdown",
   "source": [
    "Given the long tail in ratings, where some notes have upwards of 100 ratings,\n",
    "and others only have one, we'll use a scaling factor for model\n",
    "training and evaluation.\n",
    "\n",
    "This scaling factor for each rating is simply $\\frac{1}{\\text{# ratings}}$\n",
    "for each note."
   ],
   "metadata": {
    "collapsed": false,
    "pycharm": {
     "name": "#%% md\n"
    }
   }
  },
  {
   "cell_type": "code",
   "execution_count": 10,
   "outputs": [
    {
     "data": {
      "text/plain": "(array([1.1643e+04, 7.9300e+02, 2.4300e+02, 1.0000e+02, 5.5000e+01,\n        2.2000e+01, 2.2000e+01, 1.0000e+01, 5.0000e+00, 2.0000e+00]),\n array([  1. ,  22.4,  43.8,  65.2,  86.6, 108. , 129.4, 150.8, 172.2,\n        193.6, 215. ]),\n <BarContainer object of 10 artists>)"
     },
     "execution_count": 10,
     "metadata": {},
     "output_type": "execute_result"
    },
    {
     "data": {
      "text/plain": "<Figure size 432x288 with 1 Axes>",
      "image/png": "[encoded data removed]"
     },
     "metadata": {
      "needs_background": "light"
     },
     "output_type": "display_data"
    }
   ],
   "source": [
    "plt.hist(ratings['noteId'].value_counts())"
   ],
   "metadata": {
    "collapsed": false,
    "pycharm": {
     "name": "#%%\n"
    }
   }
  },
  {
   "cell_type": "code",
   "execution_count": 11,
   "outputs": [],
   "source": [
    "ratings['scaling'] = (ratings.groupby(['noteId'])\n",
    "                      ['participantId']\n",
    "                      .transform(lambda x: 1/x.nunique()))"
   ],
   "metadata": {
    "collapsed": false,
    "pycharm": {
     "name": "#%%\n"
    }
   }
  },
  {
   "cell_type": "markdown",
   "source": [
    "We'll merge the notes dataframe with the ratings dataframe."
   ],
   "metadata": {
    "collapsed": false,
    "pycharm": {
     "name": "#%% md\n"
    }
   },
   "outputs": [
    {
     "ename": "SyntaxError",
     "evalue": "EOL while scanning string literal (2001296152.py, line 1)",
     "output_type": "error",
     "traceback": [
      "\u001B[0;36m  File \u001B[0;32m\"/var/folders/n9/c397fj3n5f16khr7tp76tbpc0000gn/T/ipykernel_29004/2001296152.py\"\u001B[0;36m, line \u001B[0;32m1\u001B[0m\n\u001B[0;31m    We'll\u001B[0m\n\u001B[0m         ^\u001B[0m\n\u001B[0;31mSyntaxError\u001B[0m\u001B[0;31m:\u001B[0m EOL while scanning string literal\n"
     ]
    }
   ],
   "execution_count": 22
  },
  {
   "cell_type": "code",
   "execution_count": 12,
   "outputs": [],
   "source": [
    "merged_dfs = (notes.merge(tweets[['id', 'text', 'author_id',\n",
    "                                  'public_metrics.retweet_count',\n",
    "                                  'public_metrics.reply_count',\n",
    "                                  'public_metrics.like_count',\n",
    "                                  'public_metrics.quote_count']]\n",
    "                          .rename({'id': 'tweetId', 'text': 'tweet_text',\n",
    "                                   'author_id': 'tweet_author_id'}, axis=1),\n",
    "                          how='inner', on='tweetId')\n",
    "              .merge(ratings[['noteId', 'output', 'scaling']],\n",
    "                     how='inner', on=['noteId']))"
   ],
   "metadata": {
    "collapsed": false,
    "pycharm": {
     "name": "#%%\n"
    }
   }
  },
  {
   "cell_type": "markdown",
   "source": [
    "While the merged dataframe has 30 columns, there are three columns that will\n",
    "be core to training and testing:\n",
    "\n",
    "* summary: note summary\n",
    "* output: binary rating of whether a note was helpful\n",
    "* sacling: scaling factor for training and testing"
   ],
   "metadata": {
    "collapsed": false,
    "pycharm": {
     "name": "#%% md\n"
    }
   }
  },
  {
   "cell_type": "code",
   "execution_count": 13,
   "outputs": [
    {
     "name": "stdout",
     "output_type": "stream",
     "text": [
      "Note columns: noteId, participantId, createdAtMillis, tweetId, classification, believable, harmful, validationDifficulty, misleadingOther, misleadingFactualError, misleadingManipulatedMedia, misleadingOutdatedInformation, misleadingMissingImportantContext, misleadingUnverifiedClaimAsFact, misleadingSatire, notMisleadingOther, notMisleadingFactuallyCorrect, notMisleadingOutdatedButNotWhenWritten, notMisleadingClearlySatire, notMisleadingPersonalOpinion, trustworthySources, summary\n",
      "Tweet columns: tweet_text, tweet_author_id, public_metrics.retweet_count, public_metrics.reply_count, public_metrics.like_count, public_metrics.quote_count\n",
      "Rating columns: output, scaling\n"
     ]
    }
   ],
   "source": [
    "print('Note columns:', ', '.join(merged_dfs.columns[:22]))\n",
    "print('Tweet columns:', ', '.join(merged_dfs.columns[22:28]))\n",
    "print('Rating columns:', ', '.join(merged_dfs.columns[28:]))\n"
   ],
   "metadata": {
    "collapsed": false,
    "pycharm": {
     "name": "#%%\n"
    }
   }
  },
  {
   "cell_type": "markdown",
   "source": [
    "### Split merged dataset into training, testing, and validation sets\n"
   ],
   "metadata": {
    "collapsed": false,
    "pycharm": {
     "name": "#%% md\n"
    }
   }
  },
  {
   "cell_type": "code",
   "execution_count": 14,
   "outputs": [],
   "source": [
    "train_merged = (merged_dfs[merged_dfs['noteId'].isin(train_notes['noteId'])]\n",
    "                .reset_index(drop=True))\n",
    "val_merged = (merged_dfs[merged_dfs['noteId'].isin(val_notes['noteId'])]\n",
    "              .reset_index(drop=True))\n",
    "test_merged = (merged_dfs[merged_dfs['noteId'].isin(test_notes['noteId'])]\n",
    "              .reset_index(drop=True))\n",
    "\n"
   ],
   "metadata": {
    "collapsed": false,
    "pycharm": {
     "name": "#%%\n"
    }
   }
  },
  {
   "cell_type": "code",
   "execution_count": 15,
   "outputs": [
    {
     "name": "stdout",
     "output_type": "stream",
     "text": [
      "Train ratings: 88185\n",
      "Val ratings: 11641\n",
      "Test ratings: 10507\n"
     ]
    }
   ],
   "source": [
    "print('Train ratings:', str(len(train_merged)))\n",
    "print('Val ratings:', str(len(val_merged)))\n",
    "print('Test ratings:', str(len(test_merged)))"
   ],
   "metadata": {
    "collapsed": false,
    "pycharm": {
     "name": "#%%\n"
    }
   }
  },
  {
   "cell_type": "code",
   "execution_count": 16,
   "outputs": [],
   "source": [
    "train_merged.to_csv('../data/processed/training_data.csv', index=False)\n",
    "val_merged.to_csv('../data/processed/val_data.csv', index=False)\n",
    "test_merged.to_csv('../data/processed/test_data.csv', index=False)"
   ],
   "metadata": {
    "collapsed": false,
    "pycharm": {
     "name": "#%%\n"
    }
   }
  },
  {
   "cell_type": "code",
   "execution_count": 15,
   "outputs": [],
   "source": [],
   "metadata": {
    "collapsed": false,
    "pycharm": {
     "name": "#%%\n"
    }
   }
  }
 ],
 "metadata": {
  "kernelspec": {
   "display_name": "Python 3",
   "language": "python",
   "name": "python3"
  },
  "language_info": {
   "codemirror_mode": {
    "name": "ipython",
    "version": 2
   },
   "file_extension": ".py",
   "mimetype": "text/x-python",
   "name": "python",
   "nbconvert_exporter": "python",
   "pygments_lexer": "ipython2",
   "version": "2.7.6"
  }
 },
 "nbformat": 4,
 "nbformat_minor": 0
}