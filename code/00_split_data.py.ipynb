{
 "cells": [
  {
   "cell_type": "markdown",
   "metadata": {
    "pycharm": {
     "name": "#%% md\n"
    }
   },
   "source": [
    "# Split Notes Between Training, Validation, and Testing"
   ]
  },
  {
   "cell_type": "code",
   "execution_count": 67,
   "metadata": {},
   "outputs": [],
   "source": [
    "import pandas as pd\n",
    "from sklearn.model_selection import GroupKFold"
   ]
  },
  {
   "cell_type": "code",
   "execution_count": 68,
   "metadata": {
    "pycharm": {
     "name": "#%%\n"
    }
   },
   "outputs": [],
   "source": [
    "notes = pd.read_table('../data/notes-00000.tsv')\n",
    "tweets = pd.read_csv('../data/tweet_text2021-11-04.csv')\n",
    "ratings = pd.read_csv('../data/ratings-00000.tsv', sep='\\t')\n"
   ]
  },
  {
   "cell_type": "code",
   "execution_count": 69,
   "metadata": {
    "pycharm": {
     "name": "#%%\n"
    }
   },
   "outputs": [
    {
     "name": "stdout",
     "output_type": "stream",
     "text": [
      "Filtering 761 out of 12874 tweets written in languages other than English\n"
     ]
    }
   ],
   "source": [
    "english_tweet_ids = tweets.loc[tweets['lang'] == 'en', 'id']\n",
    "print('Filtering', len(tweets) - len(english_tweet_ids), 'out of', len(tweets),\n",
    "      'tweets written in languages other than English')"
   ]
  },
  {
   "cell_type": "code",
   "execution_count": 70,
   "metadata": {
    "pycharm": {
     "name": "#%%\n"
    }
   },
   "outputs": [],
   "source": [
    "filtered_notes = notes[notes['tweetId'].isin(english_tweet_ids)].reset_index(drop=True)"
   ]
  },
  {
   "cell_type": "code",
   "execution_count": 71,
   "metadata": {
    "pycharm": {
     "name": "#%%\n"
    }
   },
   "outputs": [],
   "source": [
    "groups = filtered_notes['tweetId']\n",
    "group_kfold = GroupKFold(n_splits=10) #1/10 -> 10% for val and testing\n",
    "group_kfold.get_n_splits(X=filtered_notes, groups=groups)\n",
    "train_notes_list = []\n",
    "for i, (_, test_index) in enumerate(group_kfold.split(X=filtered_notes, groups=groups)):\n",
    "    if i == 0:\n",
    "        test_notes = filtered_notes.iloc[test_index, :]\n",
    "    elif i == 1:\n",
    "        val_notes = filtered_notes.iloc[test_index, :]\n",
    "    else:\n",
    "        train_notes_list.append(filtered_notes.iloc[test_index, :])\n",
    "train_notes = pd.concat(train_notes_list)"
   ]
  },
  {
   "cell_type": "code",
   "execution_count": 72,
   "metadata": {},
   "outputs": [
    {
     "data": {
      "text/plain": [
       "(Index(['lang', 'created_at', 'id', 'text', 'author_id', 'possibly_sensitive',\n",
       "        'public_metrics.retweet_count', 'public_metrics.reply_count',\n",
       "        'public_metrics.like_count', 'public_metrics.quote_count',\n",
       "        'withheld.copyright', 'withheld.country_codes', 'withheld.scope'],\n",
       "       dtype='object'),\n",
       " Index(['noteId', 'participantId', 'createdAtMillis', 'version', 'agree',\n",
       "        'disagree', 'helpful', 'notHelpful', 'helpfulnessLevel', 'helpfulOther',\n",
       "        'helpfulInformative', 'helpfulClear', 'helpfulEmpathetic',\n",
       "        'helpfulGoodSources', 'helpfulUniqueContext', 'helpfulAddressesClaim',\n",
       "        'helpfulImportantContext', 'notHelpfulOther', 'notHelpfulIncorrect',\n",
       "        'notHelpfulSourcesMissingOrUnreliable',\n",
       "        'notHelpfulOpinionSpeculationOrBias', 'notHelpfulMissingKeyPoints',\n",
       "        'notHelpfulOutdated', 'notHelpfulHardToUnderstand',\n",
       "        'notHelpfulArgumentativeOrInflammatory', 'notHelpfulOffTopic',\n",
       "        'notHelpfulSpamHarassmentOrAbuse', 'notHelpfulIrrelevantSources'],\n",
       "       dtype='object'))"
      ]
     },
     "execution_count": 72,
     "metadata": {},
     "output_type": "execute_result"
    }
   ],
   "source": [
    "tweets.columns, ratings.columns"
   ]
  },
  {
   "cell_type": "code",
   "execution_count": 73,
   "metadata": {},
   "outputs": [],
   "source": [
    "notes_columns = ['noteId', 'tweetId',\n",
    "       'classification', 'believable', 'harmful', 'validationDifficulty',\n",
    "       'misleadingOther', 'misleadingFactualError',\n",
    "       'misleadingManipulatedMedia', 'misleadingOutdatedInformation',\n",
    "       'misleadingMissingImportantContext', 'misleadingUnverifiedClaimAsFact',\n",
    "       'misleadingSatire', 'notMisleadingOther',\n",
    "       'notMisleadingFactuallyCorrect',\n",
    "       'notMisleadingOutdatedButNotWhenWritten', 'notMisleadingClearlySatire',\n",
    "       'notMisleadingPersonalOpinion', 'trustworthySources', 'summary']\n",
    "\n",
    "tweets_columns = ['id', 'text', 'author_id', 'possibly_sensitive']\n",
    "\n",
    "ratings_columns = ['noteId', 'agree',\n",
    "        'disagree', 'helpful', 'notHelpful', 'helpfulnessLevel', 'helpfulOther',\n",
    "        'helpfulInformative', 'helpfulClear', 'helpfulEmpathetic',\n",
    "        'helpfulGoodSources', 'helpfulUniqueContext', 'helpfulAddressesClaim',\n",
    "        'helpfulImportantContext', 'notHelpfulOther', 'notHelpfulIncorrect',\n",
    "        'notHelpfulSourcesMissingOrUnreliable',\n",
    "        'notHelpfulOpinionSpeculationOrBias', 'notHelpfulMissingKeyPoints',\n",
    "        'notHelpfulOutdated', 'notHelpfulHardToUnderstand',\n",
    "        'notHelpfulArgumentativeOrInflammatory', 'notHelpfulOffTopic',\n",
    "        'notHelpfulSpamHarassmentOrAbuse', 'notHelpfulIrrelevantSources']"
   ]
  },
  {
   "cell_type": "code",
   "execution_count": 74,
   "metadata": {},
   "outputs": [],
   "source": [
    "train = train_notes[notes_columns].join(tweets[tweets_columns].set_index('id'), on='tweetId', how='left', lsuffix='_x', rsuffix='_y')\n",
    "test = test_notes[notes_columns].join(tweets[tweets_columns].set_index('id'), on='tweetId', how='left', lsuffix='_x', rsuffix='_y')\n",
    "val = val_notes[notes_columns].join(tweets[tweets_columns].set_index('id'), on='tweetId', how='left', lsuffix='_x', rsuffix='_y')"
   ]
  },
  {
   "cell_type": "code",
   "execution_count": 75,
   "metadata": {},
   "outputs": [
    {
     "name": "stdout",
     "output_type": "stream",
     "text": [
      "Training set size: 12688\n",
      "Validation set set: 1586\n",
      "Testing set size: 1587\n"
     ]
    }
   ],
   "source": [
    "print('Training set size:', train.shape[0])\n",
    "print('Validation set set:', val.shape[0])\n",
    "print('Testing set size:', test.shape[0])"
   ]
  },
  {
   "cell_type": "code",
   "execution_count": 76,
   "metadata": {},
   "outputs": [],
   "source": [
    "train = train.join(ratings[ratings_columns].dropna().set_index('noteId'), on='noteId', how='left', lsuffix='_x', rsuffix='_y')\n",
    "test = test.join(ratings[ratings_columns].dropna().set_index('noteId'), on='noteId', how='left', lsuffix='_x', rsuffix='_y')\n",
    "val = val.join(ratings[ratings_columns].dropna().set_index('noteId'), on='noteId',  how='left', lsuffix='_x', rsuffix='_y')"
   ]
  },
  {
   "cell_type": "code",
   "execution_count": 77,
   "metadata": {
    "pycharm": {
     "name": "#%%\n"
    }
   },
   "outputs": [
    {
     "name": "stdout",
     "output_type": "stream",
     "text": [
      "Training set size: 69205\n",
      "Validation set set: 10382\n",
      "Testing set size: 7555\n"
     ]
    }
   ],
   "source": [
    "print('Training set size:', train.shape[0])\n",
    "print('Validation set set:', val.shape[0])\n",
    "print('Testing set size:', test.shape[0])"
   ]
  },
  {
   "cell_type": "code",
   "execution_count": 78,
   "metadata": {
    "pycharm": {
     "name": "#%%\n"
    }
   },
   "outputs": [
    {
     "name": "stdout",
     "output_type": "stream",
     "text": [
      "0\n",
      "0\n",
      "0\n"
     ]
    }
   ],
   "source": [
    "print(train_notes['tweetId'].isin(val_notes['tweetId']).sum())\n",
    "print(train_notes['tweetId'].isin(test_notes['tweetId']).sum())\n",
    "print(val_notes['tweetId'].isin(test_notes['tweetId']).sum())"
   ]
  },
  {
   "cell_type": "code",
   "execution_count": 79,
   "metadata": {},
   "outputs": [
    {
     "name": "stdout",
     "output_type": "stream",
     "text": [
      "Index(['noteId', 'tweetId', 'classification', 'believable', 'harmful',\n",
      "       'validationDifficulty', 'misleadingOther', 'misleadingFactualError',\n",
      "       'misleadingManipulatedMedia', 'misleadingOutdatedInformation',\n",
      "       'misleadingMissingImportantContext', 'misleadingUnverifiedClaimAsFact',\n",
      "       'misleadingSatire', 'notMisleadingOther',\n",
      "       'notMisleadingFactuallyCorrect',\n",
      "       'notMisleadingOutdatedButNotWhenWritten', 'notMisleadingClearlySatire',\n",
      "       'notMisleadingPersonalOpinion', 'trustworthySources', 'summary', 'text',\n",
      "       'author_id', 'possibly_sensitive', 'agree', 'disagree', 'helpful',\n",
      "       'notHelpful', 'helpfulnessLevel', 'helpfulOther', 'helpfulInformative',\n",
      "       'helpfulClear', 'helpfulEmpathetic', 'helpfulGoodSources',\n",
      "       'helpfulUniqueContext', 'helpfulAddressesClaim',\n",
      "       'helpfulImportantContext', 'notHelpfulOther', 'notHelpfulIncorrect',\n",
      "       'notHelpfulSourcesMissingOrUnreliable',\n",
      "       'notHelpfulOpinionSpeculationOrBias', 'notHelpfulMissingKeyPoints',\n",
      "       'notHelpfulOutdated', 'notHelpfulHardToUnderstand',\n",
      "       'notHelpfulArgumentativeOrInflammatory', 'notHelpfulOffTopic',\n",
      "       'notHelpfulSpamHarassmentOrAbuse', 'notHelpfulIrrelevantSources'],\n",
      "      dtype='object')\n",
      "Index(['noteId', 'tweetId', 'classification', 'believable', 'harmful',\n",
      "       'validationDifficulty', 'misleadingOther', 'misleadingFactualError',\n",
      "       'misleadingManipulatedMedia', 'misleadingOutdatedInformation',\n",
      "       'misleadingMissingImportantContext', 'misleadingUnverifiedClaimAsFact',\n",
      "       'misleadingSatire', 'notMisleadingOther',\n",
      "       'notMisleadingFactuallyCorrect',\n",
      "       'notMisleadingOutdatedButNotWhenWritten', 'notMisleadingClearlySatire',\n",
      "       'notMisleadingPersonalOpinion', 'trustworthySources', 'summary', 'text',\n",
      "       'author_id', 'possibly_sensitive', 'agree', 'disagree', 'helpful',\n",
      "       'notHelpful', 'helpfulnessLevel', 'helpfulOther', 'helpfulInformative',\n",
      "       'helpfulClear', 'helpfulEmpathetic', 'helpfulGoodSources',\n",
      "       'helpfulUniqueContext', 'helpfulAddressesClaim',\n",
      "       'helpfulImportantContext', 'notHelpfulOther', 'notHelpfulIncorrect',\n",
      "       'notHelpfulSourcesMissingOrUnreliable',\n",
      "       'notHelpfulOpinionSpeculationOrBias', 'notHelpfulMissingKeyPoints',\n",
      "       'notHelpfulOutdated', 'notHelpfulHardToUnderstand',\n",
      "       'notHelpfulArgumentativeOrInflammatory', 'notHelpfulOffTopic',\n",
      "       'notHelpfulSpamHarassmentOrAbuse', 'notHelpfulIrrelevantSources'],\n",
      "      dtype='object')\n",
      "Index(['noteId', 'tweetId', 'classification', 'believable', 'harmful',\n",
      "       'validationDifficulty', 'misleadingOther', 'misleadingFactualError',\n",
      "       'misleadingManipulatedMedia', 'misleadingOutdatedInformation',\n",
      "       'misleadingMissingImportantContext', 'misleadingUnverifiedClaimAsFact',\n",
      "       'misleadingSatire', 'notMisleadingOther',\n",
      "       'notMisleadingFactuallyCorrect',\n",
      "       'notMisleadingOutdatedButNotWhenWritten', 'notMisleadingClearlySatire',\n",
      "       'notMisleadingPersonalOpinion', 'trustworthySources', 'summary', 'text',\n",
      "       'author_id', 'possibly_sensitive', 'agree', 'disagree', 'helpful',\n",
      "       'notHelpful', 'helpfulnessLevel', 'helpfulOther', 'helpfulInformative',\n",
      "       'helpfulClear', 'helpfulEmpathetic', 'helpfulGoodSources',\n",
      "       'helpfulUniqueContext', 'helpfulAddressesClaim',\n",
      "       'helpfulImportantContext', 'notHelpfulOther', 'notHelpfulIncorrect',\n",
      "       'notHelpfulSourcesMissingOrUnreliable',\n",
      "       'notHelpfulOpinionSpeculationOrBias', 'notHelpfulMissingKeyPoints',\n",
      "       'notHelpfulOutdated', 'notHelpfulHardToUnderstand',\n",
      "       'notHelpfulArgumentativeOrInflammatory', 'notHelpfulOffTopic',\n",
      "       'notHelpfulSpamHarassmentOrAbuse', 'notHelpfulIrrelevantSources'],\n",
      "      dtype='object')\n"
     ]
    }
   ],
   "source": [
    "print(train.columns)\n",
    "print(test.columns)\n",
    "print(val.columns)"
   ]
  },
  {
   "cell_type": "code",
   "execution_count": 81,
   "metadata": {
    "pycharm": {
     "name": "#%%\n"
    }
   },
   "outputs": [],
   "source": [
    "train.to_csv('../data/train_split_v2.csv', index=False)\n",
    "val.to_csv('../data/val_split_v2.csv', index=False)\n",
    "test.to_csv('../data/test_split_v2.csv', index=False)"
   ]
  },
  {
   "cell_type": "code",
   "execution_count": null,
   "metadata": {
    "pycharm": {
     "name": "#%%\n"
    }
   },
   "outputs": [],
   "source": []
  },
  {
   "cell_type": "code",
   "execution_count": null,
   "metadata": {},
   "outputs": [],
   "source": []
  }
 ],
 "metadata": {
  "kernelspec": {
   "display_name": "Python 3",
   "language": "python",
   "name": "python3"
  },
  "language_info": {
   "codemirror_mode": {
    "name": "ipython",
    "version": 3
   },
   "file_extension": ".py",
   "mimetype": "text/x-python",
   "name": "python",
   "nbconvert_exporter": "python",
   "pygments_lexer": "ipython3",
   "version": "3.8.10"
  }
 },
 "nbformat": 4,
 "nbformat_minor": 1
}
