{
 "cells": [
  {
   "cell_type": "markdown",
   "source": [
    "# Split Notes Between Training, Validation, and Testing"
   ],
   "metadata": {
    "collapsed": false,
    "pycharm": {
     "name": "#%% md\n"
    }
   }
  },
  {
   "cell_type": "code",
   "execution_count": 1,
   "metadata": {
    "collapsed": true
   },
   "outputs": [],
   "source": [
    "import pandas as pd\n",
    "from sklearn.model_selection import GroupKFold"
   ]
  },
  {
   "cell_type": "code",
   "execution_count": 2,
   "outputs": [],
   "source": [
    "notes = pd.read_table('../data/notes-00000.tsv')\n",
    "tweets = pd.read_csv('../data/tweet_text2021-11-04.csv')"
   ],
   "metadata": {
    "collapsed": false,
    "pycharm": {
     "name": "#%%\n"
    }
   }
  },
  {
   "cell_type": "code",
   "execution_count": 3,
   "outputs": [
    {
     "name": "stdout",
     "output_type": "stream",
     "text": [
      "Filtering 761 out of 12874 tweets written in languages other than English\n"
     ]
    }
   ],
   "source": [
    "english_tweet_ids = tweets.loc[tweets['lang'] == 'en', 'id']\n",
    "print('Filtering', len(tweets) - len(english_tweet_ids), 'out of', len(tweets),\n",
    "      'tweets written in languages other than English')"
   ],
   "metadata": {
    "collapsed": false,
    "pycharm": {
     "name": "#%%\n"
    }
   }
  },
  {
   "cell_type": "code",
   "execution_count": 4,
   "outputs": [],
   "source": [
    "filtered_notes = notes[notes['tweetId'].isin(english_tweet_ids)].reset_index(drop=True)"
   ],
   "metadata": {
    "collapsed": false,
    "pycharm": {
     "name": "#%%\n"
    }
   }
  },
  {
   "cell_type": "code",
   "execution_count": 5,
   "outputs": [],
   "source": [
    "groups = filtered_notes['tweetId']\n",
    "group_kfold = GroupKFold(n_splits=10) #1/10 -> 10% for val and testing\n",
    "group_kfold.get_n_splits(X=filtered_notes, groups=groups)\n",
    "train_notes_list = []\n",
    "for i, (_, test_index) in enumerate(group_kfold.split(X=filtered_notes, groups=groups)):\n",
    "    if i == 0:\n",
    "        test_notes = filtered_notes.iloc[test_index, :]\n",
    "    elif i == 1:\n",
    "        val_notes = filtered_notes.iloc[test_index, :]\n",
    "    else:\n",
    "        train_notes_list.append(filtered_notes.iloc[test_index, :])\n",
    "train_notes = pd.concat(train_notes_list)"
   ],
   "metadata": {
    "collapsed": false,
    "pycharm": {
     "name": "#%%\n"
    }
   }
  },
  {
   "cell_type": "code",
   "execution_count": 6,
   "outputs": [
    {
     "name": "stdout",
     "output_type": "stream",
     "text": [
      "Training set size: 12688\n",
      "Validation set set: 1586\n",
      "Testing set size: 1587\n"
     ]
    }
   ],
   "source": [
    "print('Training set size:', train_notes.shape[0])\n",
    "print('Validation set set:', val_notes.shape[0])\n",
    "print('Testing set size:', test_notes.shape[0])"
   ],
   "metadata": {
    "collapsed": false,
    "pycharm": {
     "name": "#%%\n"
    }
   }
  },
  {
   "cell_type": "code",
   "execution_count": 11,
   "outputs": [
    {
     "name": "stdout",
     "output_type": "stream",
     "text": [
      "0\n",
      "0\n",
      "0\n"
     ]
    }
   ],
   "source": [
    "print(train_notes['tweetId'].isin(val_notes['tweetId']).sum())\n",
    "print(train_notes['tweetId'].isin(test_notes['tweetId']).sum())\n",
    "print(val_notes['tweetId'].isin(test_notes['tweetId']).sum())"
   ],
   "metadata": {
    "collapsed": false,
    "pycharm": {
     "name": "#%%\n"
    }
   }
  },
  {
   "cell_type": "code",
   "execution_count": 9,
   "outputs": [],
   "source": [
    "train_notes.to_csv('../data/train_split_v1.csv', index=False)\n",
    "val_notes.to_csv('../data/val_split_v1.csv', index=False)\n",
    "test_notes.to_csv('../data/test_split_v1.csv', index=False)"
   ],
   "metadata": {
    "collapsed": false,
    "pycharm": {
     "name": "#%%\n"
    }
   }
  },
  {
   "cell_type": "code",
   "execution_count": null,
   "outputs": [],
   "source": [],
   "metadata": {
    "collapsed": false,
    "pycharm": {
     "name": "#%%\n"
    }
   }
  }
 ],
 "metadata": {
  "kernelspec": {
   "display_name": "Python 3",
   "language": "python",
   "name": "python3"
  },
  "language_info": {
   "codemirror_mode": {
    "name": "ipython",
    "version": 2
   },
   "file_extension": ".py",
   "mimetype": "text/x-python",
   "name": "python",
   "nbconvert_exporter": "python",
   "pygments_lexer": "ipython2",
   "version": "2.7.6"
  }
 },
 "nbformat": 4,
 "nbformat_minor": 0
}