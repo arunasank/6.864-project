{
 "cells": [
  {
   "cell_type": "markdown",
   "source": [
    "# Bag of Words model\n",
    "\n",
    "Here we train and test a Bag of Words model to predict helpful notes on\n",
    "Birdwatch."
   ],
   "metadata": {
    "collapsed": false,
    "pycharm": {
     "name": "#%% md\n"
    }
   }
  },
  {
   "cell_type": "code",
   "execution_count": 9,
   "metadata": {
    "collapsed": true
   },
   "outputs": [],
   "source": [
    "import numpy as np\n",
    "import pandas as pd\n",
    "from sklearn.feature_extraction.text import CountVectorizer\n",
    "import scipy\n",
    "from scipy.sparse import hstack\n",
    "from sklearn.ensemble import GradientBoostingClassifier\n",
    "from collections import OrderedDict\n",
    "import shap\n",
    "from tqdm import tqdm\n",
    "from joblib import dump\n",
    "\n",
    "from core_functions import evaluate_model"
   ]
  },
  {
   "cell_type": "code",
   "execution_count": 2,
   "outputs": [],
   "source": [
    "train_data = pd.read_csv('../data/processed/training_data.csv')\n",
    "val_data = pd.read_csv('../data/processed/val_data.csv')\n",
    "test_data = pd.read_csv('../data/processed/test_data.csv')"
   ],
   "metadata": {
    "collapsed": false,
    "pycharm": {
     "name": "#%%\n"
    }
   }
  },
  {
   "cell_type": "markdown",
   "source": [
    "### Featurization"
   ],
   "metadata": {
    "collapsed": false,
    "pycharm": {
     "name": "#%% md\n"
    }
   }
  },
  {
   "cell_type": "code",
   "execution_count": 3,
   "outputs": [],
   "source": [
    "datasets = OrderedDict([('train', {'notes': train_data.iloc[:,:22].drop_duplicates().reset_index(drop=True),\n",
    "                                   'notes_ratings': train_data}),\n",
    "                        ('val', {'notes': val_data.iloc[:, :22].drop_duplicates().reset_index(drop=True),\n",
    "                                 'notes_ratings': val_data}),\n",
    "                        ('test', {'notes': test_data.iloc[:, :22].drop_duplicates().reset_index(drop=True),\n",
    "                                  'notes_ratings': test_data})])"
   ],
   "metadata": {
    "collapsed": false,
    "pycharm": {
     "name": "#%%\n"
    }
   }
  },
  {
   "cell_type": "code",
   "execution_count": 4,
   "outputs": [
    {
     "name": "stderr",
     "output_type": "stream",
     "text": [
      " 33%|███▎      | 1/3 [00:56<01:53, 56.59s/it]"
     ]
    },
    {
     "name": "stdout",
     "output_type": "stream",
     "text": [
      "train size 88185\n"
     ]
    },
    {
     "name": "stderr",
     "output_type": "stream",
     "text": [
      " 67%|██████▋   | 2/3 [00:59<00:25, 25.20s/it]"
     ]
    },
    {
     "name": "stdout",
     "output_type": "stream",
     "text": [
      "val size 11641\n"
     ]
    },
    {
     "name": "stderr",
     "output_type": "stream",
     "text": [
      "100%|██████████| 3/3 [01:03<00:00, 21.09s/it]"
     ]
    },
    {
     "name": "stdout",
     "output_type": "stream",
     "text": [
      "test size 10507\n"
     ]
    },
    {
     "name": "stderr",
     "output_type": "stream",
     "text": [
      "\n"
     ]
    }
   ],
   "source": [
    "feature_names = []\n",
    "for name, data_dict in tqdm(datasets.items(), total=3):\n",
    "    notes_df = data_dict['notes']\n",
    "    notes_ratings_df = data_dict['notes_ratings']\n",
    "\n",
    "    if name == 'train':\n",
    "        mono_vectorizer_summary = CountVectorizer(max_features=4000)\n",
    "        mono_vectorizer_summary.fit(notes_df['summary'])\n",
    "        feature_names.extend(mono_vectorizer_summary.get_feature_names_out())\n",
    "    mono_X_summary = mono_vectorizer_summary.transform(notes_df['summary'])\n",
    "\n",
    "    if name == 'train':\n",
    "        bi_vectorizer_summary = CountVectorizer(max_features=4000, ngram_range=(2, 2))\n",
    "        bi_vectorizer_summary.fit(notes_df['summary'])\n",
    "        feature_names.extend(bi_vectorizer_summary.get_feature_names_out())\n",
    "    bi_X_summary = bi_vectorizer_summary.transform(notes_df['summary'])\n",
    "\n",
    "    sparse_X = hstack([mono_X_summary, bi_X_summary])\n",
    "    X_df = pd.DataFrame(sparse_X.todense())\n",
    "    X_df['noteId'] = notes_df['noteId']\n",
    "    merged_X_df = X_df.merge(notes_ratings_df[['noteId', 'output', 'scaling']],\n",
    "                             how='inner', on='noteId')\n",
    "    X = scipy.sparse.csr_matrix(merged_X_df.drop(['noteId', 'output', 'scaling'], axis=1))\n",
    "    datasets[name]['X'] = X\n",
    "    datasets[name]['Y'] = merged_X_df['output']\n",
    "    datasets[name]['scaling'] = merged_X_df['scaling']\n",
    "    datasets[name]['noteId'] = merged_X_df['noteId']\n",
    "    print(name, 'size', merged_X_df.shape[0])"
   ],
   "metadata": {
    "collapsed": false,
    "pycharm": {
     "name": "#%%\n"
    }
   }
  },
  {
   "cell_type": "code",
   "execution_count": 5,
   "outputs": [
    {
     "data": {
      "text/plain": "0.6603216903017036"
     },
     "execution_count": 5,
     "metadata": {},
     "output_type": "execute_result"
    }
   ],
   "source": [
    "datasets['test']['Y'].sum()/len(datasets['test']['Y'])"
   ],
   "metadata": {
    "collapsed": false,
    "pycharm": {
     "name": "#%%\n"
    }
   }
  },
  {
   "cell_type": "code",
   "execution_count": 6,
   "outputs": [
    {
     "name": "stdout",
     "output_type": "stream",
     "text": [
      "      Iter       Train Loss   Remaining Time \n",
      "         1           1.2910           17.40s\n",
      "         2           1.2809           15.71s\n",
      "         3           1.2727           14.79s\n",
      "         4           1.2660           14.46s\n",
      "         5           1.2605           14.23s\n",
      "         6           1.2559           13.88s\n",
      "         7           1.2520           13.67s\n",
      "         8           1.2489           13.41s\n",
      "         9           1.2460           13.19s\n",
      "        10           1.2436           12.98s\n",
      "        20           1.2297           11.32s\n",
      "        30           1.2217            9.75s\n",
      "        40           1.2157            8.28s\n",
      "        50           1.2104            6.90s\n",
      "        60           1.2060            5.50s\n",
      "        70           1.2016            4.10s\n",
      "        80           1.1974            2.72s\n",
      "        90           1.1935            1.35s\n",
      "       100           1.1902            0.00s\n"
     ]
    },
    {
     "data": {
      "text/plain": "GradientBoostingClassifier(random_state=7, verbose=1)"
     },
     "execution_count": 6,
     "metadata": {},
     "output_type": "execute_result"
    }
   ],
   "source": [
    "model = GradientBoostingClassifier(random_state=7, verbose=1)\n",
    "model.fit(datasets['train']['X'], datasets['train']['Y'],\n",
    "          sample_weight=datasets['train']['scaling'])\n"
   ],
   "metadata": {
    "collapsed": false,
    "pycharm": {
     "name": "#%%\n"
    }
   }
  },
  {
   "cell_type": "code",
   "execution_count": 7,
   "outputs": [],
   "source": [
    "for name, data_dict in datasets.items():\n",
    "    predictions = model.predict(data_dict['X'])\n",
    "    p_hat = model.predict_proba(data_dict['X'])[:, 1]\n",
    "    observations = data_dict['Y']\n",
    "    scaling = data_dict['scaling']\n",
    "    performance_dict = evaluate_model(predictions, p_hat, observations,\n",
    "                                      scaling, name)\n",
    "    data_dict['Y_hat'] = predictions\n",
    "    data_dict['p_hat'] = p_hat\n",
    "    data_dict['performance'] = performance_dict"
   ],
   "metadata": {
    "collapsed": false,
    "pycharm": {
     "name": "#%%\n"
    }
   }
  },
  {
   "cell_type": "code",
   "execution_count": 8,
   "outputs": [
    {
     "data": {
      "text/plain": "   accuracy        f1  precision    recall   roc-auc  avg_precision   name\n0  0.686289  0.781485   0.707585  0.872621  0.717342       0.815078  train\n1  0.668018  0.767519   0.689992  0.864673  0.663116       0.752398    val\n2  0.656928  0.758216   0.692243  0.838090  0.649306       0.755782   test",
      "text/html": "<div>\n<style scoped>\n    .dataframe tbody tr th:only-of-type {\n        vertical-align: middle;\n    }\n\n    .dataframe tbody tr th {\n        vertical-align: top;\n    }\n\n    .dataframe thead th {\n        text-align: right;\n    }\n</style>\n<table border=\"1\" class=\"dataframe\">\n  <thead>\n    <tr style=\"text-align: right;\">\n      <th></th>\n      <th>accuracy</th>\n      <th>f1</th>\n      <th>precision</th>\n      <th>recall</th>\n      <th>roc-auc</th>\n      <th>avg_precision</th>\n      <th>name</th>\n    </tr>\n  </thead>\n  <tbody>\n    <tr>\n      <th>0</th>\n      <td>0.686289</td>\n      <td>0.781485</td>\n      <td>0.707585</td>\n      <td>0.872621</td>\n      <td>0.717342</td>\n      <td>0.815078</td>\n      <td>train</td>\n    </tr>\n    <tr>\n      <th>1</th>\n      <td>0.668018</td>\n      <td>0.767519</td>\n      <td>0.689992</td>\n      <td>0.864673</td>\n      <td>0.663116</td>\n      <td>0.752398</td>\n      <td>val</td>\n    </tr>\n    <tr>\n      <th>2</th>\n      <td>0.656928</td>\n      <td>0.758216</td>\n      <td>0.692243</td>\n      <td>0.838090</td>\n      <td>0.649306</td>\n      <td>0.755782</td>\n      <td>test</td>\n    </tr>\n  </tbody>\n</table>\n</div>"
     },
     "execution_count": 8,
     "metadata": {},
     "output_type": "execute_result"
    }
   ],
   "source": [
    "performance_metrics = []\n",
    "for name, data_dict in datasets.items():\n",
    "    performance_metrics.append(data_dict['performance'])\n",
    "performance_metrics_df = pd.DataFrame(performance_metrics)\n",
    "performance_metrics_df"
   ],
   "metadata": {
    "collapsed": false,
    "pycharm": {
     "name": "#%%\n"
    }
   }
  },
  {
   "cell_type": "markdown",
   "source": [
    "We'll output the model anlong with featurizers"
   ],
   "metadata": {
    "collapsed": false,
    "pycharm": {
     "name": "#%% md\n"
    }
   }
  },
  {
   "cell_type": "code",
   "execution_count": 10,
   "outputs": [
    {
     "data": {
      "text/plain": "['../data/models/bow/bi_vectorizer.joblib']"
     },
     "execution_count": 10,
     "metadata": {},
     "output_type": "execute_result"
    }
   ],
   "source": [
    "dump(model, '../data/models/bow/gb_model.joblib')\n",
    "dump(mono_vectorizer_summary, '../data/models/bow/mono_vectorizer.joblib')\n",
    "dump(bi_vectorizer_summary, '../data/models/bow/bi_vectorizer.joblib')"
   ],
   "metadata": {
    "collapsed": false,
    "pycharm": {
     "name": "#%%\n"
    }
   }
  },
  {
   "cell_type": "markdown",
   "source": [
    "### Feature Importance"
   ],
   "metadata": {
    "collapsed": false,
    "pycharm": {
     "name": "#%% md\n"
    }
   }
  },
  {
   "cell_type": "code",
   "execution_count": 9,
   "outputs": [],
   "source": [
    "explainer = shap.TreeExplainer(model)\n",
    "shap_values = explainer(datasets['train']['X'].todense())"
   ],
   "metadata": {
    "collapsed": false,
    "pycharm": {
     "name": "#%%\n"
    }
   }
  },
  {
   "cell_type": "code",
   "execution_count": 10,
   "outputs": [],
   "source": [
    "shap_values_df = pd.DataFrame(shap_values.values, columns=feature_names)\n",
    "feature_df = pd.DataFrame(shap_values.data, columns=feature_names)"
   ],
   "metadata": {
    "collapsed": false,
    "pycharm": {
     "name": "#%%\n"
    }
   }
  },
  {
   "cell_type": "code",
   "execution_count": 11,
   "outputs": [],
   "source": [
    "feat_summary = (shap_values_df.abs().mean(axis=0)\n",
    "                .reset_index(name='avg_abs_shap')\n",
    "                .rename({'index': 'feat'}, axis=1)\n",
    "                .sort_values('avg_abs_shap', ascending=False))\n",
    "top_features = feat_summary.head(20).reset_index(drop=True)"
   ],
   "metadata": {
    "collapsed": false,
    "pycharm": {
     "name": "#%%\n"
    }
   }
  },
  {
   "cell_type": "code",
   "execution_count": 12,
   "outputs": [
    {
     "name": "stderr",
     "output_type": "stream",
     "text": [
      "100%|██████████| 20/20 [00:25<00:00,  1.29s/it]\n"
     ]
    }
   ],
   "source": [
    "for i, row in tqdm(top_features.iterrows(), total=len(top_features)):\n",
    "    if (shap_values_df[row['feat']].nunique() > 1):\n",
    "        top_features.at[i, 'r'] = np.corrcoef(feature_df[row['feat']],\n",
    "                                              shap_values_df[row['feat']])[0, 1]\n",
    "        top_features.at[i, 'n_nonzero'] = (feature_df[row['feat']] > 0).sum()\n",
    "    else:\n",
    "        top_features.at[i, 'r'] = 0"
   ],
   "metadata": {
    "collapsed": false,
    "pycharm": {
     "name": "#%%\n"
    }
   }
  },
  {
   "cell_type": "code",
   "execution_count": 13,
   "outputs": [
    {
     "data": {
      "text/plain": "               feat  avg_abs_shap         r  n_nonzero\n0             https      0.374783  0.732813    56235.0\n1               the      0.055651  0.650075    62160.0\n2              this      0.049081  0.892104    28164.0\n3               www      0.040680  0.826214    38370.0\n4           article      0.016718  0.897333     7367.0\n5         according      0.014260  0.973381     1769.0\n6             covid      0.013306  0.782979    12184.0\n7             photo      0.011293  0.936914     1179.0\n8                in      0.010344  0.770337    32580.0\n9   factchecks 2021      0.009356  0.990133      749.0\n10             joke      0.008107  0.940080     1589.0\n11               19      0.007936  0.858302     8722.0\n12     groups https      0.006935 -0.967097      340.0\n13             quot      0.006866  0.908285    10269.0\n14            check      0.006782  0.939150     3184.0\n15           snopes      0.005631  0.945484     1055.0\n16             said      0.005295  0.904010     2491.0\n17         multiple      0.005255  0.929254     1153.0\n18            image      0.005033  0.908081      720.0\n19              but      0.004972  0.971758     5873.0",
      "text/html": "<div>\n<style scoped>\n    .dataframe tbody tr th:only-of-type {\n        vertical-align: middle;\n    }\n\n    .dataframe tbody tr th {\n        vertical-align: top;\n    }\n\n    .dataframe thead th {\n        text-align: right;\n    }\n</style>\n<table border=\"1\" class=\"dataframe\">\n  <thead>\n    <tr style=\"text-align: right;\">\n      <th></th>\n      <th>feat</th>\n      <th>avg_abs_shap</th>\n      <th>r</th>\n      <th>n_nonzero</th>\n    </tr>\n  </thead>\n  <tbody>\n    <tr>\n      <th>0</th>\n      <td>https</td>\n      <td>0.374783</td>\n      <td>0.732813</td>\n      <td>56235.0</td>\n    </tr>\n    <tr>\n      <th>1</th>\n      <td>the</td>\n      <td>0.055651</td>\n      <td>0.650075</td>\n      <td>62160.0</td>\n    </tr>\n    <tr>\n      <th>2</th>\n      <td>this</td>\n      <td>0.049081</td>\n      <td>0.892104</td>\n      <td>28164.0</td>\n    </tr>\n    <tr>\n      <th>3</th>\n      <td>www</td>\n      <td>0.040680</td>\n      <td>0.826214</td>\n      <td>38370.0</td>\n    </tr>\n    <tr>\n      <th>4</th>\n      <td>article</td>\n      <td>0.016718</td>\n      <td>0.897333</td>\n      <td>7367.0</td>\n    </tr>\n    <tr>\n      <th>5</th>\n      <td>according</td>\n      <td>0.014260</td>\n      <td>0.973381</td>\n      <td>1769.0</td>\n    </tr>\n    <tr>\n      <th>6</th>\n      <td>covid</td>\n      <td>0.013306</td>\n      <td>0.782979</td>\n      <td>12184.0</td>\n    </tr>\n    <tr>\n      <th>7</th>\n      <td>photo</td>\n      <td>0.011293</td>\n      <td>0.936914</td>\n      <td>1179.0</td>\n    </tr>\n    <tr>\n      <th>8</th>\n      <td>in</td>\n      <td>0.010344</td>\n      <td>0.770337</td>\n      <td>32580.0</td>\n    </tr>\n    <tr>\n      <th>9</th>\n      <td>factchecks 2021</td>\n      <td>0.009356</td>\n      <td>0.990133</td>\n      <td>749.0</td>\n    </tr>\n    <tr>\n      <th>10</th>\n      <td>joke</td>\n      <td>0.008107</td>\n      <td>0.940080</td>\n      <td>1589.0</td>\n    </tr>\n    <tr>\n      <th>11</th>\n      <td>19</td>\n      <td>0.007936</td>\n      <td>0.858302</td>\n      <td>8722.0</td>\n    </tr>\n    <tr>\n      <th>12</th>\n      <td>groups https</td>\n      <td>0.006935</td>\n      <td>-0.967097</td>\n      <td>340.0</td>\n    </tr>\n    <tr>\n      <th>13</th>\n      <td>quot</td>\n      <td>0.006866</td>\n      <td>0.908285</td>\n      <td>10269.0</td>\n    </tr>\n    <tr>\n      <th>14</th>\n      <td>check</td>\n      <td>0.006782</td>\n      <td>0.939150</td>\n      <td>3184.0</td>\n    </tr>\n    <tr>\n      <th>15</th>\n      <td>snopes</td>\n      <td>0.005631</td>\n      <td>0.945484</td>\n      <td>1055.0</td>\n    </tr>\n    <tr>\n      <th>16</th>\n      <td>said</td>\n      <td>0.005295</td>\n      <td>0.904010</td>\n      <td>2491.0</td>\n    </tr>\n    <tr>\n      <th>17</th>\n      <td>multiple</td>\n      <td>0.005255</td>\n      <td>0.929254</td>\n      <td>1153.0</td>\n    </tr>\n    <tr>\n      <th>18</th>\n      <td>image</td>\n      <td>0.005033</td>\n      <td>0.908081</td>\n      <td>720.0</td>\n    </tr>\n    <tr>\n      <th>19</th>\n      <td>but</td>\n      <td>0.004972</td>\n      <td>0.971758</td>\n      <td>5873.0</td>\n    </tr>\n  </tbody>\n</table>\n</div>"
     },
     "execution_count": 13,
     "metadata": {},
     "output_type": "execute_result"
    }
   ],
   "source": [
    "top_features"
   ],
   "metadata": {
    "collapsed": false,
    "pycharm": {
     "name": "#%%\n"
    }
   }
  },
  {
   "cell_type": "markdown",
   "source": [
    "Here we output a table of features for Latex"
   ],
   "metadata": {
    "collapsed": false,
    "pycharm": {
     "name": "#%% md\n"
    }
   }
  },
  {
   "cell_type": "code",
   "execution_count": 14,
   "outputs": [
    {
     "name": "stdout",
     "output_type": "stream",
     "text": [
      "\\begin{tabular}{lrr}\n",
      "\\toprule\n",
      "        Feature &  SHAP value &  SHAP correlation \\\\\n",
      "\\midrule\n",
      "          https &       0.375 &             0.733 \\\\\n",
      "            the &       0.056 &             0.650 \\\\\n",
      "           this &       0.049 &             0.892 \\\\\n",
      "            www &       0.041 &             0.826 \\\\\n",
      "        article &       0.017 &             0.897 \\\\\n",
      "      according &       0.014 &             0.973 \\\\\n",
      "          covid &       0.013 &             0.783 \\\\\n",
      "          photo &       0.011 &             0.937 \\\\\n",
      "             in &       0.010 &             0.770 \\\\\n",
      "factchecks 2021 &       0.009 &             0.990 \\\\\n",
      "\\bottomrule\n",
      "\\end{tabular}\n",
      "\n"
     ]
    }
   ],
   "source": [
    "print(top_features[['feat', 'avg_abs_shap', 'r']]\n",
    " .rename({'feat': 'Feature',\n",
    "          'avg_abs_shap': 'SHAP value',\n",
    "          'r': 'SHAP correlation'}, axis=1)\n",
    " .head(10).to_latex(float_format=\"%.3f\", index=False))"
   ],
   "metadata": {
    "collapsed": false,
    "pycharm": {
     "name": "#%%\n"
    }
   }
  },
  {
   "cell_type": "code",
   "execution_count": 15,
   "outputs": [
    {
     "data": {
      "text/plain": "       000   01  011   02  021   03   04   05   06   07  ...  you re  \\\n41083  0.0  0.0  0.0  0.0  0.0  0.0  0.0  0.0  0.0  0.0  ...     0.0   \n41075  0.0  0.0  0.0  0.0  0.0  0.0  0.0  0.0  0.0  0.0  ...     0.0   \n41082  0.0  0.0  0.0  0.0  0.0  0.0  0.0  0.0  0.0  0.0  ...     0.0   \n41084  0.0  0.0  0.0  0.0  0.0  0.0  0.0  0.0  0.0  0.0  ...     0.0   \n41085  0.0  0.0  0.0  0.0  0.0  0.0  0.0  0.0  0.0  0.0  ...     0.0   \n\n       you should  you to  you will  your civil  your dna  youtu be  \\\n41083         0.0     0.0       0.0         0.0       0.0       0.0   \n41075         0.0     0.0       0.0         0.0       0.0       0.0   \n41082         0.0     0.0       0.0         0.0       0.0       0.0   \n41084         0.0     0.0       0.0         0.0       0.0       0.0   \n41085         0.0     0.0       0.0         0.0       0.0       0.0   \n\n        youtube com  zero dollars  zero evidence  \n41083 -8.280420e-07           0.0            0.0  \n41075 -8.280420e-07           0.0            0.0  \n41082 -8.280420e-07           0.0            0.0  \n41084 -8.280420e-07           0.0            0.0  \n41085 -8.280420e-07           0.0            0.0  \n\n[5 rows x 8000 columns]",
      "text/html": "<div>\n<style scoped>\n    .dataframe tbody tr th:only-of-type {\n        vertical-align: middle;\n    }\n\n    .dataframe tbody tr th {\n        vertical-align: top;\n    }\n\n    .dataframe thead th {\n        text-align: right;\n    }\n</style>\n<table border=\"1\" class=\"dataframe\">\n  <thead>\n    <tr style=\"text-align: right;\">\n      <th></th>\n      <th>000</th>\n      <th>01</th>\n      <th>011</th>\n      <th>02</th>\n      <th>021</th>\n      <th>03</th>\n      <th>04</th>\n      <th>05</th>\n      <th>06</th>\n      <th>07</th>\n      <th>...</th>\n      <th>you re</th>\n      <th>you should</th>\n      <th>you to</th>\n      <th>you will</th>\n      <th>your civil</th>\n      <th>your dna</th>\n      <th>youtu be</th>\n      <th>youtube com</th>\n      <th>zero dollars</th>\n      <th>zero evidence</th>\n    </tr>\n  </thead>\n  <tbody>\n    <tr>\n      <th>41083</th>\n      <td>0.0</td>\n      <td>0.0</td>\n      <td>0.0</td>\n      <td>0.0</td>\n      <td>0.0</td>\n      <td>0.0</td>\n      <td>0.0</td>\n      <td>0.0</td>\n      <td>0.0</td>\n      <td>0.0</td>\n      <td>...</td>\n      <td>0.0</td>\n      <td>0.0</td>\n      <td>0.0</td>\n      <td>0.0</td>\n      <td>0.0</td>\n      <td>0.0</td>\n      <td>0.0</td>\n      <td>-8.280420e-07</td>\n      <td>0.0</td>\n      <td>0.0</td>\n    </tr>\n    <tr>\n      <th>41075</th>\n      <td>0.0</td>\n      <td>0.0</td>\n      <td>0.0</td>\n      <td>0.0</td>\n      <td>0.0</td>\n      <td>0.0</td>\n      <td>0.0</td>\n      <td>0.0</td>\n      <td>0.0</td>\n      <td>0.0</td>\n      <td>...</td>\n      <td>0.0</td>\n      <td>0.0</td>\n      <td>0.0</td>\n      <td>0.0</td>\n      <td>0.0</td>\n      <td>0.0</td>\n      <td>0.0</td>\n      <td>-8.280420e-07</td>\n      <td>0.0</td>\n      <td>0.0</td>\n    </tr>\n    <tr>\n      <th>41082</th>\n      <td>0.0</td>\n      <td>0.0</td>\n      <td>0.0</td>\n      <td>0.0</td>\n      <td>0.0</td>\n      <td>0.0</td>\n      <td>0.0</td>\n      <td>0.0</td>\n      <td>0.0</td>\n      <td>0.0</td>\n      <td>...</td>\n      <td>0.0</td>\n      <td>0.0</td>\n      <td>0.0</td>\n      <td>0.0</td>\n      <td>0.0</td>\n      <td>0.0</td>\n      <td>0.0</td>\n      <td>-8.280420e-07</td>\n      <td>0.0</td>\n      <td>0.0</td>\n    </tr>\n    <tr>\n      <th>41084</th>\n      <td>0.0</td>\n      <td>0.0</td>\n      <td>0.0</td>\n      <td>0.0</td>\n      <td>0.0</td>\n      <td>0.0</td>\n      <td>0.0</td>\n      <td>0.0</td>\n      <td>0.0</td>\n      <td>0.0</td>\n      <td>...</td>\n      <td>0.0</td>\n      <td>0.0</td>\n      <td>0.0</td>\n      <td>0.0</td>\n      <td>0.0</td>\n      <td>0.0</td>\n      <td>0.0</td>\n      <td>-8.280420e-07</td>\n      <td>0.0</td>\n      <td>0.0</td>\n    </tr>\n    <tr>\n      <th>41085</th>\n      <td>0.0</td>\n      <td>0.0</td>\n      <td>0.0</td>\n      <td>0.0</td>\n      <td>0.0</td>\n      <td>0.0</td>\n      <td>0.0</td>\n      <td>0.0</td>\n      <td>0.0</td>\n      <td>0.0</td>\n      <td>...</td>\n      <td>0.0</td>\n      <td>0.0</td>\n      <td>0.0</td>\n      <td>0.0</td>\n      <td>0.0</td>\n      <td>0.0</td>\n      <td>0.0</td>\n      <td>-8.280420e-07</td>\n      <td>0.0</td>\n      <td>0.0</td>\n    </tr>\n  </tbody>\n</table>\n<p>5 rows × 8000 columns</p>\n</div>"
     },
     "execution_count": 15,
     "metadata": {},
     "output_type": "execute_result"
    }
   ],
   "source": [
    "shap_values_df.sort_values('the', ascending=False).head()"
   ],
   "metadata": {
    "collapsed": false,
    "pycharm": {
     "name": "#%%\n"
    }
   }
  },
  {
   "cell_type": "code",
   "execution_count": 16,
   "outputs": [
    {
     "data": {
      "text/plain": "<Figure size 1440x216 with 1 Axes>",
      "image/png": "[encoded data removed]"
     },
     "metadata": {
      "needs_background": "light"
     },
     "output_type": "display_data"
    },
    {
     "data": {
      "text/plain": "'Read the article. The person who ran over someone was a member of the LGBTQ choir. The whole thing was an accident.'"
     },
     "execution_count": 16,
     "metadata": {},
     "output_type": "execute_result"
    }
   ],
   "source": [
    "feat_i = 41083\n",
    "shap.plots.force(float(shap_values.base_values[feat_i]),\n",
    "                 shap_values.values[feat_i],\n",
    "                 np.asarray(shap_values.data[feat_i, :]),\n",
    "                 matplotlib=True,\n",
    "                 feature_names=feature_names)\n",
    "sample_note_id = datasets['train']['noteId'][feat_i]\n",
    "notes_df = datasets['train']['notes']\n",
    "notes_df[notes_df['noteId'] == sample_note_id]['summary'].values[0]"
   ],
   "metadata": {
    "collapsed": false,
    "pycharm": {
     "name": "#%%\n"
    }
   }
  },
  {
   "cell_type": "code",
   "execution_count": 16,
   "outputs": [],
   "source": [],
   "metadata": {
    "collapsed": false,
    "pycharm": {
     "name": "#%%\n"
    }
   }
  }
 ],
 "metadata": {
  "kernelspec": {
   "display_name": "Python 3",
   "language": "python",
   "name": "python3"
  },
  "language_info": {
   "codemirror_mode": {
    "name": "ipython",
    "version": 2
   },
   "file_extension": ".py",
   "mimetype": "text/x-python",
   "name": "python",
   "nbconvert_exporter": "python",
   "pygments_lexer": "ipython2",
   "version": "2.7.6"
  }
 },
 "nbformat": 4,
 "nbformat_minor": 0
}