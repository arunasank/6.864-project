{
 "cells": [
  {
   "cell_type": "markdown",
   "source": [
    "# Bag of Words"
   ],
   "metadata": {
    "collapsed": false,
    "pycharm": {
     "name": "#%% md\n"
    }
   }
  },
  {
   "cell_type": "code",
   "execution_count": 1,
   "metadata": {
    "collapsed": true
   },
   "outputs": [],
   "source": [
    "import numpy as np\n",
    "import pandas as pd\n",
    "from sklearn.model_selection import GroupKFold\n",
    "from sklearn.feature_extraction.text import CountVectorizer\n",
    "from sklearn import metrics\n",
    "import scipy\n",
    "from scipy.sparse import hstack\n",
    "from sklearn.ensemble import GradientBoostingClassifier\n",
    "from collections import OrderedDict\n",
    "import shap\n",
    "from tqdm import tqdm"
   ]
  },
  {
   "cell_type": "code",
   "execution_count": 2,
   "outputs": [],
   "source": [
    "notes = pd.read_table('../data/notes-00000.tsv')\n",
    "ratings = pd.read_table('../data/ratings-00000.tsv')\n",
    "tweets = pd.read_csv('../data/tweet_text2021-11-04.csv')"
   ],
   "metadata": {
    "collapsed": false,
    "pycharm": {
     "name": "#%%\n"
    }
   }
  },
  {
   "cell_type": "markdown",
   "source": [
    "## Splitting Data"
   ],
   "metadata": {
    "collapsed": false,
    "pycharm": {
     "name": "#%% md\n"
    }
   }
  },
  {
   "cell_type": "code",
   "execution_count": 3,
   "outputs": [
    {
     "name": "stdout",
     "output_type": "stream",
     "text": [
      "Filtering 761 out of 12874 tweets written in languages other than English\n"
     ]
    }
   ],
   "source": [
    "english_tweet_ids = tweets.loc[tweets['lang'] == 'en', 'id']\n",
    "print('Filtering', len(tweets) - len(english_tweet_ids), 'out of', len(tweets),\n",
    "      'tweets written in languages other than English')"
   ],
   "metadata": {
    "collapsed": false,
    "pycharm": {
     "name": "#%%\n"
    }
   }
  },
  {
   "cell_type": "code",
   "execution_count": 4,
   "outputs": [],
   "source": [
    "filtered_notes = notes[notes['tweetId'].isin(english_tweet_ids)].reset_index(drop=True)"
   ],
   "metadata": {
    "collapsed": false,
    "pycharm": {
     "name": "#%%\n"
    }
   }
  },
  {
   "cell_type": "code",
   "execution_count": 5,
   "outputs": [],
   "source": [
    "groups = filtered_notes['tweetId']\n",
    "group_kfold = GroupKFold(n_splits=10) #1/10 -> 10% for val and testing\n",
    "group_kfold.get_n_splits(X=filtered_notes, groups=groups)\n",
    "train_notes_list = []\n",
    "for i, (_, test_index) in enumerate(group_kfold.split(X=filtered_notes, groups=groups)):\n",
    "    if i == 0:\n",
    "        test_notes = filtered_notes.iloc[test_index, :]\n",
    "    elif i == 1:\n",
    "        val_notes = filtered_notes.iloc[test_index, :]\n",
    "    else:\n",
    "        train_notes_list.append(filtered_notes.iloc[test_index, :])\n",
    "train_notes = pd.concat(train_notes_list)"
   ],
   "metadata": {
    "collapsed": false,
    "pycharm": {
     "name": "#%%\n"
    }
   }
  },
  {
   "cell_type": "code",
   "execution_count": 6,
   "outputs": [
    {
     "name": "stdout",
     "output_type": "stream",
     "text": [
      "Training set size: 12688\n",
      "Validation set set: 1586\n",
      "Testing set size: 1587\n"
     ]
    }
   ],
   "source": [
    "print('Training set size:', train_notes.shape[0])\n",
    "print('Validation set set:', val_notes.shape[0])\n",
    "print('Testing set size:', test_notes.shape[0])"
   ],
   "metadata": {
    "collapsed": false,
    "pycharm": {
     "name": "#%%\n"
    }
   }
  },
  {
   "cell_type": "markdown",
   "source": [
    "### Generating outputs"
   ],
   "metadata": {
    "collapsed": false,
    "pycharm": {
     "name": "#%% md\n"
    }
   }
  },
  {
   "cell_type": "code",
   "execution_count": 7,
   "outputs": [],
   "source": [
    "def get_helful_out(row):\n",
    "    if pd.isna(row['helpfulnessLevel']):\n",
    "        return row['helpful']\n",
    "    else:\n",
    "        if row['helpfulnessLevel'] == 'NOT_HELPFUL':\n",
    "            return 0\n",
    "        else:\n",
    "            return 1\n",
    "\n",
    "ratings['helpful_out'] = (ratings\n",
    "                          .apply(get_helful_out, axis=1))"
   ],
   "metadata": {
    "collapsed": false,
    "pycharm": {
     "name": "#%%\n"
    }
   }
  },
  {
   "cell_type": "code",
   "execution_count": 8,
   "outputs": [
    {
     "data": {
      "text/plain": "1    79311\n0    42128\nName: helpful_out, dtype: int64"
     },
     "execution_count": 8,
     "metadata": {},
     "output_type": "execute_result"
    }
   ],
   "source": [
    "ratings['helpful_out'].value_counts()"
   ],
   "metadata": {
    "collapsed": false,
    "pycharm": {
     "name": "#%%\n"
    }
   }
  },
  {
   "cell_type": "code",
   "execution_count": 9,
   "outputs": [
    {
     "data": {
      "text/plain": "                     noteId                     participantId  \\\n0       1352796878438424576  7644DF3FD853416F0C96933CCC1BA9B7   \n1       1352796878438424576  7585B8804A32416E91E51837F351F249   \n2       1352796878438424576  EFD7E04E740224D2DDB42A2C910B62C1   \n3       1352796878438424576  0D7ED07D5421118311EEED5E4ECF2968   \n4       1352796878438424576  628C786C63B5A4D32E13C6C442E1863D   \n...                     ...                               ...   \n121434  1453148814378881026  6B6272A356D3E171B6011882DD599017   \n121435  1453148814378881026  ECC278CC105C774E3721FA2813319644   \n121436  1453148814378881026  A40A90FA8878D9EF7D5F600B655BFC1E   \n121437  1453148814378881026  4D0B9ED0987B8F06D3A7AC25CDD03DB1   \n121438  1453148814378881026  2E7C722856F8344F247015CD5983B2FC   \n\n        createdAtMillis  version  agree  disagree  helpful  notHelpful  \\\n0         1611796572477        1      0         1        0           1   \n1         1611388222120        1      1         0        1           0   \n2         1611852744990        1      1         0        1           0   \n3         1611860252442        1      1         0        1           0   \n4         1611623203338        1      0         0        0           1   \n...                 ...      ...    ...       ...      ...         ...   \n121434    1635293115823        2      0         0        0           0   \n121435    1635294425373        2      0         0        0           0   \n121436    1635292872727        2      0         0        0           0   \n121437    1635293671093        2      0         0        0           0   \n121438    1635294173791        2      0         0        0           0   \n\n        helpfulnessLevel  helpfulOther  ...  \\\n0                    NaN             0  ...   \n1                    NaN             0  ...   \n2                    NaN             0  ...   \n3                    NaN             0  ...   \n4                    NaN             0  ...   \n...                  ...           ...  ...   \n121434  SOMEWHAT_HELPFUL             0  ...   \n121435           HELPFUL             0  ...   \n121436       NOT_HELPFUL             0  ...   \n121437           HELPFUL             0  ...   \n121438           HELPFUL             0  ...   \n\n        notHelpfulSourcesMissingOrUnreliable  \\\n0                                          0   \n1                                          0   \n2                                          0   \n3                                          0   \n4                                          0   \n...                                      ...   \n121434                                     1   \n121435                                     0   \n121436                                     0   \n121437                                     0   \n121438                                     0   \n\n        notHelpfulOpinionSpeculationOrBias  notHelpfulMissingKeyPoints  \\\n0                                        0                           0   \n1                                        0                           0   \n2                                        0                           0   \n3                                        0                           0   \n4                                        0                           0   \n...                                    ...                         ...   \n121434                                   0                           0   \n121435                                   0                           0   \n121436                                   0                           0   \n121437                                   0                           0   \n121438                                   0                           0   \n\n        notHelpfulOutdated  notHelpfulHardToUnderstand  \\\n0                        0                           0   \n1                        0                           0   \n2                        0                           0   \n3                        0                           0   \n4                        0                           0   \n...                    ...                         ...   \n121434                   0                           0   \n121435                   0                           0   \n121436                   0                           0   \n121437                   0                           0   \n121438                   0                           0   \n\n        notHelpfulArgumentativeOrInflammatory  notHelpfulOffTopic  \\\n0                                           0                   0   \n1                                           0                   0   \n2                                           0                   0   \n3                                           0                   0   \n4                                           0                   0   \n...                                       ...                 ...   \n121434                                      0                   0   \n121435                                      0                   0   \n121436                                      0                   0   \n121437                                      0                   0   \n121438                                      0                   0   \n\n        notHelpfulSpamHarassmentOrAbuse  notHelpfulIrrelevantSources  \\\n0                                     1                            0   \n1                                     0                            0   \n2                                     0                            0   \n3                                     0                            0   \n4                                     0                            0   \n...                                 ...                          ...   \n121434                                0                            0   \n121435                                0                            0   \n121436                                0                            0   \n121437                                0                            0   \n121438                                0                            0   \n\n        helpful_out  \n0                 0  \n1                 1  \n2                 1  \n3                 1  \n4                 0  \n...             ...  \n121434            1  \n121435            1  \n121436            0  \n121437            1  \n121438            1  \n\n[121439 rows x 29 columns]",
      "text/html": "<div>\n<style scoped>\n    .dataframe tbody tr th:only-of-type {\n        vertical-align: middle;\n    }\n\n    .dataframe tbody tr th {\n        vertical-align: top;\n    }\n\n    .dataframe thead th {\n        text-align: right;\n    }\n</style>\n<table border=\"1\" class=\"dataframe\">\n  <thead>\n    <tr style=\"text-align: right;\">\n      <th></th>\n      <th>noteId</th>\n      <th>participantId</th>\n      <th>createdAtMillis</th>\n      <th>version</th>\n      <th>agree</th>\n      <th>disagree</th>\n      <th>helpful</th>\n      <th>notHelpful</th>\n      <th>helpfulnessLevel</th>\n      <th>helpfulOther</th>\n      <th>...</th>\n      <th>notHelpfulSourcesMissingOrUnreliable</th>\n      <th>notHelpfulOpinionSpeculationOrBias</th>\n      <th>notHelpfulMissingKeyPoints</th>\n      <th>notHelpfulOutdated</th>\n      <th>notHelpfulHardToUnderstand</th>\n      <th>notHelpfulArgumentativeOrInflammatory</th>\n      <th>notHelpfulOffTopic</th>\n      <th>notHelpfulSpamHarassmentOrAbuse</th>\n      <th>notHelpfulIrrelevantSources</th>\n      <th>helpful_out</th>\n    </tr>\n  </thead>\n  <tbody>\n    <tr>\n      <th>0</th>\n      <td>1352796878438424576</td>\n      <td>7644DF3FD853416F0C96933CCC1BA9B7</td>\n      <td>1611796572477</td>\n      <td>1</td>\n      <td>0</td>\n      <td>1</td>\n      <td>0</td>\n      <td>1</td>\n      <td>NaN</td>\n      <td>0</td>\n      <td>...</td>\n      <td>0</td>\n      <td>0</td>\n      <td>0</td>\n      <td>0</td>\n      <td>0</td>\n      <td>0</td>\n      <td>0</td>\n      <td>1</td>\n      <td>0</td>\n      <td>0</td>\n    </tr>\n    <tr>\n      <th>1</th>\n      <td>1352796878438424576</td>\n      <td>7585B8804A32416E91E51837F351F249</td>\n      <td>1611388222120</td>\n      <td>1</td>\n      <td>1</td>\n      <td>0</td>\n      <td>1</td>\n      <td>0</td>\n      <td>NaN</td>\n      <td>0</td>\n      <td>...</td>\n      <td>0</td>\n      <td>0</td>\n      <td>0</td>\n      <td>0</td>\n      <td>0</td>\n      <td>0</td>\n      <td>0</td>\n      <td>0</td>\n      <td>0</td>\n      <td>1</td>\n    </tr>\n    <tr>\n      <th>2</th>\n      <td>1352796878438424576</td>\n      <td>EFD7E04E740224D2DDB42A2C910B62C1</td>\n      <td>1611852744990</td>\n      <td>1</td>\n      <td>1</td>\n      <td>0</td>\n      <td>1</td>\n      <td>0</td>\n      <td>NaN</td>\n      <td>0</td>\n      <td>...</td>\n      <td>0</td>\n      <td>0</td>\n      <td>0</td>\n      <td>0</td>\n      <td>0</td>\n      <td>0</td>\n      <td>0</td>\n      <td>0</td>\n      <td>0</td>\n      <td>1</td>\n    </tr>\n    <tr>\n      <th>3</th>\n      <td>1352796878438424576</td>\n      <td>0D7ED07D5421118311EEED5E4ECF2968</td>\n      <td>1611860252442</td>\n      <td>1</td>\n      <td>1</td>\n      <td>0</td>\n      <td>1</td>\n      <td>0</td>\n      <td>NaN</td>\n      <td>0</td>\n      <td>...</td>\n      <td>0</td>\n      <td>0</td>\n      <td>0</td>\n      <td>0</td>\n      <td>0</td>\n      <td>0</td>\n      <td>0</td>\n      <td>0</td>\n      <td>0</td>\n      <td>1</td>\n    </tr>\n    <tr>\n      <th>4</th>\n      <td>1352796878438424576</td>\n      <td>628C786C63B5A4D32E13C6C442E1863D</td>\n      <td>1611623203338</td>\n      <td>1</td>\n      <td>0</td>\n      <td>0</td>\n      <td>0</td>\n      <td>1</td>\n      <td>NaN</td>\n      <td>0</td>\n      <td>...</td>\n      <td>0</td>\n      <td>0</td>\n      <td>0</td>\n      <td>0</td>\n      <td>0</td>\n      <td>0</td>\n      <td>0</td>\n      <td>0</td>\n      <td>0</td>\n      <td>0</td>\n    </tr>\n    <tr>\n      <th>...</th>\n      <td>...</td>\n      <td>...</td>\n      <td>...</td>\n      <td>...</td>\n      <td>...</td>\n      <td>...</td>\n      <td>...</td>\n      <td>...</td>\n      <td>...</td>\n      <td>...</td>\n      <td>...</td>\n      <td>...</td>\n      <td>...</td>\n      <td>...</td>\n      <td>...</td>\n      <td>...</td>\n      <td>...</td>\n      <td>...</td>\n      <td>...</td>\n      <td>...</td>\n      <td>...</td>\n    </tr>\n    <tr>\n      <th>121434</th>\n      <td>1453148814378881026</td>\n      <td>6B6272A356D3E171B6011882DD599017</td>\n      <td>1635293115823</td>\n      <td>2</td>\n      <td>0</td>\n      <td>0</td>\n      <td>0</td>\n      <td>0</td>\n      <td>SOMEWHAT_HELPFUL</td>\n      <td>0</td>\n      <td>...</td>\n      <td>1</td>\n      <td>0</td>\n      <td>0</td>\n      <td>0</td>\n      <td>0</td>\n      <td>0</td>\n      <td>0</td>\n      <td>0</td>\n      <td>0</td>\n      <td>1</td>\n    </tr>\n    <tr>\n      <th>121435</th>\n      <td>1453148814378881026</td>\n      <td>ECC278CC105C774E3721FA2813319644</td>\n      <td>1635294425373</td>\n      <td>2</td>\n      <td>0</td>\n      <td>0</td>\n      <td>0</td>\n      <td>0</td>\n      <td>HELPFUL</td>\n      <td>0</td>\n      <td>...</td>\n      <td>0</td>\n      <td>0</td>\n      <td>0</td>\n      <td>0</td>\n      <td>0</td>\n      <td>0</td>\n      <td>0</td>\n      <td>0</td>\n      <td>0</td>\n      <td>1</td>\n    </tr>\n    <tr>\n      <th>121436</th>\n      <td>1453148814378881026</td>\n      <td>A40A90FA8878D9EF7D5F600B655BFC1E</td>\n      <td>1635292872727</td>\n      <td>2</td>\n      <td>0</td>\n      <td>0</td>\n      <td>0</td>\n      <td>0</td>\n      <td>NOT_HELPFUL</td>\n      <td>0</td>\n      <td>...</td>\n      <td>0</td>\n      <td>0</td>\n      <td>0</td>\n      <td>0</td>\n      <td>0</td>\n      <td>0</td>\n      <td>0</td>\n      <td>0</td>\n      <td>0</td>\n      <td>0</td>\n    </tr>\n    <tr>\n      <th>121437</th>\n      <td>1453148814378881026</td>\n      <td>4D0B9ED0987B8F06D3A7AC25CDD03DB1</td>\n      <td>1635293671093</td>\n      <td>2</td>\n      <td>0</td>\n      <td>0</td>\n      <td>0</td>\n      <td>0</td>\n      <td>HELPFUL</td>\n      <td>0</td>\n      <td>...</td>\n      <td>0</td>\n      <td>0</td>\n      <td>0</td>\n      <td>0</td>\n      <td>0</td>\n      <td>0</td>\n      <td>0</td>\n      <td>0</td>\n      <td>0</td>\n      <td>1</td>\n    </tr>\n    <tr>\n      <th>121438</th>\n      <td>1453148814378881026</td>\n      <td>2E7C722856F8344F247015CD5983B2FC</td>\n      <td>1635294173791</td>\n      <td>2</td>\n      <td>0</td>\n      <td>0</td>\n      <td>0</td>\n      <td>0</td>\n      <td>HELPFUL</td>\n      <td>0</td>\n      <td>...</td>\n      <td>0</td>\n      <td>0</td>\n      <td>0</td>\n      <td>0</td>\n      <td>0</td>\n      <td>0</td>\n      <td>0</td>\n      <td>0</td>\n      <td>0</td>\n      <td>1</td>\n    </tr>\n  </tbody>\n</table>\n<p>121439 rows × 29 columns</p>\n</div>"
     },
     "execution_count": 9,
     "metadata": {},
     "output_type": "execute_result"
    }
   ],
   "source": [
    "ratings"
   ],
   "metadata": {
    "collapsed": false,
    "pycharm": {
     "name": "#%%\n"
    }
   }
  },
  {
   "cell_type": "code",
   "execution_count": 10,
   "outputs": [],
   "source": [
    "# for downweighting overreviewed notes\n",
    "ratings['scaling'] = (ratings.groupby(['noteId'])\n",
    "                      ['participantId']\n",
    "                      .transform(lambda x: 1/x.nunique()))"
   ],
   "metadata": {
    "collapsed": false,
    "pycharm": {
     "name": "#%%\n"
    }
   }
  },
  {
   "cell_type": "markdown",
   "source": [
    "### Featurization"
   ],
   "metadata": {
    "collapsed": false,
    "pycharm": {
     "name": "#%% md\n"
    }
   }
  },
  {
   "cell_type": "code",
   "execution_count": 11,
   "outputs": [],
   "source": [
    "datasets = OrderedDict([('train', {'notes': train_notes}),\n",
    "                        ('val', {'notes': val_notes}),\n",
    "                        ('test', {'notes': test_notes})])"
   ],
   "metadata": {
    "collapsed": false,
    "pycharm": {
     "name": "#%%\n"
    }
   }
  },
  {
   "cell_type": "code",
   "execution_count": 12,
   "outputs": [
    {
     "name": "stdout",
     "output_type": "stream",
     "text": [
      "train size 87153\n",
      "val size 12582\n",
      "test size 10598\n"
     ]
    }
   ],
   "source": [
    "feature_names = []\n",
    "for name, data_dict in datasets.items():\n",
    "    notes_df = data_dict['notes']\n",
    "    notes_df = notes_df[~notes_df['summary'].isna()].reset_index(drop=True)\n",
    "\n",
    "    if name == 'train':\n",
    "        mono_vectorizer_summary = CountVectorizer(max_features=4000)\n",
    "        mono_vectorizer_summary.fit(notes_df['summary'])\n",
    "        feature_names.extend(mono_vectorizer_summary.get_feature_names_out())\n",
    "    mono_X_summary = mono_vectorizer_summary.transform(notes_df['summary'])\n",
    "\n",
    "    if name == 'train':\n",
    "        bi_vectorizer_summary = CountVectorizer(max_features=4000, ngram_range=(2, 2))\n",
    "        bi_vectorizer_summary.fit(notes_df['summary'])\n",
    "        feature_names.extend(bi_vectorizer_summary.get_feature_names_out())\n",
    "    bi_X_summary = bi_vectorizer_summary.transform(notes_df['summary'])\n",
    "\n",
    "    sparse_X = hstack([mono_X_summary, bi_X_summary])\n",
    "    X_df = pd.DataFrame(sparse_X.todense())\n",
    "    X_df['noteId'] = notes_df['noteId']\n",
    "    merged_X_df = X_df.merge(ratings[['noteId', 'helpful_out', 'scaling']],\n",
    "                             how='inner', on='noteId')\n",
    "    X = scipy.sparse.csr_matrix(merged_X_df.drop(['noteId', 'helpful_out', 'scaling'], axis=1))\n",
    "    datasets[name]['X'] = X\n",
    "    datasets[name]['Y'] = merged_X_df['helpful_out']\n",
    "    datasets[name]['scaling'] = merged_X_df['scaling']\n",
    "    datasets[name]['noteId'] = merged_X_df['noteId']\n",
    "    print(name, 'size', merged_X_df.shape[0])"
   ],
   "metadata": {
    "collapsed": false,
    "pycharm": {
     "name": "#%%\n"
    }
   }
  },
  {
   "cell_type": "code",
   "execution_count": 13,
   "outputs": [
    {
     "name": "stdout",
     "output_type": "stream",
     "text": [
      "      Iter       Train Loss   Remaining Time \n",
      "         1           1.2904           17.33s\n",
      "         2           1.2804           15.39s\n",
      "         3           1.2722           14.87s\n",
      "         4           1.2655           14.47s\n",
      "         5           1.2600           14.14s\n",
      "         6           1.2554           13.96s\n",
      "         7           1.2512           13.79s\n",
      "         8           1.2480           13.57s\n",
      "         9           1.2451           13.35s\n",
      "        10           1.2425           13.16s\n",
      "        20           1.2283           11.48s\n",
      "        30           1.2199            9.90s\n",
      "        40           1.2139            8.36s\n",
      "        50           1.2085            6.91s\n",
      "        60           1.2042            5.49s\n",
      "        70           1.2000            4.10s\n",
      "        80           1.1962            2.72s\n",
      "        90           1.1924            1.35s\n",
      "       100           1.1888            0.00s\n"
     ]
    },
    {
     "data": {
      "text/plain": "GradientBoostingClassifier(random_state=7, verbose=1)"
     },
     "execution_count": 13,
     "metadata": {},
     "output_type": "execute_result"
    }
   ],
   "source": [
    "model = GradientBoostingClassifier(random_state=7, verbose=1)\n",
    "model.fit(datasets['train']['X'], datasets['train']['Y'],\n",
    "          sample_weight=datasets['train']['scaling'])"
   ],
   "metadata": {
    "collapsed": false,
    "pycharm": {
     "name": "#%%\n"
    }
   }
  },
  {
   "cell_type": "code",
   "execution_count": 14,
   "outputs": [],
   "source": [
    "eval_dict = {'accuracy': metrics.accuracy_score,\n",
    "             'f1': metrics.f1_score,\n",
    "             'precision': metrics.precision_score,\n",
    "             'recall': metrics.recall_score,\n",
    "             'roc-auc': metrics.roc_auc_score}\n",
    "for name, data_dict in datasets.items():\n",
    "    predictions = model.predict(data_dict['X'])\n",
    "    metrics_dict = {}\n",
    "    for n, m in eval_dict.items():\n",
    "        metrics_dict[n] = m(data_dict['Y'], predictions,\n",
    "                            sample_weight=data_dict['scaling'])\n",
    "    metrics_dict['name'] = name\n",
    "    data_dict['Y_hat'] = predictions\n",
    "    data_dict['performance'] = metrics_dict"
   ],
   "metadata": {
    "collapsed": false,
    "pycharm": {
     "name": "#%%\n"
    }
   }
  },
  {
   "cell_type": "code",
   "execution_count": 15,
   "outputs": [
    {
     "data": {
      "text/plain": "   accuracy        f1  precision    recall   roc-auc   name\n0  0.687728  0.782799   0.708484  0.874531  0.612570  train\n1  0.664332  0.760101   0.696864  0.835960  0.600131    val\n2  0.654494  0.751024   0.692025  0.821019  0.593090   test",
      "text/html": "<div>\n<style scoped>\n    .dataframe tbody tr th:only-of-type {\n        vertical-align: middle;\n    }\n\n    .dataframe tbody tr th {\n        vertical-align: top;\n    }\n\n    .dataframe thead th {\n        text-align: right;\n    }\n</style>\n<table border=\"1\" class=\"dataframe\">\n  <thead>\n    <tr style=\"text-align: right;\">\n      <th></th>\n      <th>accuracy</th>\n      <th>f1</th>\n      <th>precision</th>\n      <th>recall</th>\n      <th>roc-auc</th>\n      <th>name</th>\n    </tr>\n  </thead>\n  <tbody>\n    <tr>\n      <th>0</th>\n      <td>0.687728</td>\n      <td>0.782799</td>\n      <td>0.708484</td>\n      <td>0.874531</td>\n      <td>0.612570</td>\n      <td>train</td>\n    </tr>\n    <tr>\n      <th>1</th>\n      <td>0.664332</td>\n      <td>0.760101</td>\n      <td>0.696864</td>\n      <td>0.835960</td>\n      <td>0.600131</td>\n      <td>val</td>\n    </tr>\n    <tr>\n      <th>2</th>\n      <td>0.654494</td>\n      <td>0.751024</td>\n      <td>0.692025</td>\n      <td>0.821019</td>\n      <td>0.593090</td>\n      <td>test</td>\n    </tr>\n  </tbody>\n</table>\n</div>"
     },
     "execution_count": 15,
     "metadata": {},
     "output_type": "execute_result"
    }
   ],
   "source": [
    "performance_metrics = []\n",
    "for name, data_dict in datasets.items():\n",
    "    performance_metrics.append(data_dict['performance'])\n",
    "performance_metrics_df = pd.DataFrame(performance_metrics)\n",
    "performance_metrics_df"
   ],
   "metadata": {
    "collapsed": false,
    "pycharm": {
     "name": "#%%\n"
    }
   }
  },
  {
   "cell_type": "markdown",
   "source": [
    "### Feature Importance"
   ],
   "metadata": {
    "collapsed": false,
    "pycharm": {
     "name": "#%% md\n"
    }
   }
  },
  {
   "cell_type": "code",
   "execution_count": 16,
   "outputs": [],
   "source": [
    "explainer = shap.TreeExplainer(model)\n",
    "shap_values = explainer(datasets['train']['X'].todense())"
   ],
   "metadata": {
    "collapsed": false,
    "pycharm": {
     "name": "#%%\n"
    }
   }
  },
  {
   "cell_type": "code",
   "execution_count": 17,
   "outputs": [],
   "source": [
    "shap_values_df = pd.DataFrame(shap_values.values, columns=feature_names)\n",
    "feature_df = pd.DataFrame(shap_values.data, columns=feature_names)"
   ],
   "metadata": {
    "collapsed": false,
    "pycharm": {
     "name": "#%%\n"
    }
   }
  },
  {
   "cell_type": "code",
   "execution_count": 18,
   "outputs": [],
   "source": [
    "feat_summary = (shap_values_df.abs().mean(axis=0)\n",
    "                .reset_index(name='avg_abs_shap')\n",
    "                .rename({'index': 'feat'}, axis=1)\n",
    "                .sort_values('avg_abs_shap', ascending=False))\n",
    "top_features = feat_summary.head(20).reset_index(drop=True)"
   ],
   "metadata": {
    "collapsed": false,
    "pycharm": {
     "name": "#%%\n"
    }
   }
  },
  {
   "cell_type": "code",
   "execution_count": 19,
   "outputs": [
    {
     "name": "stderr",
     "output_type": "stream",
     "text": [
      "100%|██████████| 20/20 [00:25<00:00,  1.26s/it]\n"
     ]
    }
   ],
   "source": [
    "for i, row in tqdm(top_features.iterrows(), total=len(top_features)):\n",
    "    if (shap_values_df[row['feat']].nunique() > 1):\n",
    "        top_features.at[i, 'r'] = np.corrcoef(feature_df[row['feat']],\n",
    "                                              shap_values_df[row['feat']])[0, 1]\n",
    "        top_features.at[i, 'n_nonzero'] = (feature_df[row['feat']] > 0).sum()\n",
    "    else:\n",
    "        top_features.at[i, 'r'] = 0"
   ],
   "metadata": {
    "collapsed": false,
    "pycharm": {
     "name": "#%%\n"
    }
   }
  },
  {
   "cell_type": "code",
   "execution_count": 20,
   "outputs": [
    {
     "data": {
      "text/plain": "               feat  avg_abs_shap         r  n_nonzero\n0             https      0.395061  0.729915    56181.0\n1              this      0.058848  0.934329    27986.0\n2               the      0.049621  0.695320    60968.0\n3         according      0.016566  0.970726     1814.0\n4               www      0.014184  0.800714    38489.0\n5           article      0.013888  0.891142     7559.0\n6              quot      0.011161  0.868692    10152.0\n7             covid      0.010813  0.810689    12017.0\n8                in      0.009827  0.646651    32519.0\n9              from      0.008615  0.830583    10849.0\n10         has been      0.008049  0.959211     2780.0\n11             joke      0.007667  0.949123     1735.0\n12               19      0.007455  0.849575     8865.0\n13       snopes com      0.007403  0.996072      991.0\n14  factchecks 2021      0.006364  0.990517      722.0\n15        factcheck      0.006296  0.896644     1546.0\n16         reported      0.006293  0.946159     1312.0\n17          project      0.005592 -0.923032      632.0\n18     groups https      0.005328 -0.970492      316.0\n19            image      0.005317  0.934420      811.0",
      "text/html": "<div>\n<style scoped>\n    .dataframe tbody tr th:only-of-type {\n        vertical-align: middle;\n    }\n\n    .dataframe tbody tr th {\n        vertical-align: top;\n    }\n\n    .dataframe thead th {\n        text-align: right;\n    }\n</style>\n<table border=\"1\" class=\"dataframe\">\n  <thead>\n    <tr style=\"text-align: right;\">\n      <th></th>\n      <th>feat</th>\n      <th>avg_abs_shap</th>\n      <th>r</th>\n      <th>n_nonzero</th>\n    </tr>\n  </thead>\n  <tbody>\n    <tr>\n      <th>0</th>\n      <td>https</td>\n      <td>0.395061</td>\n      <td>0.729915</td>\n      <td>56181.0</td>\n    </tr>\n    <tr>\n      <th>1</th>\n      <td>this</td>\n      <td>0.058848</td>\n      <td>0.934329</td>\n      <td>27986.0</td>\n    </tr>\n    <tr>\n      <th>2</th>\n      <td>the</td>\n      <td>0.049621</td>\n      <td>0.695320</td>\n      <td>60968.0</td>\n    </tr>\n    <tr>\n      <th>3</th>\n      <td>according</td>\n      <td>0.016566</td>\n      <td>0.970726</td>\n      <td>1814.0</td>\n    </tr>\n    <tr>\n      <th>4</th>\n      <td>www</td>\n      <td>0.014184</td>\n      <td>0.800714</td>\n      <td>38489.0</td>\n    </tr>\n    <tr>\n      <th>5</th>\n      <td>article</td>\n      <td>0.013888</td>\n      <td>0.891142</td>\n      <td>7559.0</td>\n    </tr>\n    <tr>\n      <th>6</th>\n      <td>quot</td>\n      <td>0.011161</td>\n      <td>0.868692</td>\n      <td>10152.0</td>\n    </tr>\n    <tr>\n      <th>7</th>\n      <td>covid</td>\n      <td>0.010813</td>\n      <td>0.810689</td>\n      <td>12017.0</td>\n    </tr>\n    <tr>\n      <th>8</th>\n      <td>in</td>\n      <td>0.009827</td>\n      <td>0.646651</td>\n      <td>32519.0</td>\n    </tr>\n    <tr>\n      <th>9</th>\n      <td>from</td>\n      <td>0.008615</td>\n      <td>0.830583</td>\n      <td>10849.0</td>\n    </tr>\n    <tr>\n      <th>10</th>\n      <td>has been</td>\n      <td>0.008049</td>\n      <td>0.959211</td>\n      <td>2780.0</td>\n    </tr>\n    <tr>\n      <th>11</th>\n      <td>joke</td>\n      <td>0.007667</td>\n      <td>0.949123</td>\n      <td>1735.0</td>\n    </tr>\n    <tr>\n      <th>12</th>\n      <td>19</td>\n      <td>0.007455</td>\n      <td>0.849575</td>\n      <td>8865.0</td>\n    </tr>\n    <tr>\n      <th>13</th>\n      <td>snopes com</td>\n      <td>0.007403</td>\n      <td>0.996072</td>\n      <td>991.0</td>\n    </tr>\n    <tr>\n      <th>14</th>\n      <td>factchecks 2021</td>\n      <td>0.006364</td>\n      <td>0.990517</td>\n      <td>722.0</td>\n    </tr>\n    <tr>\n      <th>15</th>\n      <td>factcheck</td>\n      <td>0.006296</td>\n      <td>0.896644</td>\n      <td>1546.0</td>\n    </tr>\n    <tr>\n      <th>16</th>\n      <td>reported</td>\n      <td>0.006293</td>\n      <td>0.946159</td>\n      <td>1312.0</td>\n    </tr>\n    <tr>\n      <th>17</th>\n      <td>project</td>\n      <td>0.005592</td>\n      <td>-0.923032</td>\n      <td>632.0</td>\n    </tr>\n    <tr>\n      <th>18</th>\n      <td>groups https</td>\n      <td>0.005328</td>\n      <td>-0.970492</td>\n      <td>316.0</td>\n    </tr>\n    <tr>\n      <th>19</th>\n      <td>image</td>\n      <td>0.005317</td>\n      <td>0.934420</td>\n      <td>811.0</td>\n    </tr>\n  </tbody>\n</table>\n</div>"
     },
     "execution_count": 20,
     "metadata": {},
     "output_type": "execute_result"
    }
   ],
   "source": [
    "top_features\n"
   ],
   "metadata": {
    "collapsed": false,
    "pycharm": {
     "name": "#%%\n"
    }
   }
  }
 ],
 "metadata": {
  "kernelspec": {
   "display_name": "Python 3",
   "language": "python",
   "name": "python3"
  },
  "language_info": {
   "codemirror_mode": {
    "name": "ipython",
    "version": 2
   },
   "file_extension": ".py",
   "mimetype": "text/x-python",
   "name": "python",
   "nbconvert_exporter": "python",
   "pygments_lexer": "ipython2",
   "version": "2.7.6"
  }
 },
 "nbformat": 4,
 "nbformat_minor": 0
}