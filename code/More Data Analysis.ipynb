{
 "cells": [
  {
   "cell_type": "code",
   "execution_count": 1,
   "id": "dc299e52",
   "metadata": {},
   "outputs": [],
   "source": [
    "import pandas as pd"
   ]
  },
  {
   "cell_type": "code",
   "execution_count": 2,
   "id": "7317d309",
   "metadata": {},
   "outputs": [],
   "source": [
    "notes = pd.read_csv('notes-00000.tsv', sep='\\t')\n",
    "ratings = pd.read_csv('ratings-00000.tsv', sep='\\t')"
   ]
  },
  {
   "cell_type": "code",
   "execution_count": 9,
   "id": "550afcd2",
   "metadata": {},
   "outputs": [
    {
     "data": {
      "text/html": [
       "<div>\n",
       "<style scoped>\n",
       "    .dataframe tbody tr th:only-of-type {\n",
       "        vertical-align: middle;\n",
       "    }\n",
       "\n",
       "    .dataframe tbody tr th {\n",
       "        vertical-align: top;\n",
       "    }\n",
       "\n",
       "    .dataframe thead th {\n",
       "        text-align: right;\n",
       "    }\n",
       "</style>\n",
       "<table border=\"1\" class=\"dataframe\">\n",
       "  <thead>\n",
       "    <tr style=\"text-align: right;\">\n",
       "      <th></th>\n",
       "      <th>noteId</th>\n",
       "      <th>participantId</th>\n",
       "      <th>createdAtMillis</th>\n",
       "      <th>tweetId</th>\n",
       "      <th>classification</th>\n",
       "      <th>believable</th>\n",
       "      <th>harmful</th>\n",
       "      <th>validationDifficulty</th>\n",
       "      <th>misleadingOther</th>\n",
       "      <th>misleadingFactualError</th>\n",
       "      <th>...</th>\n",
       "      <th>misleadingMissingImportantContext</th>\n",
       "      <th>misleadingUnverifiedClaimAsFact</th>\n",
       "      <th>misleadingSatire</th>\n",
       "      <th>notMisleadingOther</th>\n",
       "      <th>notMisleadingFactuallyCorrect</th>\n",
       "      <th>notMisleadingOutdatedButNotWhenWritten</th>\n",
       "      <th>notMisleadingClearlySatire</th>\n",
       "      <th>notMisleadingPersonalOpinion</th>\n",
       "      <th>trustworthySources</th>\n",
       "      <th>summary</th>\n",
       "    </tr>\n",
       "  </thead>\n",
       "  <tbody>\n",
       "    <tr>\n",
       "      <th>0</th>\n",
       "      <td>1354870745806086150</td>\n",
       "      <td>7EDD07641861C52611BCEB9F9BE7CD21</td>\n",
       "      <td>1611861332737</td>\n",
       "      <td>1353031711349739523</td>\n",
       "      <td>MISINFORMED_OR_POTENTIALLY_MISLEADING</td>\n",
       "      <td>BELIEVABLE_BY_MANY</td>\n",
       "      <td>CONSIDERABLE_HARM</td>\n",
       "      <td>CHALLENGING</td>\n",
       "      <td>0</td>\n",
       "      <td>1</td>\n",
       "      <td>...</td>\n",
       "      <td>1</td>\n",
       "      <td>0</td>\n",
       "      <td>1</td>\n",
       "      <td>0</td>\n",
       "      <td>0</td>\n",
       "      <td>0</td>\n",
       "      <td>0</td>\n",
       "      <td>0</td>\n",
       "      <td>1</td>\n",
       "      <td>This is a image of a Tweet that never occured,...</td>\n",
       "    </tr>\n",
       "    <tr>\n",
       "      <th>1</th>\n",
       "      <td>1355716996760023041</td>\n",
       "      <td>7EDD07641861C52611BCEB9F9BE7CD21</td>\n",
       "      <td>1612063094689</td>\n",
       "      <td>1355643797280083973</td>\n",
       "      <td>MISINFORMED_OR_POTENTIALLY_MISLEADING</td>\n",
       "      <td>BELIEVABLE_BY_MANY</td>\n",
       "      <td>CONSIDERABLE_HARM</td>\n",
       "      <td>EASY</td>\n",
       "      <td>0</td>\n",
       "      <td>1</td>\n",
       "      <td>...</td>\n",
       "      <td>1</td>\n",
       "      <td>0</td>\n",
       "      <td>0</td>\n",
       "      <td>0</td>\n",
       "      <td>0</td>\n",
       "      <td>0</td>\n",
       "      <td>0</td>\n",
       "      <td>0</td>\n",
       "      <td>1</td>\n",
       "      <td>BLM as an organization is not a terrorist orga...</td>\n",
       "    </tr>\n",
       "    <tr>\n",
       "      <th>2</th>\n",
       "      <td>1355989178622816256</td>\n",
       "      <td>7EDD07641861C52611BCEB9F9BE7CD21</td>\n",
       "      <td>1612127987903</td>\n",
       "      <td>1355529775197130753</td>\n",
       "      <td>MISINFORMED_OR_POTENTIALLY_MISLEADING</td>\n",
       "      <td>BELIEVABLE_BY_MANY</td>\n",
       "      <td>CONSIDERABLE_HARM</td>\n",
       "      <td>CHALLENGING</td>\n",
       "      <td>0</td>\n",
       "      <td>1</td>\n",
       "      <td>...</td>\n",
       "      <td>1</td>\n",
       "      <td>1</td>\n",
       "      <td>0</td>\n",
       "      <td>0</td>\n",
       "      <td>0</td>\n",
       "      <td>0</td>\n",
       "      <td>0</td>\n",
       "      <td>0</td>\n",
       "      <td>1</td>\n",
       "      <td>This post claims BLM as an organization does n...</td>\n",
       "    </tr>\n",
       "    <tr>\n",
       "      <th>3</th>\n",
       "      <td>1356735932087611399</td>\n",
       "      <td>7EDD07641861C52611BCEB9F9BE7CD21</td>\n",
       "      <td>1612306027803</td>\n",
       "      <td>1352754599590035459</td>\n",
       "      <td>MISINFORMED_OR_POTENTIALLY_MISLEADING</td>\n",
       "      <td>BELIEVABLE_BY_MANY</td>\n",
       "      <td>CONSIDERABLE_HARM</td>\n",
       "      <td>EASY</td>\n",
       "      <td>0</td>\n",
       "      <td>1</td>\n",
       "      <td>...</td>\n",
       "      <td>0</td>\n",
       "      <td>0</td>\n",
       "      <td>0</td>\n",
       "      <td>0</td>\n",
       "      <td>0</td>\n",
       "      <td>0</td>\n",
       "      <td>0</td>\n",
       "      <td>0</td>\n",
       "      <td>1</td>\n",
       "      <td>This claim is false. Carter, Ford and Nixon al...</td>\n",
       "    </tr>\n",
       "    <tr>\n",
       "      <th>4</th>\n",
       "      <td>1356747779113177095</td>\n",
       "      <td>7EDD07641861C52611BCEB9F9BE7CD21</td>\n",
       "      <td>1612308852353</td>\n",
       "      <td>1356441140959064064</td>\n",
       "      <td>MISINFORMED_OR_POTENTIALLY_MISLEADING</td>\n",
       "      <td>BELIEVABLE_BY_MANY</td>\n",
       "      <td>CONSIDERABLE_HARM</td>\n",
       "      <td>CHALLENGING</td>\n",
       "      <td>0</td>\n",
       "      <td>1</td>\n",
       "      <td>...</td>\n",
       "      <td>0</td>\n",
       "      <td>0</td>\n",
       "      <td>0</td>\n",
       "      <td>0</td>\n",
       "      <td>0</td>\n",
       "      <td>0</td>\n",
       "      <td>0</td>\n",
       "      <td>0</td>\n",
       "      <td>1</td>\n",
       "      <td>Neither BLM nor antifa were involved in the at...</td>\n",
       "    </tr>\n",
       "    <tr>\n",
       "      <th>...</th>\n",
       "      <td>...</td>\n",
       "      <td>...</td>\n",
       "      <td>...</td>\n",
       "      <td>...</td>\n",
       "      <td>...</td>\n",
       "      <td>...</td>\n",
       "      <td>...</td>\n",
       "      <td>...</td>\n",
       "      <td>...</td>\n",
       "      <td>...</td>\n",
       "      <td>...</td>\n",
       "      <td>...</td>\n",
       "      <td>...</td>\n",
       "      <td>...</td>\n",
       "      <td>...</td>\n",
       "      <td>...</td>\n",
       "      <td>...</td>\n",
       "      <td>...</td>\n",
       "      <td>...</td>\n",
       "      <td>...</td>\n",
       "      <td>...</td>\n",
       "    </tr>\n",
       "    <tr>\n",
       "      <th>19188</th>\n",
       "      <td>1441550385357811719</td>\n",
       "      <td>00DBE37DBD6AD303B0ED1547DD60867D</td>\n",
       "      <td>1632527369236</td>\n",
       "      <td>1441544289209704451</td>\n",
       "      <td>MISINFORMED_OR_POTENTIALLY_MISLEADING</td>\n",
       "      <td>BELIEVABLE_BY_MANY</td>\n",
       "      <td>LITTLE_HARM</td>\n",
       "      <td>EASY</td>\n",
       "      <td>0</td>\n",
       "      <td>0</td>\n",
       "      <td>...</td>\n",
       "      <td>1</td>\n",
       "      <td>1</td>\n",
       "      <td>0</td>\n",
       "      <td>0</td>\n",
       "      <td>0</td>\n",
       "      <td>0</td>\n",
       "      <td>0</td>\n",
       "      <td>0</td>\n",
       "      <td>1</td>\n",
       "      <td>While the presence of a &amp;quot;rift&amp;quot; betwe...</td>\n",
       "    </tr>\n",
       "    <tr>\n",
       "      <th>19189</th>\n",
       "      <td>1441551497670524933</td>\n",
       "      <td>00DBE37DBD6AD303B0ED1547DD60867D</td>\n",
       "      <td>1632527634435</td>\n",
       "      <td>1441548083616227328</td>\n",
       "      <td>MISINFORMED_OR_POTENTIALLY_MISLEADING</td>\n",
       "      <td>BELIEVABLE_BY_FEW</td>\n",
       "      <td>CONSIDERABLE_HARM</td>\n",
       "      <td>EASY</td>\n",
       "      <td>0</td>\n",
       "      <td>1</td>\n",
       "      <td>...</td>\n",
       "      <td>1</td>\n",
       "      <td>0</td>\n",
       "      <td>0</td>\n",
       "      <td>0</td>\n",
       "      <td>0</td>\n",
       "      <td>0</td>\n",
       "      <td>0</td>\n",
       "      <td>0</td>\n",
       "      <td>1</td>\n",
       "      <td>The United States does not currently support a...</td>\n",
       "    </tr>\n",
       "    <tr>\n",
       "      <th>19190</th>\n",
       "      <td>1441627211849613315</td>\n",
       "      <td>00DBE37DBD6AD303B0ED1547DD60867D</td>\n",
       "      <td>1632545686101</td>\n",
       "      <td>1441615295790018564</td>\n",
       "      <td>MISINFORMED_OR_POTENTIALLY_MISLEADING</td>\n",
       "      <td>BELIEVABLE_BY_MANY</td>\n",
       "      <td>CONSIDERABLE_HARM</td>\n",
       "      <td>EASY</td>\n",
       "      <td>0</td>\n",
       "      <td>1</td>\n",
       "      <td>...</td>\n",
       "      <td>0</td>\n",
       "      <td>0</td>\n",
       "      <td>0</td>\n",
       "      <td>0</td>\n",
       "      <td>0</td>\n",
       "      <td>0</td>\n",
       "      <td>0</td>\n",
       "      <td>0</td>\n",
       "      <td>1</td>\n",
       "      <td>The 2020 election was completely free, fair, a...</td>\n",
       "    </tr>\n",
       "    <tr>\n",
       "      <th>19191</th>\n",
       "      <td>1442034001456230405</td>\n",
       "      <td>00DBE37DBD6AD303B0ED1547DD60867D</td>\n",
       "      <td>1632642672301</td>\n",
       "      <td>1441981268871290884</td>\n",
       "      <td>MISINFORMED_OR_POTENTIALLY_MISLEADING</td>\n",
       "      <td>BELIEVABLE_BY_MANY</td>\n",
       "      <td>CONSIDERABLE_HARM</td>\n",
       "      <td>EASY</td>\n",
       "      <td>0</td>\n",
       "      <td>1</td>\n",
       "      <td>...</td>\n",
       "      <td>1</td>\n",
       "      <td>1</td>\n",
       "      <td>0</td>\n",
       "      <td>0</td>\n",
       "      <td>0</td>\n",
       "      <td>0</td>\n",
       "      <td>0</td>\n",
       "      <td>0</td>\n",
       "      <td>1</td>\n",
       "      <td>All of the FDA-approved COVID-19 vaccines are ...</td>\n",
       "    </tr>\n",
       "    <tr>\n",
       "      <th>19192</th>\n",
       "      <td>1436173412213268480</td>\n",
       "      <td>9508AB6385898F3FCEE0EE262D0E55DB</td>\n",
       "      <td>1631245398940</td>\n",
       "      <td>1436065906577268745</td>\n",
       "      <td>MISINFORMED_OR_POTENTIALLY_MISLEADING</td>\n",
       "      <td>BELIEVABLE_BY_FEW</td>\n",
       "      <td>CONSIDERABLE_HARM</td>\n",
       "      <td>CHALLENGING</td>\n",
       "      <td>0</td>\n",
       "      <td>1</td>\n",
       "      <td>...</td>\n",
       "      <td>0</td>\n",
       "      <td>1</td>\n",
       "      <td>0</td>\n",
       "      <td>0</td>\n",
       "      <td>0</td>\n",
       "      <td>0</td>\n",
       "      <td>0</td>\n",
       "      <td>0</td>\n",
       "      <td>1</td>\n",
       "      <td>9/11 actually did happen and it wasn?t planned...</td>\n",
       "    </tr>\n",
       "  </tbody>\n",
       "</table>\n",
       "<p>19193 rows × 22 columns</p>\n",
       "</div>"
      ],
      "text/plain": [
       "                    noteId                     participantId  createdAtMillis  \\\n",
       "0      1354870745806086150  7EDD07641861C52611BCEB9F9BE7CD21    1611861332737   \n",
       "1      1355716996760023041  7EDD07641861C52611BCEB9F9BE7CD21    1612063094689   \n",
       "2      1355989178622816256  7EDD07641861C52611BCEB9F9BE7CD21    1612127987903   \n",
       "3      1356735932087611399  7EDD07641861C52611BCEB9F9BE7CD21    1612306027803   \n",
       "4      1356747779113177095  7EDD07641861C52611BCEB9F9BE7CD21    1612308852353   \n",
       "...                    ...                               ...              ...   \n",
       "19188  1441550385357811719  00DBE37DBD6AD303B0ED1547DD60867D    1632527369236   \n",
       "19189  1441551497670524933  00DBE37DBD6AD303B0ED1547DD60867D    1632527634435   \n",
       "19190  1441627211849613315  00DBE37DBD6AD303B0ED1547DD60867D    1632545686101   \n",
       "19191  1442034001456230405  00DBE37DBD6AD303B0ED1547DD60867D    1632642672301   \n",
       "19192  1436173412213268480  9508AB6385898F3FCEE0EE262D0E55DB    1631245398940   \n",
       "\n",
       "                   tweetId                         classification  \\\n",
       "0      1353031711349739523  MISINFORMED_OR_POTENTIALLY_MISLEADING   \n",
       "1      1355643797280083973  MISINFORMED_OR_POTENTIALLY_MISLEADING   \n",
       "2      1355529775197130753  MISINFORMED_OR_POTENTIALLY_MISLEADING   \n",
       "3      1352754599590035459  MISINFORMED_OR_POTENTIALLY_MISLEADING   \n",
       "4      1356441140959064064  MISINFORMED_OR_POTENTIALLY_MISLEADING   \n",
       "...                    ...                                    ...   \n",
       "19188  1441544289209704451  MISINFORMED_OR_POTENTIALLY_MISLEADING   \n",
       "19189  1441548083616227328  MISINFORMED_OR_POTENTIALLY_MISLEADING   \n",
       "19190  1441615295790018564  MISINFORMED_OR_POTENTIALLY_MISLEADING   \n",
       "19191  1441981268871290884  MISINFORMED_OR_POTENTIALLY_MISLEADING   \n",
       "19192  1436065906577268745  MISINFORMED_OR_POTENTIALLY_MISLEADING   \n",
       "\n",
       "               believable            harmful validationDifficulty  \\\n",
       "0      BELIEVABLE_BY_MANY  CONSIDERABLE_HARM          CHALLENGING   \n",
       "1      BELIEVABLE_BY_MANY  CONSIDERABLE_HARM                 EASY   \n",
       "2      BELIEVABLE_BY_MANY  CONSIDERABLE_HARM          CHALLENGING   \n",
       "3      BELIEVABLE_BY_MANY  CONSIDERABLE_HARM                 EASY   \n",
       "4      BELIEVABLE_BY_MANY  CONSIDERABLE_HARM          CHALLENGING   \n",
       "...                   ...                ...                  ...   \n",
       "19188  BELIEVABLE_BY_MANY        LITTLE_HARM                 EASY   \n",
       "19189   BELIEVABLE_BY_FEW  CONSIDERABLE_HARM                 EASY   \n",
       "19190  BELIEVABLE_BY_MANY  CONSIDERABLE_HARM                 EASY   \n",
       "19191  BELIEVABLE_BY_MANY  CONSIDERABLE_HARM                 EASY   \n",
       "19192   BELIEVABLE_BY_FEW  CONSIDERABLE_HARM          CHALLENGING   \n",
       "\n",
       "       misleadingOther  misleadingFactualError  ...  \\\n",
       "0                    0                       1  ...   \n",
       "1                    0                       1  ...   \n",
       "2                    0                       1  ...   \n",
       "3                    0                       1  ...   \n",
       "4                    0                       1  ...   \n",
       "...                ...                     ...  ...   \n",
       "19188                0                       0  ...   \n",
       "19189                0                       1  ...   \n",
       "19190                0                       1  ...   \n",
       "19191                0                       1  ...   \n",
       "19192                0                       1  ...   \n",
       "\n",
       "       misleadingMissingImportantContext  misleadingUnverifiedClaimAsFact  \\\n",
       "0                                      1                                0   \n",
       "1                                      1                                0   \n",
       "2                                      1                                1   \n",
       "3                                      0                                0   \n",
       "4                                      0                                0   \n",
       "...                                  ...                              ...   \n",
       "19188                                  1                                1   \n",
       "19189                                  1                                0   \n",
       "19190                                  0                                0   \n",
       "19191                                  1                                1   \n",
       "19192                                  0                                1   \n",
       "\n",
       "       misleadingSatire  notMisleadingOther  notMisleadingFactuallyCorrect  \\\n",
       "0                     1                   0                              0   \n",
       "1                     0                   0                              0   \n",
       "2                     0                   0                              0   \n",
       "3                     0                   0                              0   \n",
       "4                     0                   0                              0   \n",
       "...                 ...                 ...                            ...   \n",
       "19188                 0                   0                              0   \n",
       "19189                 0                   0                              0   \n",
       "19190                 0                   0                              0   \n",
       "19191                 0                   0                              0   \n",
       "19192                 0                   0                              0   \n",
       "\n",
       "       notMisleadingOutdatedButNotWhenWritten  notMisleadingClearlySatire  \\\n",
       "0                                           0                           0   \n",
       "1                                           0                           0   \n",
       "2                                           0                           0   \n",
       "3                                           0                           0   \n",
       "4                                           0                           0   \n",
       "...                                       ...                         ...   \n",
       "19188                                       0                           0   \n",
       "19189                                       0                           0   \n",
       "19190                                       0                           0   \n",
       "19191                                       0                           0   \n",
       "19192                                       0                           0   \n",
       "\n",
       "       notMisleadingPersonalOpinion  trustworthySources  \\\n",
       "0                                 0                   1   \n",
       "1                                 0                   1   \n",
       "2                                 0                   1   \n",
       "3                                 0                   1   \n",
       "4                                 0                   1   \n",
       "...                             ...                 ...   \n",
       "19188                             0                   1   \n",
       "19189                             0                   1   \n",
       "19190                             0                   1   \n",
       "19191                             0                   1   \n",
       "19192                             0                   1   \n",
       "\n",
       "                                                 summary  \n",
       "0      This is a image of a Tweet that never occured,...  \n",
       "1      BLM as an organization is not a terrorist orga...  \n",
       "2      This post claims BLM as an organization does n...  \n",
       "3      This claim is false. Carter, Ford and Nixon al...  \n",
       "4      Neither BLM nor antifa were involved in the at...  \n",
       "...                                                  ...  \n",
       "19188  While the presence of a &quot;rift&quot; betwe...  \n",
       "19189  The United States does not currently support a...  \n",
       "19190  The 2020 election was completely free, fair, a...  \n",
       "19191  All of the FDA-approved COVID-19 vaccines are ...  \n",
       "19192  9/11 actually did happen and it wasn?t planned...  \n",
       "\n",
       "[19193 rows x 22 columns]"
      ]
     },
     "execution_count": 9,
     "metadata": {},
     "output_type": "execute_result"
    }
   ],
   "source": [
    "notes"
   ]
  },
  {
   "cell_type": "code",
   "execution_count": 28,
   "id": "a9b612e8",
   "metadata": {},
   "outputs": [],
   "source": [
    "merged = pd.merge(notes, ratings, on='noteId')"
   ]
  },
  {
   "cell_type": "code",
   "execution_count": 29,
   "id": "b6eeb276",
   "metadata": {},
   "outputs": [],
   "source": [
    "merged.drop(columns=['participantId_x', 'createdAtMillis_x'], inplace=True)\n",
    "merged.rename({'participantId_y': 'participantId', 'createdAtMillis_y': 'createdAtMillis'}, axis='columns', inplace=True)"
   ]
  },
  {
   "cell_type": "code",
   "execution_count": 31,
   "id": "b489d0f9",
   "metadata": {},
   "outputs": [
    {
     "data": {
      "text/plain": [
       "Index(['noteId', 'tweetId', 'classification', 'believable', 'harmful',\n",
       "       'validationDifficulty', 'misleadingOther', 'misleadingFactualError',\n",
       "       'misleadingManipulatedMedia', 'misleadingOutdatedInformation',\n",
       "       'misleadingMissingImportantContext', 'misleadingUnverifiedClaimAsFact',\n",
       "       'misleadingSatire', 'notMisleadingOther',\n",
       "       'notMisleadingFactuallyCorrect',\n",
       "       'notMisleadingOutdatedButNotWhenWritten', 'notMisleadingClearlySatire',\n",
       "       'notMisleadingPersonalOpinion', 'trustworthySources', 'summary',\n",
       "       'participantId', 'createdAtMillis', 'version', 'agree', 'disagree',\n",
       "       'helpful', 'notHelpful', 'helpfulnessLevel', 'helpfulOther',\n",
       "       'helpfulInformative', 'helpfulClear', 'helpfulEmpathetic',\n",
       "       'helpfulGoodSources', 'helpfulUniqueContext', 'helpfulAddressesClaim',\n",
       "       'helpfulImportantContext', 'notHelpfulOther', 'notHelpfulIncorrect',\n",
       "       'notHelpfulSourcesMissingOrUnreliable',\n",
       "       'notHelpfulOpinionSpeculationOrBias', 'notHelpfulMissingKeyPoints',\n",
       "       'notHelpfulOutdated', 'notHelpfulHardToUnderstand',\n",
       "       'notHelpfulArgumentativeOrInflammatory', 'notHelpfulOffTopic',\n",
       "       'notHelpfulSpamHarassmentOrAbuse', 'notHelpfulIrrelevantSources'],\n",
       "      dtype='object')"
      ]
     },
     "execution_count": 31,
     "metadata": {},
     "output_type": "execute_result"
    }
   ],
   "source": [
    "merged.columns"
   ]
  },
  {
   "cell_type": "code",
   "execution_count": 42,
   "id": "bc3b61be",
   "metadata": {},
   "outputs": [
    {
     "data": {
      "text/plain": [
       "Index(['noteId', 'participantId', 'createdAtMillis', 'tweetId',\n",
       "       'classification', 'believable', 'harmful', 'validationDifficulty',\n",
       "       'misleadingOther', 'misleadingFactualError',\n",
       "       'misleadingManipulatedMedia', 'misleadingOutdatedInformation',\n",
       "       'misleadingMissingImportantContext', 'misleadingUnverifiedClaimAsFact',\n",
       "       'misleadingSatire', 'notMisleadingOther',\n",
       "       'notMisleadingFactuallyCorrect',\n",
       "       'notMisleadingOutdatedButNotWhenWritten', 'notMisleadingClearlySatire',\n",
       "       'notMisleadingPersonalOpinion', 'trustworthySources', 'summary'],\n",
       "      dtype='object')"
      ]
     },
     "execution_count": 42,
     "metadata": {},
     "output_type": "execute_result"
    }
   ],
   "source": [
    "notes.columns"
   ]
  },
  {
   "cell_type": "code",
   "execution_count": 44,
   "id": "728af4fa",
   "metadata": {},
   "outputs": [
    {
     "data": {
      "text/plain": [
       "Index(['noteId', 'participantId', 'createdAtMillis', 'version', 'agree',\n",
       "       'disagree', 'helpful', 'notHelpful', 'helpfulnessLevel', 'helpfulOther',\n",
       "       'helpfulInformative', 'helpfulClear', 'helpfulEmpathetic',\n",
       "       'helpfulGoodSources', 'helpfulUniqueContext', 'helpfulAddressesClaim',\n",
       "       'helpfulImportantContext', 'notHelpfulOther', 'notHelpfulIncorrect',\n",
       "       'notHelpfulSourcesMissingOrUnreliable',\n",
       "       'notHelpfulOpinionSpeculationOrBias', 'notHelpfulMissingKeyPoints',\n",
       "       'notHelpfulOutdated', 'notHelpfulHardToUnderstand',\n",
       "       'notHelpfulArgumentativeOrInflammatory', 'notHelpfulOffTopic',\n",
       "       'notHelpfulSpamHarassmentOrAbuse', 'notHelpfulIrrelevantSources'],\n",
       "      dtype='object')"
      ]
     },
     "execution_count": 44,
     "metadata": {},
     "output_type": "execute_result"
    }
   ],
   "source": [
    "ratings.columns"
   ]
  },
  {
   "cell_type": "code",
   "execution_count": 107,
   "id": "be26d12b",
   "metadata": {},
   "outputs": [
    {
     "data": {
      "text/html": [
       "<div>\n",
       "<style scoped>\n",
       "    .dataframe tbody tr th:only-of-type {\n",
       "        vertical-align: middle;\n",
       "    }\n",
       "\n",
       "    .dataframe tbody tr th {\n",
       "        vertical-align: top;\n",
       "    }\n",
       "\n",
       "    .dataframe thead th {\n",
       "        text-align: right;\n",
       "    }\n",
       "</style>\n",
       "<table border=\"1\" class=\"dataframe\">\n",
       "  <thead>\n",
       "    <tr style=\"text-align: right;\">\n",
       "      <th></th>\n",
       "      <th>noteId</th>\n",
       "      <th>tweetId</th>\n",
       "      <th>classification</th>\n",
       "      <th>believable</th>\n",
       "      <th>harmful</th>\n",
       "      <th>validationDifficulty</th>\n",
       "      <th>misleadingOther</th>\n",
       "      <th>misleadingFactualError</th>\n",
       "      <th>misleadingManipulatedMedia</th>\n",
       "      <th>misleadingOutdatedInformation</th>\n",
       "      <th>...</th>\n",
       "      <th>notHelpfulIncorrect</th>\n",
       "      <th>notHelpfulSourcesMissingOrUnreliable</th>\n",
       "      <th>notHelpfulOpinionSpeculationOrBias</th>\n",
       "      <th>notHelpfulMissingKeyPoints</th>\n",
       "      <th>notHelpfulOutdated</th>\n",
       "      <th>notHelpfulHardToUnderstand</th>\n",
       "      <th>notHelpfulArgumentativeOrInflammatory</th>\n",
       "      <th>notHelpfulOffTopic</th>\n",
       "      <th>notHelpfulSpamHarassmentOrAbuse</th>\n",
       "      <th>notHelpfulIrrelevantSources</th>\n",
       "    </tr>\n",
       "  </thead>\n",
       "  <tbody>\n",
       "    <tr>\n",
       "      <th>0</th>\n",
       "      <td>1356735932087611399</td>\n",
       "      <td>1352754599590035459</td>\n",
       "      <td>MISINFORMED_OR_POTENTIALLY_MISLEADING</td>\n",
       "      <td>BELIEVABLE_BY_MANY</td>\n",
       "      <td>CONSIDERABLE_HARM</td>\n",
       "      <td>EASY</td>\n",
       "      <td>0</td>\n",
       "      <td>1</td>\n",
       "      <td>0</td>\n",
       "      <td>0</td>\n",
       "      <td>...</td>\n",
       "      <td>0</td>\n",
       "      <td>0</td>\n",
       "      <td>0</td>\n",
       "      <td>0</td>\n",
       "      <td>0</td>\n",
       "      <td>0</td>\n",
       "      <td>0</td>\n",
       "      <td>0</td>\n",
       "      <td>0</td>\n",
       "      <td>0</td>\n",
       "    </tr>\n",
       "    <tr>\n",
       "      <th>1</th>\n",
       "      <td>1356735932087611399</td>\n",
       "      <td>1352754599590035459</td>\n",
       "      <td>MISINFORMED_OR_POTENTIALLY_MISLEADING</td>\n",
       "      <td>BELIEVABLE_BY_MANY</td>\n",
       "      <td>CONSIDERABLE_HARM</td>\n",
       "      <td>EASY</td>\n",
       "      <td>0</td>\n",
       "      <td>1</td>\n",
       "      <td>0</td>\n",
       "      <td>0</td>\n",
       "      <td>...</td>\n",
       "      <td>1</td>\n",
       "      <td>1</td>\n",
       "      <td>0</td>\n",
       "      <td>1</td>\n",
       "      <td>0</td>\n",
       "      <td>0</td>\n",
       "      <td>0</td>\n",
       "      <td>0</td>\n",
       "      <td>0</td>\n",
       "      <td>0</td>\n",
       "    </tr>\n",
       "    <tr>\n",
       "      <th>2</th>\n",
       "      <td>1356735932087611399</td>\n",
       "      <td>1352754599590035459</td>\n",
       "      <td>MISINFORMED_OR_POTENTIALLY_MISLEADING</td>\n",
       "      <td>BELIEVABLE_BY_MANY</td>\n",
       "      <td>CONSIDERABLE_HARM</td>\n",
       "      <td>EASY</td>\n",
       "      <td>0</td>\n",
       "      <td>1</td>\n",
       "      <td>0</td>\n",
       "      <td>0</td>\n",
       "      <td>...</td>\n",
       "      <td>0</td>\n",
       "      <td>0</td>\n",
       "      <td>0</td>\n",
       "      <td>0</td>\n",
       "      <td>0</td>\n",
       "      <td>0</td>\n",
       "      <td>0</td>\n",
       "      <td>0</td>\n",
       "      <td>0</td>\n",
       "      <td>0</td>\n",
       "    </tr>\n",
       "    <tr>\n",
       "      <th>3</th>\n",
       "      <td>1356735932087611399</td>\n",
       "      <td>1352754599590035459</td>\n",
       "      <td>MISINFORMED_OR_POTENTIALLY_MISLEADING</td>\n",
       "      <td>BELIEVABLE_BY_MANY</td>\n",
       "      <td>CONSIDERABLE_HARM</td>\n",
       "      <td>EASY</td>\n",
       "      <td>0</td>\n",
       "      <td>1</td>\n",
       "      <td>0</td>\n",
       "      <td>0</td>\n",
       "      <td>...</td>\n",
       "      <td>0</td>\n",
       "      <td>0</td>\n",
       "      <td>0</td>\n",
       "      <td>0</td>\n",
       "      <td>0</td>\n",
       "      <td>0</td>\n",
       "      <td>0</td>\n",
       "      <td>0</td>\n",
       "      <td>0</td>\n",
       "      <td>0</td>\n",
       "    </tr>\n",
       "    <tr>\n",
       "      <th>4</th>\n",
       "      <td>1356735932087611399</td>\n",
       "      <td>1352754599590035459</td>\n",
       "      <td>MISINFORMED_OR_POTENTIALLY_MISLEADING</td>\n",
       "      <td>BELIEVABLE_BY_MANY</td>\n",
       "      <td>CONSIDERABLE_HARM</td>\n",
       "      <td>EASY</td>\n",
       "      <td>0</td>\n",
       "      <td>1</td>\n",
       "      <td>0</td>\n",
       "      <td>0</td>\n",
       "      <td>...</td>\n",
       "      <td>0</td>\n",
       "      <td>0</td>\n",
       "      <td>0</td>\n",
       "      <td>0</td>\n",
       "      <td>0</td>\n",
       "      <td>0</td>\n",
       "      <td>0</td>\n",
       "      <td>0</td>\n",
       "      <td>0</td>\n",
       "      <td>0</td>\n",
       "    </tr>\n",
       "    <tr>\n",
       "      <th>...</th>\n",
       "      <td>...</td>\n",
       "      <td>...</td>\n",
       "      <td>...</td>\n",
       "      <td>...</td>\n",
       "      <td>...</td>\n",
       "      <td>...</td>\n",
       "      <td>...</td>\n",
       "      <td>...</td>\n",
       "      <td>...</td>\n",
       "      <td>...</td>\n",
       "      <td>...</td>\n",
       "      <td>...</td>\n",
       "      <td>...</td>\n",
       "      <td>...</td>\n",
       "      <td>...</td>\n",
       "      <td>...</td>\n",
       "      <td>...</td>\n",
       "      <td>...</td>\n",
       "      <td>...</td>\n",
       "      <td>...</td>\n",
       "      <td>...</td>\n",
       "    </tr>\n",
       "    <tr>\n",
       "      <th>121434</th>\n",
       "      <td>1442515421039575041</td>\n",
       "      <td>1441820622884016129</td>\n",
       "      <td>MISINFORMED_OR_POTENTIALLY_MISLEADING</td>\n",
       "      <td>BELIEVABLE_BY_FEW</td>\n",
       "      <td>LITTLE_HARM</td>\n",
       "      <td>EASY</td>\n",
       "      <td>0</td>\n",
       "      <td>0</td>\n",
       "      <td>1</td>\n",
       "      <td>1</td>\n",
       "      <td>...</td>\n",
       "      <td>0</td>\n",
       "      <td>0</td>\n",
       "      <td>0</td>\n",
       "      <td>0</td>\n",
       "      <td>0</td>\n",
       "      <td>0</td>\n",
       "      <td>0</td>\n",
       "      <td>0</td>\n",
       "      <td>0</td>\n",
       "      <td>0</td>\n",
       "    </tr>\n",
       "    <tr>\n",
       "      <th>121435</th>\n",
       "      <td>1442515421039575041</td>\n",
       "      <td>1441820622884016129</td>\n",
       "      <td>MISINFORMED_OR_POTENTIALLY_MISLEADING</td>\n",
       "      <td>BELIEVABLE_BY_FEW</td>\n",
       "      <td>LITTLE_HARM</td>\n",
       "      <td>EASY</td>\n",
       "      <td>0</td>\n",
       "      <td>0</td>\n",
       "      <td>1</td>\n",
       "      <td>1</td>\n",
       "      <td>...</td>\n",
       "      <td>0</td>\n",
       "      <td>0</td>\n",
       "      <td>0</td>\n",
       "      <td>0</td>\n",
       "      <td>0</td>\n",
       "      <td>0</td>\n",
       "      <td>0</td>\n",
       "      <td>0</td>\n",
       "      <td>0</td>\n",
       "      <td>0</td>\n",
       "    </tr>\n",
       "    <tr>\n",
       "      <th>121436</th>\n",
       "      <td>1442515421039575041</td>\n",
       "      <td>1441820622884016129</td>\n",
       "      <td>MISINFORMED_OR_POTENTIALLY_MISLEADING</td>\n",
       "      <td>BELIEVABLE_BY_FEW</td>\n",
       "      <td>LITTLE_HARM</td>\n",
       "      <td>EASY</td>\n",
       "      <td>0</td>\n",
       "      <td>0</td>\n",
       "      <td>1</td>\n",
       "      <td>1</td>\n",
       "      <td>...</td>\n",
       "      <td>0</td>\n",
       "      <td>0</td>\n",
       "      <td>0</td>\n",
       "      <td>1</td>\n",
       "      <td>0</td>\n",
       "      <td>1</td>\n",
       "      <td>1</td>\n",
       "      <td>0</td>\n",
       "      <td>0</td>\n",
       "      <td>0</td>\n",
       "    </tr>\n",
       "    <tr>\n",
       "      <th>121437</th>\n",
       "      <td>1442515421039575041</td>\n",
       "      <td>1441820622884016129</td>\n",
       "      <td>MISINFORMED_OR_POTENTIALLY_MISLEADING</td>\n",
       "      <td>BELIEVABLE_BY_FEW</td>\n",
       "      <td>LITTLE_HARM</td>\n",
       "      <td>EASY</td>\n",
       "      <td>0</td>\n",
       "      <td>0</td>\n",
       "      <td>1</td>\n",
       "      <td>1</td>\n",
       "      <td>...</td>\n",
       "      <td>0</td>\n",
       "      <td>0</td>\n",
       "      <td>0</td>\n",
       "      <td>0</td>\n",
       "      <td>0</td>\n",
       "      <td>0</td>\n",
       "      <td>0</td>\n",
       "      <td>0</td>\n",
       "      <td>0</td>\n",
       "      <td>1</td>\n",
       "    </tr>\n",
       "    <tr>\n",
       "      <th>121438</th>\n",
       "      <td>1442516986957910020</td>\n",
       "      <td>1442161241036935172</td>\n",
       "      <td>MISINFORMED_OR_POTENTIALLY_MISLEADING</td>\n",
       "      <td>BELIEVABLE_BY_MANY</td>\n",
       "      <td>LITTLE_HARM</td>\n",
       "      <td>CHALLENGING</td>\n",
       "      <td>0</td>\n",
       "      <td>1</td>\n",
       "      <td>0</td>\n",
       "      <td>0</td>\n",
       "      <td>...</td>\n",
       "      <td>0</td>\n",
       "      <td>0</td>\n",
       "      <td>0</td>\n",
       "      <td>0</td>\n",
       "      <td>0</td>\n",
       "      <td>1</td>\n",
       "      <td>0</td>\n",
       "      <td>0</td>\n",
       "      <td>0</td>\n",
       "      <td>0</td>\n",
       "    </tr>\n",
       "  </tbody>\n",
       "</table>\n",
       "<p>121439 rows × 47 columns</p>\n",
       "</div>"
      ],
      "text/plain": [
       "                     noteId              tweetId  \\\n",
       "0       1356735932087611399  1352754599590035459   \n",
       "1       1356735932087611399  1352754599590035459   \n",
       "2       1356735932087611399  1352754599590035459   \n",
       "3       1356735932087611399  1352754599590035459   \n",
       "4       1356735932087611399  1352754599590035459   \n",
       "...                     ...                  ...   \n",
       "121434  1442515421039575041  1441820622884016129   \n",
       "121435  1442515421039575041  1441820622884016129   \n",
       "121436  1442515421039575041  1441820622884016129   \n",
       "121437  1442515421039575041  1441820622884016129   \n",
       "121438  1442516986957910020  1442161241036935172   \n",
       "\n",
       "                               classification          believable  \\\n",
       "0       MISINFORMED_OR_POTENTIALLY_MISLEADING  BELIEVABLE_BY_MANY   \n",
       "1       MISINFORMED_OR_POTENTIALLY_MISLEADING  BELIEVABLE_BY_MANY   \n",
       "2       MISINFORMED_OR_POTENTIALLY_MISLEADING  BELIEVABLE_BY_MANY   \n",
       "3       MISINFORMED_OR_POTENTIALLY_MISLEADING  BELIEVABLE_BY_MANY   \n",
       "4       MISINFORMED_OR_POTENTIALLY_MISLEADING  BELIEVABLE_BY_MANY   \n",
       "...                                       ...                 ...   \n",
       "121434  MISINFORMED_OR_POTENTIALLY_MISLEADING   BELIEVABLE_BY_FEW   \n",
       "121435  MISINFORMED_OR_POTENTIALLY_MISLEADING   BELIEVABLE_BY_FEW   \n",
       "121436  MISINFORMED_OR_POTENTIALLY_MISLEADING   BELIEVABLE_BY_FEW   \n",
       "121437  MISINFORMED_OR_POTENTIALLY_MISLEADING   BELIEVABLE_BY_FEW   \n",
       "121438  MISINFORMED_OR_POTENTIALLY_MISLEADING  BELIEVABLE_BY_MANY   \n",
       "\n",
       "                  harmful validationDifficulty  misleadingOther  \\\n",
       "0       CONSIDERABLE_HARM                 EASY                0   \n",
       "1       CONSIDERABLE_HARM                 EASY                0   \n",
       "2       CONSIDERABLE_HARM                 EASY                0   \n",
       "3       CONSIDERABLE_HARM                 EASY                0   \n",
       "4       CONSIDERABLE_HARM                 EASY                0   \n",
       "...                   ...                  ...              ...   \n",
       "121434        LITTLE_HARM                 EASY                0   \n",
       "121435        LITTLE_HARM                 EASY                0   \n",
       "121436        LITTLE_HARM                 EASY                0   \n",
       "121437        LITTLE_HARM                 EASY                0   \n",
       "121438        LITTLE_HARM          CHALLENGING                0   \n",
       "\n",
       "        misleadingFactualError  misleadingManipulatedMedia  \\\n",
       "0                            1                           0   \n",
       "1                            1                           0   \n",
       "2                            1                           0   \n",
       "3                            1                           0   \n",
       "4                            1                           0   \n",
       "...                        ...                         ...   \n",
       "121434                       0                           1   \n",
       "121435                       0                           1   \n",
       "121436                       0                           1   \n",
       "121437                       0                           1   \n",
       "121438                       1                           0   \n",
       "\n",
       "        misleadingOutdatedInformation  ...  notHelpfulIncorrect  \\\n",
       "0                                   0  ...                    0   \n",
       "1                                   0  ...                    1   \n",
       "2                                   0  ...                    0   \n",
       "3                                   0  ...                    0   \n",
       "4                                   0  ...                    0   \n",
       "...                               ...  ...                  ...   \n",
       "121434                              1  ...                    0   \n",
       "121435                              1  ...                    0   \n",
       "121436                              1  ...                    0   \n",
       "121437                              1  ...                    0   \n",
       "121438                              0  ...                    0   \n",
       "\n",
       "        notHelpfulSourcesMissingOrUnreliable  \\\n",
       "0                                          0   \n",
       "1                                          1   \n",
       "2                                          0   \n",
       "3                                          0   \n",
       "4                                          0   \n",
       "...                                      ...   \n",
       "121434                                     0   \n",
       "121435                                     0   \n",
       "121436                                     0   \n",
       "121437                                     0   \n",
       "121438                                     0   \n",
       "\n",
       "        notHelpfulOpinionSpeculationOrBias  notHelpfulMissingKeyPoints  \\\n",
       "0                                        0                           0   \n",
       "1                                        0                           1   \n",
       "2                                        0                           0   \n",
       "3                                        0                           0   \n",
       "4                                        0                           0   \n",
       "...                                    ...                         ...   \n",
       "121434                                   0                           0   \n",
       "121435                                   0                           0   \n",
       "121436                                   0                           1   \n",
       "121437                                   0                           0   \n",
       "121438                                   0                           0   \n",
       "\n",
       "        notHelpfulOutdated  notHelpfulHardToUnderstand  \\\n",
       "0                        0                           0   \n",
       "1                        0                           0   \n",
       "2                        0                           0   \n",
       "3                        0                           0   \n",
       "4                        0                           0   \n",
       "...                    ...                         ...   \n",
       "121434                   0                           0   \n",
       "121435                   0                           0   \n",
       "121436                   0                           1   \n",
       "121437                   0                           0   \n",
       "121438                   0                           1   \n",
       "\n",
       "        notHelpfulArgumentativeOrInflammatory  notHelpfulOffTopic  \\\n",
       "0                                           0                   0   \n",
       "1                                           0                   0   \n",
       "2                                           0                   0   \n",
       "3                                           0                   0   \n",
       "4                                           0                   0   \n",
       "...                                       ...                 ...   \n",
       "121434                                      0                   0   \n",
       "121435                                      0                   0   \n",
       "121436                                      1                   0   \n",
       "121437                                      0                   0   \n",
       "121438                                      0                   0   \n",
       "\n",
       "        notHelpfulSpamHarassmentOrAbuse notHelpfulIrrelevantSources  \n",
       "0                                     0                           0  \n",
       "1                                     0                           0  \n",
       "2                                     0                           0  \n",
       "3                                     0                           0  \n",
       "4                                     0                           0  \n",
       "...                                 ...                         ...  \n",
       "121434                                0                           0  \n",
       "121435                                0                           0  \n",
       "121436                                0                           0  \n",
       "121437                                0                           1  \n",
       "121438                                0                           0  \n",
       "\n",
       "[121439 rows x 47 columns]"
      ]
     },
     "execution_count": 107,
     "metadata": {},
     "output_type": "execute_result"
    }
   ],
   "source": [
    "merged"
   ]
  },
  {
   "cell_type": "code",
   "execution_count": 35,
   "id": "4c12a6bc",
   "metadata": {
    "scrolled": true
   },
   "outputs": [
    {
     "data": {
      "text/plain": [
       "MISINFORMED_OR_POTENTIALLY_MISLEADING    0.861564\n",
       "NOT_MISLEADING                           0.138436\n",
       "Name: classification, dtype: float64"
      ]
     },
     "execution_count": 35,
     "metadata": {},
     "output_type": "execute_result"
    }
   ],
   "source": [
    "notes['classification'].value_counts(normalize=True)"
   ]
  },
  {
   "cell_type": "code",
   "execution_count": 38,
   "id": "6a443732",
   "metadata": {},
   "outputs": [
    {
     "data": {
      "text/plain": [
       "BELIEVABLE_BY_MANY    0.920658\n",
       "BELIEVABLE_BY_FEW     0.079342\n",
       "Name: believable, dtype: float64"
      ]
     },
     "execution_count": 38,
     "metadata": {},
     "output_type": "execute_result"
    }
   ],
   "source": [
    "notes['believable'].value_counts(normalize=True)"
   ]
  },
  {
   "cell_type": "code",
   "execution_count": 39,
   "id": "d7f38fb9",
   "metadata": {},
   "outputs": [
    {
     "data": {
      "text/plain": [
       "CONSIDERABLE_HARM    0.761913\n",
       "LITTLE_HARM          0.238087\n",
       "Name: harmful, dtype: float64"
      ]
     },
     "execution_count": 39,
     "metadata": {},
     "output_type": "execute_result"
    }
   ],
   "source": [
    "notes['harmful'].value_counts(normalize=True)"
   ]
  },
  {
   "cell_type": "code",
   "execution_count": 41,
   "id": "f2be9ccb",
   "metadata": {},
   "outputs": [
    {
     "data": {
      "text/plain": [
       "EASY           0.726536\n",
       "CHALLENGING    0.273464\n",
       "Name: validationDifficulty, dtype: float64"
      ]
     },
     "execution_count": 41,
     "metadata": {},
     "output_type": "execute_result"
    }
   ],
   "source": [
    "notes['validationDifficulty'].value_counts(normalize=True)"
   ]
  },
  {
   "cell_type": "code",
   "execution_count": 43,
   "id": "5bb6083f",
   "metadata": {},
   "outputs": [
    {
     "data": {
      "text/plain": [
       "1    0.755275\n",
       "0    0.244725\n",
       "Name: trustworthySources, dtype: float64"
      ]
     },
     "execution_count": 43,
     "metadata": {},
     "output_type": "execute_result"
    }
   ],
   "source": [
    "notes['trustworthySources'].value_counts(normalize=True)"
   ]
  },
  {
   "cell_type": "code",
   "execution_count": 50,
   "id": "e38314ab",
   "metadata": {},
   "outputs": [
    {
     "data": {
      "text/plain": [
       "HELPFUL             0.569317\n",
       "NOT_HELPFUL         0.341635\n",
       "SOMEWHAT_HELPFUL    0.089047\n",
       "Name: helpfulnessLevel, dtype: float64"
      ]
     },
     "execution_count": 50,
     "metadata": {},
     "output_type": "execute_result"
    }
   ],
   "source": [
    "ratings['helpfulnessLevel'].value_counts(normalize=True)"
   ]
  },
  {
   "cell_type": "code",
   "execution_count": 96,
   "id": "5fbd3566",
   "metadata": {},
   "outputs": [
    {
     "data": {
      "text/plain": [
       "0    0.803984\n",
       "1    0.196016\n",
       "Name: agree, dtype: float64"
      ]
     },
     "execution_count": 96,
     "metadata": {},
     "output_type": "execute_result"
    }
   ],
   "source": [
    "ratings['agree'].value_counts(normalize=True)"
   ]
  },
  {
   "cell_type": "code",
   "execution_count": 97,
   "id": "c57166ae",
   "metadata": {},
   "outputs": [
    {
     "data": {
      "text/plain": [
       "0    0.923171\n",
       "1    0.076829\n",
       "Name: disagree, dtype: float64"
      ]
     },
     "execution_count": 97,
     "metadata": {},
     "output_type": "execute_result"
    }
   ],
   "source": [
    "ratings['disagree'].value_counts(normalize=True)"
   ]
  },
  {
   "cell_type": "code",
   "execution_count": 103,
   "id": "f8e00def",
   "metadata": {},
   "outputs": [
    {
     "data": {
      "text/plain": [
       "0.6976259685932855"
      ]
     },
     "execution_count": 103,
     "metadata": {},
     "output_type": "execute_result"
    }
   ],
   "source": [
    "len(ratings[~ratings['helpfulnessLevel'].isna()]) / len(ratings)"
   ]
  },
  {
   "cell_type": "code",
   "execution_count": 101,
   "id": "7543c290",
   "metadata": {},
   "outputs": [
    {
     "data": {
      "text/plain": [
       "0.6976259685932855"
      ]
     },
     "execution_count": 101,
     "metadata": {},
     "output_type": "execute_result"
    }
   ],
   "source": [
    "len(ratings[~ratings['helpfulnessLevel'].isna() & ~ratings['notHelpful'] & ~ratings['helpful']]) / len(ratings)"
   ]
  },
  {
   "cell_type": "code",
   "execution_count": 102,
   "id": "5432bd4b",
   "metadata": {},
   "outputs": [
    {
     "data": {
      "text/plain": [
       "0.004948986734080485"
      ]
     },
     "execution_count": 102,
     "metadata": {},
     "output_type": "execute_result"
    }
   ],
   "source": [
    "len(ratings[ratings['helpfulnessLevel'].isna() & ~ratings['notHelpful'] & ~ratings['helpful']]) / len(ratings)"
   ]
  },
  {
   "cell_type": "code",
   "execution_count": 104,
   "id": "f3017675",
   "metadata": {},
   "outputs": [
    {
     "data": {
      "text/plain": [
       "0.297425044672634"
      ]
     },
     "execution_count": 104,
     "metadata": {},
     "output_type": "execute_result"
    }
   ],
   "source": [
    "len(ratings[ratings['helpfulnessLevel'].isna() & (ratings['notHelpful'] | ratings['helpful'])]) / len(ratings)"
   ]
  },
  {
   "cell_type": "code",
   "execution_count": 105,
   "id": "2e1298a5",
   "metadata": {},
   "outputs": [
    {
     "data": {
      "text/plain": [
       "0.04147761427547987"
      ]
     },
     "execution_count": 105,
     "metadata": {},
     "output_type": "execute_result"
    }
   ],
   "source": [
    "len(ratings[ratings['agree'] != ratings['helpful']]) / len(ratings)"
   ]
  },
  {
   "cell_type": "code",
   "execution_count": 106,
   "id": "5d12fdc7",
   "metadata": {},
   "outputs": [
    {
     "data": {
      "text/plain": [
       "0.03835670583585175"
      ]
     },
     "execution_count": 106,
     "metadata": {},
     "output_type": "execute_result"
    }
   ],
   "source": [
    "len(ratings[ratings['disagree'] != ratings['notHelpful']]) / len(ratings)"
   ]
  },
  {
   "cell_type": "code",
   "execution_count": 113,
   "id": "100ace47",
   "metadata": {},
   "outputs": [
    {
     "data": {
      "text/plain": [
       "Text(0, 0.5, 'Frequency')"
      ]
     },
     "execution_count": 113,
     "metadata": {},
     "output_type": "execute_result"
    },
    {
     "data": {
      "image/png": "[encoded data removed]",
      "text/plain": [
       "<Figure size 432x288 with 1 Axes>"
      ]
     },
     "metadata": {
      "needs_background": "light"
     },
     "output_type": "display_data"
    }
   ],
   "source": [
    "# number of ratings across notes\n",
    "plot = merged['noteId'].value_counts().hist()\n",
    "plot.set_xlabel(\"Number of ratings\")\n",
    "plot.set_ylabel(\"Frequency\")"
   ]
  },
  {
   "cell_type": "code",
   "execution_count": 143,
   "id": "58f456c6",
   "metadata": {},
   "outputs": [
    {
     "data": {
      "text/plain": [
       "215"
      ]
     },
     "execution_count": 143,
     "metadata": {},
     "output_type": "execute_result"
    }
   ],
   "source": [
    "max(merged['noteId'].value_counts())"
   ]
  },
  {
   "cell_type": "code",
   "execution_count": 115,
   "id": "2004d17c",
   "metadata": {},
   "outputs": [
    {
     "data": {
      "text/plain": [
       "Text(0, 0.5, 'Frequency')"
      ]
     },
     "execution_count": 115,
     "metadata": {},
     "output_type": "execute_result"
    },
    {
     "data": {
      "image/png": "[encoded data removed]",
      "text/plain": [
       "<Figure size 432x288 with 1 Axes>"
      ]
     },
     "metadata": {
      "needs_background": "light"
     },
     "output_type": "display_data"
    }
   ],
   "source": [
    "# number of notes across tweets\n",
    "plot = notes['tweetId'].value_counts().hist()\n",
    "plot.set_xlabel(\"Number of notes\")\n",
    "plot.set_ylabel(\"Frequency\")"
   ]
  },
  {
   "cell_type": "code",
   "execution_count": 119,
   "id": "17ff6a5a",
   "metadata": {},
   "outputs": [
    {
     "data": {
      "text/plain": [
       "61"
      ]
     },
     "execution_count": 119,
     "metadata": {},
     "output_type": "execute_result"
    }
   ],
   "source": [
    "max(notes['tweetId'].value_counts())"
   ]
  },
  {
   "cell_type": "code",
   "execution_count": 131,
   "id": "a9a95195",
   "metadata": {},
   "outputs": [
    {
     "data": {
      "text/plain": [
       "1.2611348383160463"
      ]
     },
     "execution_count": 131,
     "metadata": {},
     "output_type": "execute_result"
    }
   ],
   "source": [
    "notes[notes['classification'] == 'MISINFORMED_OR_POTENTIALLY_MISLEADING']['tweetId'].value_counts().mean()"
   ]
  },
  {
   "cell_type": "code",
   "execution_count": 133,
   "id": "0ec1afa1",
   "metadata": {},
   "outputs": [
    {
     "data": {
      "text/plain": [
       "1.1215702828197551"
      ]
     },
     "execution_count": 133,
     "metadata": {},
     "output_type": "execute_result"
    }
   ],
   "source": [
    "notes[notes['classification'] == 'NOT_MISLEADING']['tweetId'].value_counts().mean()"
   ]
  },
  {
   "cell_type": "code",
   "execution_count": 140,
   "id": "fec4745e",
   "metadata": {},
   "outputs": [
    {
     "data": {
      "text/plain": [
       "8.979969999117621"
      ]
     },
     "execution_count": 140,
     "metadata": {},
     "output_type": "execute_result"
    }
   ],
   "source": [
    "# average number of ratings across notes on misleading tweets\n",
    "merged_misleading = merged[merged['classification'] == 'MISINFORMED_OR_POTENTIALLY_MISLEADING']\n",
    "merged_misleading['noteId'].value_counts().mean()"
   ]
  },
  {
   "cell_type": "code",
   "execution_count": 141,
   "id": "03527410",
   "metadata": {},
   "outputs": [
    {
     "data": {
      "text/plain": [
       "12.592189500640204"
      ]
     },
     "execution_count": 141,
     "metadata": {},
     "output_type": "execute_result"
    }
   ],
   "source": [
    "# average number of ratings across notes on non-misleading tweets\n",
    "merged_not_misleading = merged[merged['classification'] == 'NOT_MISLEADING']\n",
    "merged_not_misleading['noteId'].value_counts().mean()"
   ]
  }
 ],
 "metadata": {
  "kernelspec": {
   "display_name": "Python 3",
   "language": "python",
   "name": "python3"
  },
  "language_info": {
   "codemirror_mode": {
    "name": "ipython",
    "version": 3
   },
   "file_extension": ".py",
   "mimetype": "text/x-python",
   "name": "python",
   "nbconvert_exporter": "python",
   "pygments_lexer": "ipython3",
   "version": "3.9.4"
  }
 },
 "nbformat": 4,
 "nbformat_minor": 5
}
