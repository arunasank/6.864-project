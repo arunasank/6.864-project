{
 "cells": [
  {
   "cell_type": "markdown",
   "metadata": {
    "collapsed": true,
    "pycharm": {
     "name": "#%% md\n"
    }
   },
   "source": [
    "# Perfect Classifier\n",
    "\n",
    "Here we build a model that picks the majority class for each note to get a sense\n",
    "for how good of a model we can build"
   ]
  },
  {
   "cell_type": "code",
   "execution_count": 1,
   "outputs": [
    {
     "name": "stderr",
     "output_type": "stream",
     "text": [
      "/Users/peterdeweirdt/opt/miniconda3/envs/6.864-project/lib/python3.8/site-packages/gensim/similarities/__init__.py:15: UserWarning: The gensim.similarities.levenshtein submodule is disabled, because the optional Levenshtein package <https://pypi.org/project/python-Levenshtein/> is unavailable. Install Levenhstein (e.g. `pip install python-Levenshtein`) to suppress this warning.\n",
      "  warnings.warn(msg)\n"
     ]
    }
   ],
   "source": [
    "import pandas as pd\n",
    "import gensim.downloader as api\n",
    "from gensim.models.word2vec import Word2Vec\n",
    "from collections import OrderedDict\n",
    "from tqdm import tqdm\n",
    "import nltk\n",
    "import numpy as np\n",
    "from sklearn.linear_model import LogisticRegression\n",
    "\n",
    "\n",
    "from core_functions import evaluate_model"
   ],
   "metadata": {
    "collapsed": false,
    "pycharm": {
     "name": "#%%\n"
    }
   }
  },
  {
   "cell_type": "code",
   "execution_count": 2,
   "outputs": [],
   "source": [
    "train_data = pd.read_csv('../data/processed/training_data.csv')\n",
    "val_data = pd.read_csv('../data/processed/val_data.csv')\n",
    "test_data = pd.read_csv('../data/processed/test_data.csv')"
   ],
   "metadata": {
    "collapsed": false,
    "pycharm": {
     "name": "#%%\n"
    }
   }
  },
  {
   "cell_type": "code",
   "execution_count": 3,
   "outputs": [],
   "source": [
    "datasets = OrderedDict([('train', {'notes': train_data.iloc[:,:22].drop_duplicates().reset_index(drop=True),\n",
    "                                   'notes_ratings': train_data}),\n",
    "                        ('val', {'notes': val_data.iloc[:, :22].drop_duplicates().reset_index(drop=True),\n",
    "                                 'notes_ratings': val_data}),\n",
    "                        ('test', {'notes': test_data.iloc[:, :22].drop_duplicates().reset_index(drop=True),\n",
    "                                  'notes_ratings': test_data})])"
   ],
   "metadata": {
    "collapsed": false,
    "pycharm": {
     "name": "#%%\n"
    }
   }
  },
  {
   "cell_type": "code",
   "execution_count": 5,
   "outputs": [
    {
     "data": {
      "text/plain": "                   noteId  frac_helpful\n0     1352796878438424576      0.571429\n1     1353415873227177985      0.777778\n2     1354602688097308676      1.000000\n3     1354630645385846789      0.888889\n4     1354635010423328769      1.000000\n...                   ...           ...\n8856  1453101343430881296      0.333333\n8857  1453111715743346692      0.636364\n8858  1453123162892296200      0.000000\n8859  1453131867545161733      1.000000\n8860  1453148814378881026      0.571429\n\n[8861 rows x 2 columns]",
      "text/html": "<div>\n<style scoped>\n    .dataframe tbody tr th:only-of-type {\n        vertical-align: middle;\n    }\n\n    .dataframe tbody tr th {\n        vertical-align: top;\n    }\n\n    .dataframe thead th {\n        text-align: right;\n    }\n</style>\n<table border=\"1\" class=\"dataframe\">\n  <thead>\n    <tr style=\"text-align: right;\">\n      <th></th>\n      <th>noteId</th>\n      <th>frac_helpful</th>\n    </tr>\n  </thead>\n  <tbody>\n    <tr>\n      <th>0</th>\n      <td>1352796878438424576</td>\n      <td>0.571429</td>\n    </tr>\n    <tr>\n      <th>1</th>\n      <td>1353415873227177985</td>\n      <td>0.777778</td>\n    </tr>\n    <tr>\n      <th>2</th>\n      <td>1354602688097308676</td>\n      <td>1.000000</td>\n    </tr>\n    <tr>\n      <th>3</th>\n      <td>1354630645385846789</td>\n      <td>0.888889</td>\n    </tr>\n    <tr>\n      <th>4</th>\n      <td>1354635010423328769</td>\n      <td>1.000000</td>\n    </tr>\n    <tr>\n      <th>...</th>\n      <td>...</td>\n      <td>...</td>\n    </tr>\n    <tr>\n      <th>8856</th>\n      <td>1453101343430881296</td>\n      <td>0.333333</td>\n    </tr>\n    <tr>\n      <th>8857</th>\n      <td>1453111715743346692</td>\n      <td>0.636364</td>\n    </tr>\n    <tr>\n      <th>8858</th>\n      <td>1453123162892296200</td>\n      <td>0.000000</td>\n    </tr>\n    <tr>\n      <th>8859</th>\n      <td>1453131867545161733</td>\n      <td>1.000000</td>\n    </tr>\n    <tr>\n      <th>8860</th>\n      <td>1453148814378881026</td>\n      <td>0.571429</td>\n    </tr>\n  </tbody>\n</table>\n<p>8861 rows × 2 columns</p>\n</div>"
     },
     "execution_count": 5,
     "metadata": {},
     "output_type": "execute_result"
    }
   ],
   "source": [
    "\n",
    "(train_data.groupby('noteId')\n",
    " .agg(frac_helpful = ('output', lambda y: y.sum()/len(y)))\n",
    " .reset_index())"
   ],
   "metadata": {
    "collapsed": false,
    "pycharm": {
     "name": "#%%\n"
    }
   }
  },
  {
   "cell_type": "code",
   "execution_count": 8,
   "outputs": [
    {
     "name": "stdout",
     "output_type": "stream",
     "text": [
      "train\n",
      "val\n",
      "test\n"
     ]
    }
   ],
   "source": [
    "for name, data_dict in datasets.items():\n",
    "    print(name)\n",
    "    note_ratings = data_dict['notes_ratings']\n",
    "    note_frac_helpful = (note_ratings.groupby('noteId')\n",
    "                         .agg(frac_helpful = ('output', lambda y: y.sum()/len(y)))\n",
    "                         .reset_index())\n",
    "    note_ratings = note_ratings.merge(note_frac_helpful)\n",
    "\n",
    "    predictions = (note_ratings['frac_helpful'] > 0.5).astype(int)\n",
    "    p_hat = note_ratings['frac_helpful']\n",
    "    observations = note_ratings['output']\n",
    "    scaling = note_ratings['scaling']\n",
    "    performance_dict = evaluate_model(predictions, p_hat, observations,\n",
    "                                      scaling, name)\n",
    "    data_dict['Y_hat'] = predictions\n",
    "    data_dict['p_hat'] = p_hat\n",
    "    data_dict['performance'] = performance_dict"
   ],
   "metadata": {
    "collapsed": false,
    "pycharm": {
     "name": "#%%\n"
    }
   }
  },
  {
   "cell_type": "code",
   "execution_count": 9,
   "outputs": [
    {
     "data": {
      "text/plain": "   accuracy        f1  precision    recall   roc-auc  avg_precision   name\n0  0.824039  0.861729   0.870714  0.852927  0.914400       0.950134  train\n1  0.816166  0.854324   0.858143  0.850538  0.907101       0.943484    val\n2  0.827049  0.863430   0.875387  0.851796  0.919277       0.953597   test",
      "text/html": "<div>\n<style scoped>\n    .dataframe tbody tr th:only-of-type {\n        vertical-align: middle;\n    }\n\n    .dataframe tbody tr th {\n        vertical-align: top;\n    }\n\n    .dataframe thead th {\n        text-align: right;\n    }\n</style>\n<table border=\"1\" class=\"dataframe\">\n  <thead>\n    <tr style=\"text-align: right;\">\n      <th></th>\n      <th>accuracy</th>\n      <th>f1</th>\n      <th>precision</th>\n      <th>recall</th>\n      <th>roc-auc</th>\n      <th>avg_precision</th>\n      <th>name</th>\n    </tr>\n  </thead>\n  <tbody>\n    <tr>\n      <th>0</th>\n      <td>0.824039</td>\n      <td>0.861729</td>\n      <td>0.870714</td>\n      <td>0.852927</td>\n      <td>0.914400</td>\n      <td>0.950134</td>\n      <td>train</td>\n    </tr>\n    <tr>\n      <th>1</th>\n      <td>0.816166</td>\n      <td>0.854324</td>\n      <td>0.858143</td>\n      <td>0.850538</td>\n      <td>0.907101</td>\n      <td>0.943484</td>\n      <td>val</td>\n    </tr>\n    <tr>\n      <th>2</th>\n      <td>0.827049</td>\n      <td>0.863430</td>\n      <td>0.875387</td>\n      <td>0.851796</td>\n      <td>0.919277</td>\n      <td>0.953597</td>\n      <td>test</td>\n    </tr>\n  </tbody>\n</table>\n</div>"
     },
     "execution_count": 9,
     "metadata": {},
     "output_type": "execute_result"
    }
   ],
   "source": [
    "performance_metrics = []\n",
    "for name, data_dict in datasets.items():\n",
    "    performance_metrics.append(data_dict['performance'])\n",
    "performance_metrics_df = pd.DataFrame(performance_metrics)\n",
    "performance_metrics_df"
   ],
   "metadata": {
    "collapsed": false,
    "pycharm": {
     "name": "#%%\n"
    }
   }
  },
  {
   "cell_type": "code",
   "execution_count": null,
   "outputs": [],
   "source": [],
   "metadata": {
    "collapsed": false,
    "pycharm": {
     "name": "#%%\n"
    }
   }
  }
 ],
 "metadata": {
  "kernelspec": {
   "display_name": "Python 3",
   "language": "python",
   "name": "python3"
  },
  "language_info": {
   "codemirror_mode": {
    "name": "ipython",
    "version": 2
   },
   "file_extension": ".py",
   "mimetype": "text/x-python",
   "name": "python",
   "nbconvert_exporter": "python",
   "pygments_lexer": "ipython2",
   "version": "2.7.6"
  }
 },
 "nbformat": 4,
 "nbformat_minor": 0
}