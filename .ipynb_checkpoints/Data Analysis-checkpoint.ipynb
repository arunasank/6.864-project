{
 "cells": [
  {
   "cell_type": "code",
   "execution_count": 17,
   "id": "dc299e52",
   "metadata": {},
   "outputs": [],
   "source": [
    "\n",
    "import pandas as pd\n",
    "import seaborn as sns\n",
    "from collections import Counter"
   ]
  },
  {
   "cell_type": "code",
   "execution_count": 2,
   "id": "7317d309",
   "metadata": {},
   "outputs": [],
   "source": [
    "notes = pd.read_csv('notes-00000.tsv', sep='\\t')\n",
    "ratings = pd.read_csv('ratings-00000.tsv', sep='\\t')"
   ]
  },
  {
   "cell_type": "code",
   "execution_count": 3,
   "id": "550afcd2",
   "metadata": {},
   "outputs": [
    {
     "data": {
      "text/html": [
       "<div>\n",
       "<style scoped>\n",
       "    .dataframe tbody tr th:only-of-type {\n",
       "        vertical-align: middle;\n",
       "    }\n",
       "\n",
       "    .dataframe tbody tr th {\n",
       "        vertical-align: top;\n",
       "    }\n",
       "\n",
       "    .dataframe thead th {\n",
       "        text-align: right;\n",
       "    }\n",
       "</style>\n",
       "<table border=\"1\" class=\"dataframe\">\n",
       "  <thead>\n",
       "    <tr style=\"text-align: right;\">\n",
       "      <th></th>\n",
       "      <th>noteId</th>\n",
       "      <th>participantId</th>\n",
       "      <th>createdAtMillis</th>\n",
       "      <th>tweetId</th>\n",
       "      <th>classification</th>\n",
       "      <th>believable</th>\n",
       "      <th>harmful</th>\n",
       "      <th>validationDifficulty</th>\n",
       "      <th>misleadingOther</th>\n",
       "      <th>misleadingFactualError</th>\n",
       "      <th>...</th>\n",
       "      <th>misleadingMissingImportantContext</th>\n",
       "      <th>misleadingUnverifiedClaimAsFact</th>\n",
       "      <th>misleadingSatire</th>\n",
       "      <th>notMisleadingOther</th>\n",
       "      <th>notMisleadingFactuallyCorrect</th>\n",
       "      <th>notMisleadingOutdatedButNotWhenWritten</th>\n",
       "      <th>notMisleadingClearlySatire</th>\n",
       "      <th>notMisleadingPersonalOpinion</th>\n",
       "      <th>trustworthySources</th>\n",
       "      <th>summary</th>\n",
       "    </tr>\n",
       "  </thead>\n",
       "  <tbody>\n",
       "    <tr>\n",
       "      <th>0</th>\n",
       "      <td>1354870745806086150</td>\n",
       "      <td>7EDD07641861C52611BCEB9F9BE7CD21</td>\n",
       "      <td>1611861332737</td>\n",
       "      <td>1353031711349739523</td>\n",
       "      <td>MISINFORMED_OR_POTENTIALLY_MISLEADING</td>\n",
       "      <td>BELIEVABLE_BY_MANY</td>\n",
       "      <td>CONSIDERABLE_HARM</td>\n",
       "      <td>CHALLENGING</td>\n",
       "      <td>0</td>\n",
       "      <td>1</td>\n",
       "      <td>...</td>\n",
       "      <td>1</td>\n",
       "      <td>0</td>\n",
       "      <td>1</td>\n",
       "      <td>0</td>\n",
       "      <td>0</td>\n",
       "      <td>0</td>\n",
       "      <td>0</td>\n",
       "      <td>0</td>\n",
       "      <td>1</td>\n",
       "      <td>This is a image of a Tweet that never occured,...</td>\n",
       "    </tr>\n",
       "    <tr>\n",
       "      <th>1</th>\n",
       "      <td>1355716996760023041</td>\n",
       "      <td>7EDD07641861C52611BCEB9F9BE7CD21</td>\n",
       "      <td>1612063094689</td>\n",
       "      <td>1355643797280083973</td>\n",
       "      <td>MISINFORMED_OR_POTENTIALLY_MISLEADING</td>\n",
       "      <td>BELIEVABLE_BY_MANY</td>\n",
       "      <td>CONSIDERABLE_HARM</td>\n",
       "      <td>EASY</td>\n",
       "      <td>0</td>\n",
       "      <td>1</td>\n",
       "      <td>...</td>\n",
       "      <td>1</td>\n",
       "      <td>0</td>\n",
       "      <td>0</td>\n",
       "      <td>0</td>\n",
       "      <td>0</td>\n",
       "      <td>0</td>\n",
       "      <td>0</td>\n",
       "      <td>0</td>\n",
       "      <td>1</td>\n",
       "      <td>BLM as an organization is not a terrorist orga...</td>\n",
       "    </tr>\n",
       "    <tr>\n",
       "      <th>2</th>\n",
       "      <td>1355989178622816256</td>\n",
       "      <td>7EDD07641861C52611BCEB9F9BE7CD21</td>\n",
       "      <td>1612127987903</td>\n",
       "      <td>1355529775197130753</td>\n",
       "      <td>MISINFORMED_OR_POTENTIALLY_MISLEADING</td>\n",
       "      <td>BELIEVABLE_BY_MANY</td>\n",
       "      <td>CONSIDERABLE_HARM</td>\n",
       "      <td>CHALLENGING</td>\n",
       "      <td>0</td>\n",
       "      <td>1</td>\n",
       "      <td>...</td>\n",
       "      <td>1</td>\n",
       "      <td>1</td>\n",
       "      <td>0</td>\n",
       "      <td>0</td>\n",
       "      <td>0</td>\n",
       "      <td>0</td>\n",
       "      <td>0</td>\n",
       "      <td>0</td>\n",
       "      <td>1</td>\n",
       "      <td>This post claims BLM as an organization does n...</td>\n",
       "    </tr>\n",
       "    <tr>\n",
       "      <th>3</th>\n",
       "      <td>1356735932087611399</td>\n",
       "      <td>7EDD07641861C52611BCEB9F9BE7CD21</td>\n",
       "      <td>1612306027803</td>\n",
       "      <td>1352754599590035459</td>\n",
       "      <td>MISINFORMED_OR_POTENTIALLY_MISLEADING</td>\n",
       "      <td>BELIEVABLE_BY_MANY</td>\n",
       "      <td>CONSIDERABLE_HARM</td>\n",
       "      <td>EASY</td>\n",
       "      <td>0</td>\n",
       "      <td>1</td>\n",
       "      <td>...</td>\n",
       "      <td>0</td>\n",
       "      <td>0</td>\n",
       "      <td>0</td>\n",
       "      <td>0</td>\n",
       "      <td>0</td>\n",
       "      <td>0</td>\n",
       "      <td>0</td>\n",
       "      <td>0</td>\n",
       "      <td>1</td>\n",
       "      <td>This claim is false. Carter, Ford and Nixon al...</td>\n",
       "    </tr>\n",
       "    <tr>\n",
       "      <th>4</th>\n",
       "      <td>1356747779113177095</td>\n",
       "      <td>7EDD07641861C52611BCEB9F9BE7CD21</td>\n",
       "      <td>1612308852353</td>\n",
       "      <td>1356441140959064064</td>\n",
       "      <td>MISINFORMED_OR_POTENTIALLY_MISLEADING</td>\n",
       "      <td>BELIEVABLE_BY_MANY</td>\n",
       "      <td>CONSIDERABLE_HARM</td>\n",
       "      <td>CHALLENGING</td>\n",
       "      <td>0</td>\n",
       "      <td>1</td>\n",
       "      <td>...</td>\n",
       "      <td>0</td>\n",
       "      <td>0</td>\n",
       "      <td>0</td>\n",
       "      <td>0</td>\n",
       "      <td>0</td>\n",
       "      <td>0</td>\n",
       "      <td>0</td>\n",
       "      <td>0</td>\n",
       "      <td>1</td>\n",
       "      <td>Neither BLM nor antifa were involved in the at...</td>\n",
       "    </tr>\n",
       "    <tr>\n",
       "      <th>...</th>\n",
       "      <td>...</td>\n",
       "      <td>...</td>\n",
       "      <td>...</td>\n",
       "      <td>...</td>\n",
       "      <td>...</td>\n",
       "      <td>...</td>\n",
       "      <td>...</td>\n",
       "      <td>...</td>\n",
       "      <td>...</td>\n",
       "      <td>...</td>\n",
       "      <td>...</td>\n",
       "      <td>...</td>\n",
       "      <td>...</td>\n",
       "      <td>...</td>\n",
       "      <td>...</td>\n",
       "      <td>...</td>\n",
       "      <td>...</td>\n",
       "      <td>...</td>\n",
       "      <td>...</td>\n",
       "      <td>...</td>\n",
       "      <td>...</td>\n",
       "    </tr>\n",
       "    <tr>\n",
       "      <th>19188</th>\n",
       "      <td>1441550385357811719</td>\n",
       "      <td>00DBE37DBD6AD303B0ED1547DD60867D</td>\n",
       "      <td>1632527369236</td>\n",
       "      <td>1441544289209704451</td>\n",
       "      <td>MISINFORMED_OR_POTENTIALLY_MISLEADING</td>\n",
       "      <td>BELIEVABLE_BY_MANY</td>\n",
       "      <td>LITTLE_HARM</td>\n",
       "      <td>EASY</td>\n",
       "      <td>0</td>\n",
       "      <td>0</td>\n",
       "      <td>...</td>\n",
       "      <td>1</td>\n",
       "      <td>1</td>\n",
       "      <td>0</td>\n",
       "      <td>0</td>\n",
       "      <td>0</td>\n",
       "      <td>0</td>\n",
       "      <td>0</td>\n",
       "      <td>0</td>\n",
       "      <td>1</td>\n",
       "      <td>While the presence of a &amp;quot;rift&amp;quot; betwe...</td>\n",
       "    </tr>\n",
       "    <tr>\n",
       "      <th>19189</th>\n",
       "      <td>1441551497670524933</td>\n",
       "      <td>00DBE37DBD6AD303B0ED1547DD60867D</td>\n",
       "      <td>1632527634435</td>\n",
       "      <td>1441548083616227328</td>\n",
       "      <td>MISINFORMED_OR_POTENTIALLY_MISLEADING</td>\n",
       "      <td>BELIEVABLE_BY_FEW</td>\n",
       "      <td>CONSIDERABLE_HARM</td>\n",
       "      <td>EASY</td>\n",
       "      <td>0</td>\n",
       "      <td>1</td>\n",
       "      <td>...</td>\n",
       "      <td>1</td>\n",
       "      <td>0</td>\n",
       "      <td>0</td>\n",
       "      <td>0</td>\n",
       "      <td>0</td>\n",
       "      <td>0</td>\n",
       "      <td>0</td>\n",
       "      <td>0</td>\n",
       "      <td>1</td>\n",
       "      <td>The United States does not currently support a...</td>\n",
       "    </tr>\n",
       "    <tr>\n",
       "      <th>19190</th>\n",
       "      <td>1441627211849613315</td>\n",
       "      <td>00DBE37DBD6AD303B0ED1547DD60867D</td>\n",
       "      <td>1632545686101</td>\n",
       "      <td>1441615295790018564</td>\n",
       "      <td>MISINFORMED_OR_POTENTIALLY_MISLEADING</td>\n",
       "      <td>BELIEVABLE_BY_MANY</td>\n",
       "      <td>CONSIDERABLE_HARM</td>\n",
       "      <td>EASY</td>\n",
       "      <td>0</td>\n",
       "      <td>1</td>\n",
       "      <td>...</td>\n",
       "      <td>0</td>\n",
       "      <td>0</td>\n",
       "      <td>0</td>\n",
       "      <td>0</td>\n",
       "      <td>0</td>\n",
       "      <td>0</td>\n",
       "      <td>0</td>\n",
       "      <td>0</td>\n",
       "      <td>1</td>\n",
       "      <td>The 2020 election was completely free, fair, a...</td>\n",
       "    </tr>\n",
       "    <tr>\n",
       "      <th>19191</th>\n",
       "      <td>1442034001456230405</td>\n",
       "      <td>00DBE37DBD6AD303B0ED1547DD60867D</td>\n",
       "      <td>1632642672301</td>\n",
       "      <td>1441981268871290884</td>\n",
       "      <td>MISINFORMED_OR_POTENTIALLY_MISLEADING</td>\n",
       "      <td>BELIEVABLE_BY_MANY</td>\n",
       "      <td>CONSIDERABLE_HARM</td>\n",
       "      <td>EASY</td>\n",
       "      <td>0</td>\n",
       "      <td>1</td>\n",
       "      <td>...</td>\n",
       "      <td>1</td>\n",
       "      <td>1</td>\n",
       "      <td>0</td>\n",
       "      <td>0</td>\n",
       "      <td>0</td>\n",
       "      <td>0</td>\n",
       "      <td>0</td>\n",
       "      <td>0</td>\n",
       "      <td>1</td>\n",
       "      <td>All of the FDA-approved COVID-19 vaccines are ...</td>\n",
       "    </tr>\n",
       "    <tr>\n",
       "      <th>19192</th>\n",
       "      <td>1436173412213268480</td>\n",
       "      <td>9508AB6385898F3FCEE0EE262D0E55DB</td>\n",
       "      <td>1631245398940</td>\n",
       "      <td>1436065906577268745</td>\n",
       "      <td>MISINFORMED_OR_POTENTIALLY_MISLEADING</td>\n",
       "      <td>BELIEVABLE_BY_FEW</td>\n",
       "      <td>CONSIDERABLE_HARM</td>\n",
       "      <td>CHALLENGING</td>\n",
       "      <td>0</td>\n",
       "      <td>1</td>\n",
       "      <td>...</td>\n",
       "      <td>0</td>\n",
       "      <td>1</td>\n",
       "      <td>0</td>\n",
       "      <td>0</td>\n",
       "      <td>0</td>\n",
       "      <td>0</td>\n",
       "      <td>0</td>\n",
       "      <td>0</td>\n",
       "      <td>1</td>\n",
       "      <td>9/11 actually did happen and it wasn?t planned...</td>\n",
       "    </tr>\n",
       "  </tbody>\n",
       "</table>\n",
       "<p>19193 rows × 22 columns</p>\n",
       "</div>"
      ],
      "text/plain": [
       "                    noteId                     participantId  createdAtMillis  \\\n",
       "0      1354870745806086150  7EDD07641861C52611BCEB9F9BE7CD21    1611861332737   \n",
       "1      1355716996760023041  7EDD07641861C52611BCEB9F9BE7CD21    1612063094689   \n",
       "2      1355989178622816256  7EDD07641861C52611BCEB9F9BE7CD21    1612127987903   \n",
       "3      1356735932087611399  7EDD07641861C52611BCEB9F9BE7CD21    1612306027803   \n",
       "4      1356747779113177095  7EDD07641861C52611BCEB9F9BE7CD21    1612308852353   \n",
       "...                    ...                               ...              ...   \n",
       "19188  1441550385357811719  00DBE37DBD6AD303B0ED1547DD60867D    1632527369236   \n",
       "19189  1441551497670524933  00DBE37DBD6AD303B0ED1547DD60867D    1632527634435   \n",
       "19190  1441627211849613315  00DBE37DBD6AD303B0ED1547DD60867D    1632545686101   \n",
       "19191  1442034001456230405  00DBE37DBD6AD303B0ED1547DD60867D    1632642672301   \n",
       "19192  1436173412213268480  9508AB6385898F3FCEE0EE262D0E55DB    1631245398940   \n",
       "\n",
       "                   tweetId                         classification  \\\n",
       "0      1353031711349739523  MISINFORMED_OR_POTENTIALLY_MISLEADING   \n",
       "1      1355643797280083973  MISINFORMED_OR_POTENTIALLY_MISLEADING   \n",
       "2      1355529775197130753  MISINFORMED_OR_POTENTIALLY_MISLEADING   \n",
       "3      1352754599590035459  MISINFORMED_OR_POTENTIALLY_MISLEADING   \n",
       "4      1356441140959064064  MISINFORMED_OR_POTENTIALLY_MISLEADING   \n",
       "...                    ...                                    ...   \n",
       "19188  1441544289209704451  MISINFORMED_OR_POTENTIALLY_MISLEADING   \n",
       "19189  1441548083616227328  MISINFORMED_OR_POTENTIALLY_MISLEADING   \n",
       "19190  1441615295790018564  MISINFORMED_OR_POTENTIALLY_MISLEADING   \n",
       "19191  1441981268871290884  MISINFORMED_OR_POTENTIALLY_MISLEADING   \n",
       "19192  1436065906577268745  MISINFORMED_OR_POTENTIALLY_MISLEADING   \n",
       "\n",
       "               believable            harmful validationDifficulty  \\\n",
       "0      BELIEVABLE_BY_MANY  CONSIDERABLE_HARM          CHALLENGING   \n",
       "1      BELIEVABLE_BY_MANY  CONSIDERABLE_HARM                 EASY   \n",
       "2      BELIEVABLE_BY_MANY  CONSIDERABLE_HARM          CHALLENGING   \n",
       "3      BELIEVABLE_BY_MANY  CONSIDERABLE_HARM                 EASY   \n",
       "4      BELIEVABLE_BY_MANY  CONSIDERABLE_HARM          CHALLENGING   \n",
       "...                   ...                ...                  ...   \n",
       "19188  BELIEVABLE_BY_MANY        LITTLE_HARM                 EASY   \n",
       "19189   BELIEVABLE_BY_FEW  CONSIDERABLE_HARM                 EASY   \n",
       "19190  BELIEVABLE_BY_MANY  CONSIDERABLE_HARM                 EASY   \n",
       "19191  BELIEVABLE_BY_MANY  CONSIDERABLE_HARM                 EASY   \n",
       "19192   BELIEVABLE_BY_FEW  CONSIDERABLE_HARM          CHALLENGING   \n",
       "\n",
       "       misleadingOther  misleadingFactualError  ...  \\\n",
       "0                    0                       1  ...   \n",
       "1                    0                       1  ...   \n",
       "2                    0                       1  ...   \n",
       "3                    0                       1  ...   \n",
       "4                    0                       1  ...   \n",
       "...                ...                     ...  ...   \n",
       "19188                0                       0  ...   \n",
       "19189                0                       1  ...   \n",
       "19190                0                       1  ...   \n",
       "19191                0                       1  ...   \n",
       "19192                0                       1  ...   \n",
       "\n",
       "       misleadingMissingImportantContext  misleadingUnverifiedClaimAsFact  \\\n",
       "0                                      1                                0   \n",
       "1                                      1                                0   \n",
       "2                                      1                                1   \n",
       "3                                      0                                0   \n",
       "4                                      0                                0   \n",
       "...                                  ...                              ...   \n",
       "19188                                  1                                1   \n",
       "19189                                  1                                0   \n",
       "19190                                  0                                0   \n",
       "19191                                  1                                1   \n",
       "19192                                  0                                1   \n",
       "\n",
       "       misleadingSatire  notMisleadingOther  notMisleadingFactuallyCorrect  \\\n",
       "0                     1                   0                              0   \n",
       "1                     0                   0                              0   \n",
       "2                     0                   0                              0   \n",
       "3                     0                   0                              0   \n",
       "4                     0                   0                              0   \n",
       "...                 ...                 ...                            ...   \n",
       "19188                 0                   0                              0   \n",
       "19189                 0                   0                              0   \n",
       "19190                 0                   0                              0   \n",
       "19191                 0                   0                              0   \n",
       "19192                 0                   0                              0   \n",
       "\n",
       "       notMisleadingOutdatedButNotWhenWritten  notMisleadingClearlySatire  \\\n",
       "0                                           0                           0   \n",
       "1                                           0                           0   \n",
       "2                                           0                           0   \n",
       "3                                           0                           0   \n",
       "4                                           0                           0   \n",
       "...                                       ...                         ...   \n",
       "19188                                       0                           0   \n",
       "19189                                       0                           0   \n",
       "19190                                       0                           0   \n",
       "19191                                       0                           0   \n",
       "19192                                       0                           0   \n",
       "\n",
       "       notMisleadingPersonalOpinion  trustworthySources  \\\n",
       "0                                 0                   1   \n",
       "1                                 0                   1   \n",
       "2                                 0                   1   \n",
       "3                                 0                   1   \n",
       "4                                 0                   1   \n",
       "...                             ...                 ...   \n",
       "19188                             0                   1   \n",
       "19189                             0                   1   \n",
       "19190                             0                   1   \n",
       "19191                             0                   1   \n",
       "19192                             0                   1   \n",
       "\n",
       "                                                 summary  \n",
       "0      This is a image of a Tweet that never occured,...  \n",
       "1      BLM as an organization is not a terrorist orga...  \n",
       "2      This post claims BLM as an organization does n...  \n",
       "3      This claim is false. Carter, Ford and Nixon al...  \n",
       "4      Neither BLM nor antifa were involved in the at...  \n",
       "...                                                  ...  \n",
       "19188  While the presence of a &quot;rift&quot; betwe...  \n",
       "19189  The United States does not currently support a...  \n",
       "19190  The 2020 election was completely free, fair, a...  \n",
       "19191  All of the FDA-approved COVID-19 vaccines are ...  \n",
       "19192  9/11 actually did happen and it wasn?t planned...  \n",
       "\n",
       "[19193 rows x 22 columns]"
      ]
     },
     "execution_count": 3,
     "metadata": {},
     "output_type": "execute_result"
    }
   ],
   "source": [
    "notes"
   ]
  },
  {
   "cell_type": "code",
   "execution_count": 18,
   "id": "e6376015",
   "metadata": {},
   "outputs": [
    {
     "data": {
      "text/plain": [
       "Index(['noteId', 'participantId', 'createdAtMillis', 'tweetId',\n",
       "       'classification', 'believable', 'harmful', 'validationDifficulty',\n",
       "       'misleadingOther', 'misleadingFactualError',\n",
       "       'misleadingManipulatedMedia', 'misleadingOutdatedInformation',\n",
       "       'misleadingMissingImportantContext', 'misleadingUnverifiedClaimAsFact',\n",
       "       'misleadingSatire', 'notMisleadingOther',\n",
       "       'notMisleadingFactuallyCorrect',\n",
       "       'notMisleadingOutdatedButNotWhenWritten', 'notMisleadingClearlySatire',\n",
       "       'notMisleadingPersonalOpinion', 'trustworthySources', 'summary'],\n",
       "      dtype='object')"
      ]
     },
     "execution_count": 18,
     "metadata": {},
     "output_type": "execute_result"
    }
   ],
   "source": [
    "notes.columns"
   ]
  },
  {
   "cell_type": "code",
   "execution_count": 17,
   "id": "df8a22b6",
   "metadata": {},
   "outputs": [
    {
     "data": {
      "text/plain": [
       "Index(['noteId', 'participantId', 'createdAtMillis', 'version', 'agree',\n",
       "       'disagree', 'helpful', 'notHelpful', 'helpfulnessLevel', 'helpfulOther',\n",
       "       'helpfulInformative', 'helpfulClear', 'helpfulEmpathetic',\n",
       "       'helpfulGoodSources', 'helpfulUniqueContext', 'helpfulAddressesClaim',\n",
       "       'helpfulImportantContext', 'notHelpfulOther', 'notHelpfulIncorrect',\n",
       "       'notHelpfulSourcesMissingOrUnreliable',\n",
       "       'notHelpfulOpinionSpeculationOrBias', 'notHelpfulMissingKeyPoints',\n",
       "       'notHelpfulOutdated', 'notHelpfulHardToUnderstand',\n",
       "       'notHelpfulArgumentativeOrInflammatory', 'notHelpfulOffTopic',\n",
       "       'notHelpfulSpamHarassmentOrAbuse', 'notHelpfulIrrelevantSources'],\n",
       "      dtype='object')"
      ]
     },
     "execution_count": 17,
     "metadata": {},
     "output_type": "execute_result"
    }
   ],
   "source": [
    "ratings.columns"
   ]
  },
  {
   "cell_type": "code",
   "execution_count": 19,
   "id": "ee2031ea",
   "metadata": {},
   "outputs": [
    {
     "data": {
      "text/plain": [
       "3262"
      ]
     },
     "execution_count": 19,
     "metadata": {},
     "output_type": "execute_result"
    }
   ],
   "source": [
    "notes.participantId.nunique()"
   ]
  },
  {
   "cell_type": "code",
   "execution_count": 20,
   "id": "28808626",
   "metadata": {},
   "outputs": [
    {
     "data": {
      "text/plain": [
       "noteId                                    19193\n",
       "participantId                              3262\n",
       "createdAtMillis                           19193\n",
       "tweetId                                   14579\n",
       "classification                                2\n",
       "believable                                    2\n",
       "harmful                                       2\n",
       "validationDifficulty                          2\n",
       "misleadingOther                               2\n",
       "misleadingFactualError                        2\n",
       "misleadingManipulatedMedia                    2\n",
       "misleadingOutdatedInformation                 2\n",
       "misleadingMissingImportantContext             2\n",
       "misleadingUnverifiedClaimAsFact               2\n",
       "misleadingSatire                              2\n",
       "notMisleadingOther                            2\n",
       "notMisleadingFactuallyCorrect                 2\n",
       "notMisleadingOutdatedButNotWhenWritten        2\n",
       "notMisleadingClearlySatire                    2\n",
       "notMisleadingPersonalOpinion                  2\n",
       "trustworthySources                            2\n",
       "summary                                   16458\n",
       "dtype: int64"
      ]
     },
     "execution_count": 20,
     "metadata": {},
     "output_type": "execute_result"
    }
   ],
   "source": [
    "notes.nunique()"
   ]
  },
  {
   "cell_type": "markdown",
   "id": "d44c81cb",
   "metadata": {},
   "source": [
    "# Let's see what's in the notes"
   ]
  },
  {
   "cell_type": "code",
   "execution_count": 16,
   "id": "512f3448",
   "metadata": {},
   "outputs": [],
   "source": [
    "all_words = ' '.join([str(_) for _ in notes[\"summary\"].unique()])"
   ]
  },
  {
   "cell_type": "markdown",
   "id": "57ba9f0d",
   "metadata": {},
   "source": [
    "## What is most correlated with helpfulness?"
   ]
  },
  {
   "cell_type": "code",
   "execution_count": 10,
   "id": "d1642d00",
   "metadata": {
    "scrolled": true
   },
   "outputs": [
    {
     "data": {
      "text/plain": [
       "<AxesSubplot:>"
      ]
     },
     "execution_count": 10,
     "metadata": {},
     "output_type": "execute_result"
    },
    {
     "data": {
      "image/png": "[encoded data removed]",
      "text/plain": [
       "<Figure size 432x288 with 2 Axes>"
      ]
     },
     "metadata": {
      "needs_background": "light"
     },
     "output_type": "display_data"
    }
   ],
   "source": [
    "corr = ratings.corr()\n",
    "sns.heatmap(corr, \n",
    "        xticklabels=corr.columns,\n",
    "        yticklabels=corr.columns)\n",
    "# I guess nothing really useful here... Since these are all labels"
   ]
  },
  {
   "cell_type": "code",
   "execution_count": 18,
   "id": "4069920f",
   "metadata": {},
   "outputs": [
    {
     "data": {
      "text/plain": [
       "<AxesSubplot:>"
      ]
     },
     "execution_count": 18,
     "metadata": {},
     "output_type": "execute_result"
    },
    {
     "data": {
      "image/png": "[encoded data removed]",
      "text/plain": [
       "<Figure size 432x288 with 2 Axes>"
      ]
     },
     "metadata": {
      "needs_background": "light"
     },
     "output_type": "display_data"
    }
   ],
   "source": [
    "corr = notes.corr()\n",
    "sns.heatmap(corr, \n",
    "        xticklabels=corr.columns,\n",
    "        yticklabels=corr.columns)\n",
    "# No real interesting correlations here. "
   ]
  },
  {
   "cell_type": "markdown",
   "id": "cefaa93c",
   "metadata": {},
   "source": [
    "# Who are the users with the most helpful notes?"
   ]
  },
  {
   "cell_type": "code",
   "execution_count": 64,
   "id": "ef9e542c",
   "metadata": {},
   "outputs": [
    {
     "ename": "ValueError",
     "evalue": "No axis named helpfulnessLevel for object type DataFrame",
     "output_type": "error",
     "traceback": [
      "\u001b[0;31m---------------------------------------------------------------------------\u001b[0m",
      "\u001b[0;31mKeyError\u001b[0m                                  Traceback (most recent call last)",
      "\u001b[0;32m/usr/local/lib/python3.8/dist-packages/pandas/core/generic.py\u001b[0m in \u001b[0;36m_get_axis_number\u001b[0;34m(cls, axis)\u001b[0m\n\u001b[1;32m    367\u001b[0m         \u001b[0;32mtry\u001b[0m\u001b[0;34m:\u001b[0m\u001b[0;34m\u001b[0m\u001b[0;34m\u001b[0m\u001b[0m\n\u001b[0;32m--> 368\u001b[0;31m             \u001b[0;32mreturn\u001b[0m \u001b[0mcls\u001b[0m\u001b[0;34m.\u001b[0m\u001b[0m_AXIS_TO_AXIS_NUMBER\u001b[0m\u001b[0;34m[\u001b[0m\u001b[0maxis\u001b[0m\u001b[0;34m]\u001b[0m\u001b[0;34m\u001b[0m\u001b[0;34m\u001b[0m\u001b[0m\n\u001b[0m\u001b[1;32m    369\u001b[0m         \u001b[0;32mexcept\u001b[0m \u001b[0mKeyError\u001b[0m\u001b[0;34m:\u001b[0m\u001b[0;34m\u001b[0m\u001b[0;34m\u001b[0m\u001b[0m\n",
      "\u001b[0;31mKeyError\u001b[0m: 'helpfulnessLevel'",
      "\nDuring handling of the above exception, another exception occurred:\n",
      "\u001b[0;31mValueError\u001b[0m                                Traceback (most recent call last)",
      "\u001b[0;32m<ipython-input-64-73a456414bd2>\u001b[0m in \u001b[0;36m<module>\u001b[0;34m\u001b[0m\n\u001b[0;32m----> 1\u001b[0;31m \u001b[0mratings\u001b[0m\u001b[0;34m.\u001b[0m\u001b[0mloc\u001b[0m\u001b[0;34m[\u001b[0m\u001b[0mratings\u001b[0m\u001b[0;34m[\u001b[0m\u001b[0;34m'noteId'\u001b[0m\u001b[0;34m]\u001b[0m \u001b[0;34m==\u001b[0m \u001b[0;36m1436750958810251267\u001b[0m\u001b[0;34m]\u001b[0m\u001b[0;34m.\u001b[0m\u001b[0mcount\u001b[0m\u001b[0;34m(\u001b[0m\u001b[0;34m'helpfulnessLevel'\u001b[0m\u001b[0;34m)\u001b[0m\u001b[0;34m\u001b[0m\u001b[0;34m\u001b[0m\u001b[0m\n\u001b[0m",
      "\u001b[0;32m/usr/local/lib/python3.8/dist-packages/pandas/core/frame.py\u001b[0m in \u001b[0;36mcount\u001b[0;34m(self, axis, level, numeric_only)\u001b[0m\n\u001b[1;32m   8453\u001b[0m         \u001b[0mMyla\u001b[0m      \u001b[0;36m1\u001b[0m\u001b[0;34m\u001b[0m\u001b[0;34m\u001b[0m\u001b[0m\n\u001b[1;32m   8454\u001b[0m         \"\"\"\n\u001b[0;32m-> 8455\u001b[0;31m         \u001b[0maxis\u001b[0m \u001b[0;34m=\u001b[0m \u001b[0mself\u001b[0m\u001b[0;34m.\u001b[0m\u001b[0m_get_axis_number\u001b[0m\u001b[0;34m(\u001b[0m\u001b[0maxis\u001b[0m\u001b[0;34m)\u001b[0m\u001b[0;34m\u001b[0m\u001b[0;34m\u001b[0m\u001b[0m\n\u001b[0m\u001b[1;32m   8456\u001b[0m         \u001b[0;32mif\u001b[0m \u001b[0mlevel\u001b[0m \u001b[0;32mis\u001b[0m \u001b[0;32mnot\u001b[0m \u001b[0;32mNone\u001b[0m\u001b[0;34m:\u001b[0m\u001b[0;34m\u001b[0m\u001b[0;34m\u001b[0m\u001b[0m\n\u001b[1;32m   8457\u001b[0m             \u001b[0;32mreturn\u001b[0m \u001b[0mself\u001b[0m\u001b[0;34m.\u001b[0m\u001b[0m_count_level\u001b[0m\u001b[0;34m(\u001b[0m\u001b[0mlevel\u001b[0m\u001b[0;34m,\u001b[0m \u001b[0maxis\u001b[0m\u001b[0;34m=\u001b[0m\u001b[0maxis\u001b[0m\u001b[0;34m,\u001b[0m \u001b[0mnumeric_only\u001b[0m\u001b[0;34m=\u001b[0m\u001b[0mnumeric_only\u001b[0m\u001b[0;34m)\u001b[0m\u001b[0;34m\u001b[0m\u001b[0;34m\u001b[0m\u001b[0m\n",
      "\u001b[0;32m/usr/local/lib/python3.8/dist-packages/pandas/core/generic.py\u001b[0m in \u001b[0;36m_get_axis_number\u001b[0;34m(cls, axis)\u001b[0m\n\u001b[1;32m    368\u001b[0m             \u001b[0;32mreturn\u001b[0m \u001b[0mcls\u001b[0m\u001b[0;34m.\u001b[0m\u001b[0m_AXIS_TO_AXIS_NUMBER\u001b[0m\u001b[0;34m[\u001b[0m\u001b[0maxis\u001b[0m\u001b[0;34m]\u001b[0m\u001b[0;34m\u001b[0m\u001b[0;34m\u001b[0m\u001b[0m\n\u001b[1;32m    369\u001b[0m         \u001b[0;32mexcept\u001b[0m \u001b[0mKeyError\u001b[0m\u001b[0;34m:\u001b[0m\u001b[0;34m\u001b[0m\u001b[0;34m\u001b[0m\u001b[0m\n\u001b[0;32m--> 370\u001b[0;31m             \u001b[0;32mraise\u001b[0m \u001b[0mValueError\u001b[0m\u001b[0;34m(\u001b[0m\u001b[0;34mf\"No axis named {axis} for object type {cls.__name__}\"\u001b[0m\u001b[0;34m)\u001b[0m\u001b[0;34m\u001b[0m\u001b[0;34m\u001b[0m\u001b[0m\n\u001b[0m\u001b[1;32m    371\u001b[0m \u001b[0;34m\u001b[0m\u001b[0m\n\u001b[1;32m    372\u001b[0m     \u001b[0;34m@\u001b[0m\u001b[0mclassmethod\u001b[0m\u001b[0;34m\u001b[0m\u001b[0;34m\u001b[0m\u001b[0m\n",
      "\u001b[0;31mValueError\u001b[0m: No axis named helpfulnessLevel for object type DataFrame"
     ]
    }
   ],
   "source": [
    "ratings.loc[ratings['noteId'] == 1436750958810251267].count('helpfulnessLevel')"
   ]
  },
  {
   "cell_type": "markdown",
   "id": "26338b12",
   "metadata": {},
   "source": [
    "# How many unique users are commenting on tweets?"
   ]
  },
  {
   "cell_type": "code",
   "execution_count": null,
   "id": "a6296598",
   "metadata": {},
   "outputs": [],
   "source": []
  },
  {
   "cell_type": "markdown",
   "id": "af5d5375",
   "metadata": {},
   "source": [
    "# On average how many notes are on a tweet?"
   ]
  },
  {
   "cell_type": "markdown",
   "id": "5e6f9dc2",
   "metadata": {},
   "source": [
    "# Distribution of notes to tweets - corner cases"
   ]
  },
  {
   "cell_type": "markdown",
   "id": "52f38a29",
   "metadata": {},
   "source": [
    "# Top 10 notes with the most upvotes, and the tweet for it??\n"
   ]
  },
  {
   "cell_type": "markdown",
   "id": "b6af23eb",
   "metadata": {},
   "source": [
    "# Bottom 10 notes with no votes and the tweet for it?"
   ]
  },
  {
   "cell_type": "code",
   "execution_count": null,
   "id": "f1b19a9f",
   "metadata": {},
   "outputs": [],
   "source": []
  }
 ],
 "metadata": {
  "kernelspec": {
   "display_name": "Python 3 (ipykernel)",
   "language": "python",
   "name": "python3"
  },
  "language_info": {
   "codemirror_mode": {
    "name": "ipython",
    "version": 3
   },
   "file_extension": ".py",
   "mimetype": "text/x-python",
   "name": "python",
   "nbconvert_exporter": "python",
   "pygments_lexer": "ipython3",
   "version": "3.8.10"
  }
 },
 "nbformat": 4,
 "nbformat_minor": 5
}
