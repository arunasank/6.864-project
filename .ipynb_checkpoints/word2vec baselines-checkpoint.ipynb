{
 "cells": [
  {
   "cell_type": "code",
   "execution_count": 23,
   "id": "bc708392",
   "metadata": {},
   "outputs": [],
   "source": [
    "\n",
    "import pandas as pd\n",
    "import seaborn as sns\n",
    "from collections import Counter\n",
    "from sklearn.linear_model import LogisticRegression\n",
    "from sklearn.model_selection import train_test_split\n",
    "from sklearn import metrics\n",
    "import numpy as np\n",
    "import gensim"
   ]
  },
  {
   "cell_type": "code",
   "execution_count": 17,
   "id": "05baabef",
   "metadata": {},
   "outputs": [],
   "source": [
    "notes = pd.read_csv('notes-00000.tsv', sep='\\t')\n",
    "ratings = pd.read_csv('ratings-00000.tsv', sep='\\t')\n",
    "tweets = pd.read_csv('tweet_text2021.csv')\n",
    "train = pd.read_csv('train_split_v1.csv')\n",
    "test = pd.read_csv(\"test_split_v1.csv\")"
   ]
  },
  {
   "cell_type": "code",
   "execution_count": 11,
   "id": "2e4d39bd",
   "metadata": {},
   "outputs": [
    {
     "data": {
      "text/plain": [
       "Index(['noteId', 'participantId', 'createdAtMillis', 'tweetId',\n",
       "       'classification', 'believable', 'harmful', 'validationDifficulty',\n",
       "       'misleadingOther', 'misleadingFactualError',\n",
       "       'misleadingManipulatedMedia', 'misleadingOutdatedInformation',\n",
       "       'misleadingMissingImportantContext', 'misleadingUnverifiedClaimAsFact',\n",
       "       'misleadingSatire', 'notMisleadingOther',\n",
       "       'notMisleadingFactuallyCorrect',\n",
       "       'notMisleadingOutdatedButNotWhenWritten', 'notMisleadingClearlySatire',\n",
       "       'notMisleadingPersonalOpinion', 'trustworthySources', 'summary'],\n",
       "      dtype='object')"
      ]
     },
     "execution_count": 11,
     "metadata": {},
     "output_type": "execute_result"
    }
   ],
   "source": [
    "train.columns"
   ]
  },
  {
   "cell_type": "code",
   "execution_count": 18,
   "id": "a6b04244",
   "metadata": {},
   "outputs": [],
   "source": [
    "train_with_tweets = train.set_index(\"tweetId\").join(tweets.set_index(\"id\"))\n",
    "train_with_tweets = ratings.set_index(\"noteId\").join(train_with_tweets.set_index(\"noteId\"),lsuffix='_rating', rsuffix='_note')\n",
    "train_with_tweets = train_with_tweets[[\"text\", \"summary\", \"helpfulnessLevel\"]]\n",
    "train_with_tweets = train_with_tweets.dropna(subset=[\"helpfulnessLevel\"])\n",
    "train_with_tweets = train_with_tweets[train_with_tweets[\"helpfulnessLevel\"] != \"SOMEWHAT_HELPFUL\"]\n",
    "train_with_tweets.helpfulnessLevel.replace(('HELPFUL', 'NOT_HELPFUL'), (1, 0), inplace=True)\n",
    "\n",
    "test_with_tweets = test.set_index(\"tweetId\").join(tweets.set_index(\"id\"))\n",
    "test_with_tweets = ratings.set_index(\"noteId\").join(test_with_tweets.set_index(\"noteId\"),lsuffix='_rating', rsuffix='_note')\n",
    "test_with_tweets = test_with_tweets[[\"text\", \"summary\", \"helpfulnessLevel\"]]\n",
    "test_with_tweets = test_with_tweets.dropna(subset=[\"helpfulnessLevel\"])\n",
    "test_with_tweets = test_with_tweets[test_with_tweets[\"helpfulnessLevel\"] != \"SOMEWHAT_HELPFUL\"]\n",
    "test_with_tweets.helpfulnessLevel.replace(('HELPFUL', 'NOT_HELPFUL'), (1, 0), inplace=True)"
   ]
  },
  {
   "cell_type": "code",
   "execution_count": 21,
   "id": "e8aa606a",
   "metadata": {},
   "outputs": [
    {
     "data": {
      "text/plain": [
       "Index(['text', 'summary', 'helpfulnessLevel', 'combined'], dtype='object')"
      ]
     },
     "execution_count": 21,
     "metadata": {},
     "output_type": "execute_result"
    }
   ],
   "source": [
    "cols = ['summary', 'text']\n",
    "train_with_tweets['combined'] = train_with_tweets[cols].apply(lambda row: '_'.join(row.values.astype(str)), axis=1)\n",
    "test_with_tweets['combined'] = test_with_tweets[cols].apply(lambda row: '_'.join(row.values.astype(str)), axis=1)\n",
    "train_with_tweets.columns"
   ]
  },
  {
   "cell_type": "code",
   "execution_count": 22,
   "id": "027aca72",
   "metadata": {},
   "outputs": [
    {
     "data": {
      "text/html": [
       "<div>\n",
       "<style scoped>\n",
       "    .dataframe tbody tr th:only-of-type {\n",
       "        vertical-align: middle;\n",
       "    }\n",
       "\n",
       "    .dataframe tbody tr th {\n",
       "        vertical-align: top;\n",
       "    }\n",
       "\n",
       "    .dataframe thead th {\n",
       "        text-align: right;\n",
       "    }\n",
       "</style>\n",
       "<table border=\"1\" class=\"dataframe\">\n",
       "  <thead>\n",
       "    <tr style=\"text-align: right;\">\n",
       "      <th></th>\n",
       "      <th>text</th>\n",
       "      <th>summary</th>\n",
       "      <th>helpfulnessLevel</th>\n",
       "      <th>combined</th>\n",
       "    </tr>\n",
       "    <tr>\n",
       "      <th>noteId</th>\n",
       "      <th></th>\n",
       "      <th></th>\n",
       "      <th></th>\n",
       "      <th></th>\n",
       "    </tr>\n",
       "  </thead>\n",
       "  <tbody>\n",
       "    <tr>\n",
       "      <th>1354678831655735296</th>\n",
       "      <td>I love the stock market because when it goes u...</td>\n",
       "      <td>Fact Check: True    https://www.reuters.com/ar...</td>\n",
       "      <td>1</td>\n",
       "      <td>Fact Check: True    https://www.reuters.com/ar...</td>\n",
       "    </tr>\n",
       "    <tr>\n",
       "      <th>1354678831655735296</th>\n",
       "      <td>I love the stock market because when it goes u...</td>\n",
       "      <td>Fact Check: True    https://www.reuters.com/ar...</td>\n",
       "      <td>1</td>\n",
       "      <td>Fact Check: True    https://www.reuters.com/ar...</td>\n",
       "    </tr>\n",
       "    <tr>\n",
       "      <th>1354815735491518467</th>\n",
       "      <td>I love the stock market because when it goes u...</td>\n",
       "      <td>According to the 2019 Federal Reserve Survey o...</td>\n",
       "      <td>0</td>\n",
       "      <td>According to the 2019 Federal Reserve Survey o...</td>\n",
       "    </tr>\n",
       "    <tr>\n",
       "      <th>1354815735491518467</th>\n",
       "      <td>I love the stock market because when it goes u...</td>\n",
       "      <td>According to the 2019 Federal Reserve Survey o...</td>\n",
       "      <td>0</td>\n",
       "      <td>According to the 2019 Federal Reserve Survey o...</td>\n",
       "    </tr>\n",
       "    <tr>\n",
       "      <th>1354841703400820745</th>\n",
       "      <td>Amateur investors, perhaps propelled by a mix ...</td>\n",
       "      <td>This story misrepresents the GME short squeeze...</td>\n",
       "      <td>1</td>\n",
       "      <td>This story misrepresents the GME short squeeze...</td>\n",
       "    </tr>\n",
       "  </tbody>\n",
       "</table>\n",
       "</div>"
      ],
      "text/plain": [
       "                                                                  text  \\\n",
       "noteId                                                                   \n",
       "1354678831655735296  I love the stock market because when it goes u...   \n",
       "1354678831655735296  I love the stock market because when it goes u...   \n",
       "1354815735491518467  I love the stock market because when it goes u...   \n",
       "1354815735491518467  I love the stock market because when it goes u...   \n",
       "1354841703400820745  Amateur investors, perhaps propelled by a mix ...   \n",
       "\n",
       "                                                               summary  \\\n",
       "noteId                                                                   \n",
       "1354678831655735296  Fact Check: True    https://www.reuters.com/ar...   \n",
       "1354678831655735296  Fact Check: True    https://www.reuters.com/ar...   \n",
       "1354815735491518467  According to the 2019 Federal Reserve Survey o...   \n",
       "1354815735491518467  According to the 2019 Federal Reserve Survey o...   \n",
       "1354841703400820745  This story misrepresents the GME short squeeze...   \n",
       "\n",
       "                     helpfulnessLevel  \\\n",
       "noteId                                  \n",
       "1354678831655735296                 1   \n",
       "1354678831655735296                 1   \n",
       "1354815735491518467                 0   \n",
       "1354815735491518467                 0   \n",
       "1354841703400820745                 1   \n",
       "\n",
       "                                                              combined  \n",
       "noteId                                                                  \n",
       "1354678831655735296  Fact Check: True    https://www.reuters.com/ar...  \n",
       "1354678831655735296  Fact Check: True    https://www.reuters.com/ar...  \n",
       "1354815735491518467  According to the 2019 Federal Reserve Survey o...  \n",
       "1354815735491518467  According to the 2019 Federal Reserve Survey o...  \n",
       "1354841703400820745  This story misrepresents the GME short squeeze...  "
      ]
     },
     "execution_count": 22,
     "metadata": {},
     "output_type": "execute_result"
    }
   ],
   "source": [
    "train_with_tweets.head()"
   ]
  },
  {
   "cell_type": "markdown",
   "id": "fa8a2bf2",
   "metadata": {},
   "source": [
    "# Let's download pretrained word2vec"
   ]
  },
  {
   "cell_type": "code",
   "execution_count": 20,
   "id": "14642483",
   "metadata": {},
   "outputs": [
    {
     "name": "stdout",
     "output_type": "stream",
     "text": [
      "[==================================================] 100.0% 31.6/31.6MB downloaded\n",
      "[('trees', 0.7047148942947388), ('leaf', 0.6872522234916687), ('bark', 0.6528381109237671), ('bird', 0.6081185936927795), ('fruit', 0.6027373671531677), ('beetle', 0.5982184410095215), ('flower', 0.595430314540863), ('cactus', 0.5669288635253906), ('lizards', 0.5596849322319031), ('nest', 0.5566791296005249)]\n"
     ]
    }
   ],
   "source": [
    "import gensim.downloader as api\n",
    "from gensim.models.word2vec import Word2Vec\n",
    "\n",
    "corpus = api.load('text8')\n",
    "model = Word2Vec(corpus)\n",
    "print(model.wv.most_similar('tree'))"
   ]
  },
  {
   "cell_type": "markdown",
   "id": "47aecf15",
   "metadata": {},
   "source": [
    "# Let's try a simple averaging"
   ]
  },
  {
   "cell_type": "code",
   "execution_count": 26,
   "id": "52786eaa",
   "metadata": {},
   "outputs": [],
   "source": [
    "def add_average(model, df):\n",
    "    averages = []\n",
    "    for index, sentence in df[\"combined\"].items():\n",
    "        embeddings = []\n",
    "        for word in sentence.split(' '):\n",
    "            print(word)\n",
    "            embeddings.append(model.wv[word])\n",
    "        print(embeddings)\n",
    "        break\n",
    "    return df"
   ]
  },
  {
   "cell_type": "code",
   "execution_count": 27,
   "id": "562b8f3d",
   "metadata": {},
   "outputs": [
    {
     "name": "stdout",
     "output_type": "stream",
     "text": [
      "F\n"
     ]
    },
    {
     "ename": "KeyError",
     "evalue": "\"Key 'F' not present\"",
     "output_type": "error",
     "traceback": [
      "\u001b[0;31m---------------------------------------------------------------------------\u001b[0m",
      "\u001b[0;31mKeyError\u001b[0m                                  Traceback (most recent call last)",
      "\u001b[0;32m/tmp/ipykernel_543387/1963825006.py\u001b[0m in \u001b[0;36m<module>\u001b[0;34m\u001b[0m\n\u001b[0;32m----> 1\u001b[0;31m \u001b[0madd_average\u001b[0m\u001b[0;34m(\u001b[0m\u001b[0mmodel\u001b[0m\u001b[0;34m,\u001b[0m \u001b[0mtrain_with_tweets\u001b[0m\u001b[0;34m)\u001b[0m\u001b[0;34m\u001b[0m\u001b[0;34m\u001b[0m\u001b[0m\n\u001b[0m",
      "\u001b[0;32m/tmp/ipykernel_543387/1106221722.py\u001b[0m in \u001b[0;36madd_average\u001b[0;34m(model, df)\u001b[0m\n\u001b[1;32m      5\u001b[0m         \u001b[0;32mfor\u001b[0m \u001b[0mword\u001b[0m \u001b[0;32min\u001b[0m \u001b[0msentence\u001b[0m\u001b[0;34m:\u001b[0m\u001b[0;34m\u001b[0m\u001b[0;34m\u001b[0m\u001b[0m\n\u001b[1;32m      6\u001b[0m             \u001b[0mprint\u001b[0m\u001b[0;34m(\u001b[0m\u001b[0mword\u001b[0m\u001b[0;34m)\u001b[0m\u001b[0;34m\u001b[0m\u001b[0;34m\u001b[0m\u001b[0m\n\u001b[0;32m----> 7\u001b[0;31m             \u001b[0membeddings\u001b[0m\u001b[0;34m.\u001b[0m\u001b[0mappend\u001b[0m\u001b[0;34m(\u001b[0m\u001b[0mmodel\u001b[0m\u001b[0;34m.\u001b[0m\u001b[0mwv\u001b[0m\u001b[0;34m[\u001b[0m\u001b[0mword\u001b[0m\u001b[0;34m]\u001b[0m\u001b[0;34m)\u001b[0m\u001b[0;34m\u001b[0m\u001b[0;34m\u001b[0m\u001b[0m\n\u001b[0m\u001b[1;32m      8\u001b[0m         \u001b[0mprint\u001b[0m\u001b[0;34m(\u001b[0m\u001b[0membeddings\u001b[0m\u001b[0;34m)\u001b[0m\u001b[0;34m\u001b[0m\u001b[0;34m\u001b[0m\u001b[0m\n\u001b[1;32m      9\u001b[0m         \u001b[0;32mbreak\u001b[0m\u001b[0;34m\u001b[0m\u001b[0;34m\u001b[0m\u001b[0m\n",
      "\u001b[0;32m~/.virtualenvs/NLP/lib/python3.8/site-packages/gensim/models/keyedvectors.py\u001b[0m in \u001b[0;36m__getitem__\u001b[0;34m(self, key_or_keys)\u001b[0m\n\u001b[1;32m    393\u001b[0m         \"\"\"\n\u001b[1;32m    394\u001b[0m         \u001b[0;32mif\u001b[0m \u001b[0misinstance\u001b[0m\u001b[0;34m(\u001b[0m\u001b[0mkey_or_keys\u001b[0m\u001b[0;34m,\u001b[0m \u001b[0m_KEY_TYPES\u001b[0m\u001b[0;34m)\u001b[0m\u001b[0;34m:\u001b[0m\u001b[0;34m\u001b[0m\u001b[0;34m\u001b[0m\u001b[0m\n\u001b[0;32m--> 395\u001b[0;31m             \u001b[0;32mreturn\u001b[0m \u001b[0mself\u001b[0m\u001b[0;34m.\u001b[0m\u001b[0mget_vector\u001b[0m\u001b[0;34m(\u001b[0m\u001b[0mkey_or_keys\u001b[0m\u001b[0;34m)\u001b[0m\u001b[0;34m\u001b[0m\u001b[0;34m\u001b[0m\u001b[0m\n\u001b[0m\u001b[1;32m    396\u001b[0m \u001b[0;34m\u001b[0m\u001b[0m\n\u001b[1;32m    397\u001b[0m         \u001b[0;32mreturn\u001b[0m \u001b[0mvstack\u001b[0m\u001b[0;34m(\u001b[0m\u001b[0;34m[\u001b[0m\u001b[0mself\u001b[0m\u001b[0;34m.\u001b[0m\u001b[0mget_vector\u001b[0m\u001b[0;34m(\u001b[0m\u001b[0mkey\u001b[0m\u001b[0;34m)\u001b[0m \u001b[0;32mfor\u001b[0m \u001b[0mkey\u001b[0m \u001b[0;32min\u001b[0m \u001b[0mkey_or_keys\u001b[0m\u001b[0;34m]\u001b[0m\u001b[0;34m)\u001b[0m\u001b[0;34m\u001b[0m\u001b[0;34m\u001b[0m\u001b[0m\n",
      "\u001b[0;32m~/.virtualenvs/NLP/lib/python3.8/site-packages/gensim/models/keyedvectors.py\u001b[0m in \u001b[0;36mget_vector\u001b[0;34m(self, key, norm)\u001b[0m\n\u001b[1;32m    436\u001b[0m \u001b[0;34m\u001b[0m\u001b[0m\n\u001b[1;32m    437\u001b[0m         \"\"\"\n\u001b[0;32m--> 438\u001b[0;31m         \u001b[0mindex\u001b[0m \u001b[0;34m=\u001b[0m \u001b[0mself\u001b[0m\u001b[0;34m.\u001b[0m\u001b[0mget_index\u001b[0m\u001b[0;34m(\u001b[0m\u001b[0mkey\u001b[0m\u001b[0;34m)\u001b[0m\u001b[0;34m\u001b[0m\u001b[0;34m\u001b[0m\u001b[0m\n\u001b[0m\u001b[1;32m    439\u001b[0m         \u001b[0;32mif\u001b[0m \u001b[0mnorm\u001b[0m\u001b[0;34m:\u001b[0m\u001b[0;34m\u001b[0m\u001b[0;34m\u001b[0m\u001b[0m\n\u001b[1;32m    440\u001b[0m             \u001b[0mself\u001b[0m\u001b[0;34m.\u001b[0m\u001b[0mfill_norms\u001b[0m\u001b[0;34m(\u001b[0m\u001b[0;34m)\u001b[0m\u001b[0;34m\u001b[0m\u001b[0;34m\u001b[0m\u001b[0m\n",
      "\u001b[0;32m~/.virtualenvs/NLP/lib/python3.8/site-packages/gensim/models/keyedvectors.py\u001b[0m in \u001b[0;36mget_index\u001b[0;34m(self, key, default)\u001b[0m\n\u001b[1;32m    410\u001b[0m             \u001b[0;32mreturn\u001b[0m \u001b[0mdefault\u001b[0m\u001b[0;34m\u001b[0m\u001b[0;34m\u001b[0m\u001b[0m\n\u001b[1;32m    411\u001b[0m         \u001b[0;32melse\u001b[0m\u001b[0;34m:\u001b[0m\u001b[0;34m\u001b[0m\u001b[0;34m\u001b[0m\u001b[0m\n\u001b[0;32m--> 412\u001b[0;31m             \u001b[0;32mraise\u001b[0m \u001b[0mKeyError\u001b[0m\u001b[0;34m(\u001b[0m\u001b[0;34mf\"Key '{key}' not present\"\u001b[0m\u001b[0;34m)\u001b[0m\u001b[0;34m\u001b[0m\u001b[0;34m\u001b[0m\u001b[0m\n\u001b[0m\u001b[1;32m    413\u001b[0m \u001b[0;34m\u001b[0m\u001b[0m\n\u001b[1;32m    414\u001b[0m     \u001b[0;32mdef\u001b[0m \u001b[0mget_vector\u001b[0m\u001b[0;34m(\u001b[0m\u001b[0mself\u001b[0m\u001b[0;34m,\u001b[0m \u001b[0mkey\u001b[0m\u001b[0;34m,\u001b[0m \u001b[0mnorm\u001b[0m\u001b[0;34m=\u001b[0m\u001b[0;32mFalse\u001b[0m\u001b[0;34m)\u001b[0m\u001b[0;34m:\u001b[0m\u001b[0;34m\u001b[0m\u001b[0;34m\u001b[0m\u001b[0m\n",
      "\u001b[0;31mKeyError\u001b[0m: \"Key 'F' not present\""
     ]
    }
   ],
   "source": [
    "add_average(model, train_with_tweets)"
   ]
  }
 ],
 "metadata": {
  "kernelspec": {
   "display_name": "Python 3 (ipykernel)",
   "language": "python",
   "name": "python3"
  },
  "language_info": {
   "codemirror_mode": {
    "name": "ipython",
    "version": 3
   },
   "file_extension": ".py",
   "mimetype": "text/x-python",
   "name": "python",
   "nbconvert_exporter": "python",
   "pygments_lexer": "ipython3",
   "version": "3.8.10"
  }
 },
 "nbformat": 4,
 "nbformat_minor": 5
}
